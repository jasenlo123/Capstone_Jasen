{
 "cells": [
  {
   "cell_type": "code",
   "execution_count": 3,
   "metadata": {},
   "outputs": [],
   "source": [
    "#finds site map of entire domain\n",
    "from usp.tree import sitemap_tree_for_homepage\n",
    "\n",
    "#for saving and loading objects\n",
    "import pickle\n",
    "\n",
    "#for accessing url html\n",
    "import requests\n",
    "import urllib.request, urllib.parse, urllib.error\n",
    "from urllib.request import Request, urlopen\n",
    "\n",
    "#for html parsing\n",
    "from bs4 import BeautifulSoup\n",
    "\n",
    "#anxillary functions/methods\n",
    "import numpy as np\n",
    "import pandas as pd\n",
    "import time\n",
    "import random\n",
    "import datetime\n",
    "from dateutil.tz import tzutc, tzoffset\n",
    "from tqdm.notebook import tqdm\n",
    "\n",
    "#tree = sitemap_tree_for_homepage('https://www.scmp.com');\n"
   ]
  },
  {
   "cell_type": "code",
   "execution_count": 12,
   "metadata": {},
   "outputs": [
    {
     "name": "stdout",
     "output_type": "stream",
     "text": [
      "14178\n"
     ]
    }
   ],
   "source": [
    "all_urls = []\n",
    "\n",
    "for page in tree.all_pages():\n",
    "    all_urls.append(page.url)\n",
    "\n",
    "urls = []\n",
    "#only opinion pieces\n",
    "for url in all_urls:\n",
    "    if \"https://www.scmp.com/comment\" in url:\n",
    "        if \"https://www.scmp.com/comment/letters\" not in url:\n",
    "            urls.append(url)\n",
    "        \n",
    "pickle.dump(urls, open(\"SCMP_Opinion_URLS.p\", \"wb\" ) )\n",
    "print(len(urls))\n"
   ]
  },
  {
   "cell_type": "code",
   "execution_count": 5,
   "metadata": {},
   "outputs": [
    {
     "name": "stdout",
     "output_type": "stream",
     "text": [
      "SCMP_All_Articles.pkl SCMP_Opinion_URLS.p\r\n",
      "SCMP_Broken_Opinion.p SCMP_Opinions.pkl\r\n"
     ]
    }
   ],
   "source": [
    "!ls ../Pickles"
   ]
  },
  {
   "cell_type": "code",
   "execution_count": 6,
   "metadata": {},
   "outputs": [
    {
     "name": "stdout",
     "output_type": "stream",
     "text": [
      "14178\n"
     ]
    }
   ],
   "source": [
    "urls = pickle.load(open('../Pickles/SCMP_Opinion_URLS.p', 'rb'))\n",
    "print(len(urls))\n",
    "\n",
    "author = []\n",
    "title = []\n",
    "link = []\n",
    "summary = []\n",
    "date = []\n",
    "broken = []"
   ]
  },
  {
   "cell_type": "code",
   "execution_count": 4,
   "metadata": {},
   "outputs": [
    {
     "data": {
      "application/vnd.jupyter.widget-view+json": {
       "model_id": "a0a1631989f54cd0aff69fef72c5b80f",
       "version_major": 2,
       "version_minor": 0
      },
      "text/plain": [
       "HBox(children=(FloatProgress(value=0.0, max=14178.0), HTML(value='')))"
      ]
     },
     "metadata": {},
     "output_type": "display_data"
    },
    {
     "name": "stdout",
     "output_type": "stream",
     "text": [
      "URL number 149 is broken: https://www.scmp.com/comment/opinion/article/3092560/when-coronavirus-and-racism-collide-good-bad-and-ugly\n",
      "URL number 553 is broken: https://www.scmp.com/comment/opinion/article/3084609/ocean-park-not-too-big-fail-if-anything-it-has-failed-hong-kong-and\n",
      "URL number 605 is broken: https://www.scmp.com/comment/opinion/article/3083590/misguided-hong-kong-rebels-still-deserve-second-chance\n",
      "URL number 607 is broken: https://www.scmp.com/comment/insight-opinion/article/2148737/pro-beijing-lawmakers-do-right-thing-foreign-judges\n",
      "URL number 608 is broken: https://www.scmp.com/comment/insight-opinion/article/2148736/extra-effort-needed-stop-hong-kong-wasting-water\n",
      "URL number 611 is broken: https://www.scmp.com/comment/insight-opinion/united-states/article/2187216/china-has-right-its-own-economic-vision-us\n",
      "URL number 40 is broken: https://www.scmp.com/comment/opinion/article/3094628/hong-kong-elections-shameful-absence-women-politics\n",
      "URL number 382 is broken: https://www.scmp.com/comment/opinion/article/3088085/give-hong-kongs-poor-high-speed-internet-help-bridge-digital-divide\n",
      "URL number 384 is broken: https://www.scmp.com/comment/opinion/article/3088019/george-floyd-protests-rage-across-us-why-does-donald-trump-insist\n",
      "Dataset contains 1000 entries.\n",
      "URL number 1289 is broken: https://www.scmp.com/comment/opinion/article/3082209/hk-opposition-will-rue-day-they-turned-washington-help\n",
      "URL number 1334 is broken: https://www.scmp.com/comment/opinion/article/3081297/help-must-go-those-who-need-it-most-long-road-recovery\n",
      "URL number 1612 is broken: https://www.scmp.com/comment/opinion/article/3075845/crisis-no-time-play-blame-game\n",
      "Dataset contains 2000 entries.\n",
      "URL number 2154 is broken: https://www.scmp.com/comment/opinion/article/3045003/instead-us-china-decoupling-2020-should-bring-acceptance-different\n",
      "URL number 2788 is broken: https://www.scmp.com/comment/opinion/article/3032897/moderate-hongkongers-tired-radical-protesters-must-speak-through\n",
      "Dataset contains 3000 entries.\n",
      "URL number 3049 is broken: https://www.scmp.com/comment/opinion/article/3026595/battered-rail-network-must-be-given-easier-ride-sake-city\n",
      "URL number 3124 is broken: https://www.scmp.com/comment/opinion/article/3025261/if-carrie-lam-declares-emergency-hong-kong-she-will-be-defying-rule\n",
      "URL number 3900 is broken: https://www.scmp.com/comment/insight-opinion/article/3011546/its-belt-and-road-projects-china-risks-falling-biggest-debt\n",
      "URL number 3951 is broken: https://www.scmp.com/comment/insight-opinion/article/3010639/hong-kong-should-stop-telling-its-disaffected-youth-they\n",
      "Dataset contains 4000 entries.\n",
      "URL number 4294 is broken: https://www.scmp.com/comment/insight-opinion/article/3004360/hopes-hong-kong-also-ride-cathay-pacific\n",
      "URL number 4306 is broken: https://www.scmp.com/comment/insight-opinion/article/3004114/italy-joining-chinas-belt-and-road-initiative-highlights\n",
      "URL number 4534 is broken: https://www.scmp.com/comment/insight-opinion/united-states/article/2188177/south-koreas-moon-jae-may-be-biggest-loser\n",
      "URL number 4808 is broken: https://www.scmp.com/comment/insight-opinion/article/2182937/realignment-tunnel-tolls-long-overdue\n",
      "URL number 4890 is broken: https://www.scmp.com/comment/insight-opinion/hong-kong/article/2181286/end-era-hong-kong-steps-down-face-chinese\n",
      "URL number 4970 is broken: https://www.scmp.com/comment/insight-opinion/hong-kong/article/2179788/forget-air-quality-and-public-health-hong-kong\n",
      "Dataset contains 5000 entries.\n",
      "Dataset contains 6000 entries.\n",
      "URL number 6422 is broken: https://www.scmp.com/comment/insight-opinion/article/2149810/mtr-may-be-right-lines-public-flats\n",
      "Dataset contains 7000 entries.\n",
      "URL number 607 is broken: https://www.scmp.com/comment/insight-opinion/article/2148737/pro-beijing-lawmakers-do-right-thing-foreign-judges\n",
      "URL number 608 is broken: https://www.scmp.com/comment/insight-opinion/article/2148736/extra-effort-needed-stop-hong-kong-wasting-water\n",
      "URL number 536 is broken: https://www.scmp.com/comment/opinion/article/3084907/why-trumps-about-turn-us-dollar-right-money\n",
      "URL number 601 is broken: https://www.scmp.com/comment/opinion/article/3083663/it-public-suffers-when-house-out-order\n",
      "URL number 1390 is broken: https://www.scmp.com/comment/opinion/article/3080285/parties-must-honour-cuts-if-oil-deal-bring-some-relief\n",
      "URL number 1459 is broken: https://www.scmp.com/comment/opinion/article/3078842/hsbc-finds-itself-caught-between-rock-and-hard-place\n",
      "Dataset contains 8000 entries.\n",
      "URL number 2226 is broken: https://www.scmp.com/comment/opinion/article/3043793/facial-recognition-technology-needs-proper-regulation\n",
      "Dataset contains 9000 entries.\n",
      "URL number 3501 is broken: https://www.scmp.com/comment/opinion/article/3018502/brexit-uncertainty-makes-fearless-advice-paramount\n",
      "URL number 3564 is broken: https://www.scmp.com/comment/opinion/article/3017425/can-grand-dialogue-help-people-reflect-and-heal-divided-hong-kong\n",
      "Dataset contains 10000 entries.\n",
      "URL number 3721 is broken: https://www.scmp.com/comment/opinion/article/3014563/beijing-hong-kongs-extradition-protests-are-sealing-citys-fate-can\n",
      "URL number 4197 is broken: https://www.scmp.com/comment/insight-opinion/article/3006378/how-would-lee-kuan-yew-solve-hong-kongs-problems-housing\n",
      "Dataset contains 11000 entries.\n",
      "URL number 5261 is broken: https://www.scmp.com/comment/insight-opinion/asia/article/2173343/how-us-china-trade-war-will-make-or-break-asean\n",
      "Dataset contains 12000 entries.\n",
      "URL number 5992 is broken: https://www.scmp.com/comment/insight-opinion/article/2158351/true-purpose-banning-national-party\n",
      "URL number 6231 is broken: https://www.scmp.com/comment/insight-opinion/hong-kong/article/2153505/carrie-lams-first-year-paves-way-further-trust-and\n",
      "URL number 6245 is broken: https://www.scmp.com/comment/insight-opinion/article/2153283/whether-you-protest-or-celebrate-july-1-depends-your\n",
      "URL number 6347 is broken: https://www.scmp.com/comment/insight-opinion/article/2151172/what-next-after-vacancy-tax-developers-hoarding-empty-flats\n",
      "URL number 6413 is broken: https://www.scmp.com/comment/insight-opinion/article/2149997/chaos-only-winner-dab-votes-move\n",
      "URL number 6508 is broken: https://www.scmp.com/comment/insight-opinion/article/2147836/how-technology-and-innovation-can-help-hong-kong-remain-star\n",
      "URL number 6516 is broken: https://www.scmp.com/comment/insight-opinion/article/2147896/hong-kong-vehicle-free-zone-ends-sour-note\n",
      "Dataset contains 13000 entries.\n",
      "URL number 6699 is broken: https://www.scmp.com/comment/insight-opinion/article/2144244/new-hong-kong-stock-market-chief-must-use-all-her-skill-get\n",
      "URL number 6750 is broken: https://www.scmp.com/comment/insight-opinion/article/2143243/expect-unexpected-zte-and-starbucks-experiences-offer\n",
      "URL number 6779 is broken: https://www.scmp.com/comment/insight-opinion/article/2142720/police-must-respond-hong-kong-roadblock-worries\n",
      "URL number 607 is broken: https://www.scmp.com/comment/insight-opinion/article/2148737/pro-beijing-lawmakers-do-right-thing-foreign-judges\n",
      "URL number 608 is broken: https://www.scmp.com/comment/insight-opinion/article/2148736/extra-effort-needed-stop-hong-kong-wasting-water\n",
      "URL number 31 is broken: https://www.scmp.com/comment/opinion/article/3094771/ant-groups-plan-listing-shows-us-not-only-option\n",
      "URL number 82 is broken: https://www.scmp.com/comment/opinion/article/3093854/why-coronavirus-pandemic-will-turbocharge-investment-data-centres\n",
      "URL number 394 is broken: https://www.scmp.com/comment/opinion/article/3087825/never-bet-against-china\n",
      "Dataset contains 14000 entries.\n",
      "URL number 14165 is broken: https://www.scmp.com/comment/polls/poll/2185808/should-shop-rents-hong-kong-public-housing-estates-be-capped\n",
      "URL number 607 is broken: https://www.scmp.com/comment/insight-opinion/article/2148737/pro-beijing-lawmakers-do-right-thing-foreign-judges\n",
      "URL number 608 is broken: https://www.scmp.com/comment/insight-opinion/article/2148736/extra-effort-needed-stop-hong-kong-wasting-water\n",
      "\n"
     ]
    }
   ],
   "source": [
    "#using BS4 to request each html data\n",
    "for i in tqdm(urls):\n",
    "    try:\n",
    "        \n",
    "        req = Request(str(i), headers={'User-Agent': 'Mozilla/5.0'})\n",
    "        webpage = urlopen(req).read()\n",
    "        soup = BeautifulSoup(webpage, 'lxml')\n",
    "\n",
    "        by = soup.find(\"meta\", {\"name\": \"cse_author\"})\n",
    "        t = soup.find(\"meta\", {\"name\": \"cse_headline\"})\n",
    "        d = soup.find(\"meta\", {\"property\": \"article:published_time\"})\n",
    "        summ = soup.find(\"meta\", {\"name\": \"cse_summary\"})\n",
    "\n",
    "\n",
    "        if by and t and d and summ:\n",
    "            author.append(by[\"content\"])\n",
    "            title.append(t[\"content\"])\n",
    "            date.append(d[\"content\"])\n",
    "            summary.append(summ[\"content\"])\n",
    "            link.append(i)\n",
    "\n",
    "            if len(link)% 1000 == 0:\n",
    "                print(\"Dataset contains \" + str(len(link)) + \" entries.\")\n",
    "    except:\n",
    "        print(\"URL number \" + str(urls.index(i)) + \" is broken: \" + i )\n",
    "        broken.append(i)\n",
    "        pass"
   ]
  },
  {
   "cell_type": "code",
   "execution_count": 4,
   "metadata": {},
   "outputs": [
    {
     "ename": "NameError",
     "evalue": "name 'broken' is not defined",
     "output_type": "error",
     "traceback": [
      "\u001b[0;31m---------------------------------------------------------------------------\u001b[0m",
      "\u001b[0;31mNameError\u001b[0m                                 Traceback (most recent call last)",
      "\u001b[0;32m<ipython-input-4-52863010e387>\u001b[0m in \u001b[0;36m<module>\u001b[0;34m\u001b[0m\n\u001b[0;32m----> 1\u001b[0;31m \u001b[0mpickle\u001b[0m\u001b[0;34m.\u001b[0m\u001b[0mdump\u001b[0m\u001b[0;34m(\u001b[0m\u001b[0mbroken\u001b[0m\u001b[0;34m,\u001b[0m \u001b[0mopen\u001b[0m\u001b[0;34m(\u001b[0m\u001b[0;34m\"SCMP_Broken_Opinion.p\"\u001b[0m\u001b[0;34m,\u001b[0m \u001b[0;34m\"wb\"\u001b[0m \u001b[0;34m)\u001b[0m \u001b[0;34m)\u001b[0m\u001b[0;34m\u001b[0m\u001b[0;34m\u001b[0m\u001b[0m\n\u001b[0m\u001b[1;32m      2\u001b[0m \u001b[0;34m\u001b[0m\u001b[0m\n\u001b[1;32m      3\u001b[0m df = pd.DataFrame(list(zip(title, author, date, summary, link)), \n\u001b[1;32m      4\u001b[0m                columns =['Title', 'Author', 'Date', 'Summary','Link']) \n\u001b[1;32m      5\u001b[0m \u001b[0;34m\u001b[0m\u001b[0m\n",
      "\u001b[0;31mNameError\u001b[0m: name 'broken' is not defined"
     ]
    }
   ],
   "source": [
    "pickle.dump(broken, open(\"SCMP_Broken_Opinion.p\", \"wb\" ) )\n",
    "\n",
    "df = pd.DataFrame(list(zip(title, author, date, summary, link)), \n",
    "               columns =['Title', 'Author', 'Date', 'Summary','Link']) \n",
    "\n",
    "df.to_pickle(\"./SCMP_Opinions.pkl\")\n"
   ]
  },
  {
   "cell_type": "markdown",
   "metadata": {},
   "source": [
    "# Data Analysis"
   ]
  },
  {
   "cell_type": "code",
   "execution_count": 4,
   "metadata": {},
   "outputs": [],
   "source": [
    "df = pd.read_pickle(r'../Pickles/SCMP_Opinions.pkl')\n",
    "SCMPEditorial = df[df['Author'] == 'SCMP Editorial']\n",
    "SCMPEditorial = SCMPEditorial.reset_index(drop=True)"
   ]
  },
  {
   "cell_type": "code",
   "execution_count": 8,
   "metadata": {},
   "outputs": [
    {
     "data": {
      "text/plain": [
       "0        2020-07-31T05:21:58+08:00\n",
       "1        2020-07-31T05:15:48+08:00\n",
       "2        2020-07-31T04:00:48+08:00\n",
       "3        2020-07-30T00:44:25+08:00\n",
       "4        2020-07-30T00:20:19+08:00\n",
       "                   ...            \n",
       "14094    2020-05-09T22:40:26+08:00\n",
       "14095    2020-05-09T04:43:56+08:00\n",
       "14096    2020-05-09T04:12:05+08:00\n",
       "14097    2020-05-08T21:06:33+08:00\n",
       "14098    2020-05-11T06:30:22+08:00\n",
       "Name: Date, Length: 14099, dtype: object"
      ]
     },
     "execution_count": 8,
     "metadata": {},
     "output_type": "execute_result"
    }
   ],
   "source": [
    "df.Date"
   ]
  },
  {
   "cell_type": "code",
   "execution_count": null,
   "metadata": {},
   "outputs": [],
   "source": []
  }
 ],
 "metadata": {
  "kernelspec": {
   "display_name": "Python 3",
   "language": "python",
   "name": "python3"
  },
  "language_info": {
   "codemirror_mode": {
    "name": "ipython",
    "version": 3
   },
   "file_extension": ".py",
   "mimetype": "text/x-python",
   "name": "python",
   "nbconvert_exporter": "python",
   "pygments_lexer": "ipython3",
   "version": "3.7.6"
  }
 },
 "nbformat": 4,
 "nbformat_minor": 4
}
