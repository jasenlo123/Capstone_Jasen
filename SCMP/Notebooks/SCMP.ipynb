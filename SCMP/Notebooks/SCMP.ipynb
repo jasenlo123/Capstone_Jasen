{
 "cells": [
  {
   "cell_type": "code",
   "execution_count": 1,
   "metadata": {},
   "outputs": [
    {
     "name": "stderr",
     "output_type": "stream",
     "text": [
      "/opt/anaconda3/lib/python3.7/site-packages/ipykernel_launcher.py:23: FutureWarning: Passing a negative integer is deprecated in version 1.0 and will not be supported in future version. Instead, use None to not limit the column width.\n"
     ]
    }
   ],
   "source": [
    "#finds site map of entire domain\n",
    "from usp.tree import sitemap_tree_for_homepage\n",
    "\n",
    "#for saving and loading objects\n",
    "import pickle\n",
    "\n",
    "#for accessing url html\n",
    "import requests\n",
    "import urllib.request, urllib.parse, urllib.error\n",
    "from urllib.request import Request, urlopen\n",
    "\n",
    "#for html parsing\n",
    "from bs4 import BeautifulSoup\n",
    "\n",
    "#anxillary functions/methods\n",
    "import numpy as np\n",
    "import pandas as pd\n",
    "import time\n",
    "import random\n",
    "import datetime\n",
    "from dateutil.tz import tzutc, tzoffset\n",
    "\n",
    "pd.set_option('display.max_colwidth', -1)\n",
    "from tqdm import tqdm, trange\n",
    "import time"
   ]
  },
  {
   "cell_type": "markdown",
   "metadata": {},
   "source": [
    "# Sitemap"
   ]
  },
  {
   "cell_type": "code",
   "execution_count": null,
   "metadata": {},
   "outputs": [],
   "source": [
    "#SOUTH CHINA MORNING POST\n",
    "# scmp articles as of date 4/11/2020. \n",
    "#tree = sitemap_tree_for_homepage('https://www.scmp.com/hk');"
   ]
  },
  {
   "cell_type": "code",
   "execution_count": null,
   "metadata": {},
   "outputs": [],
   "source": [
    "urls = []\n",
    "dates = []\n",
    "for page in tree.all_pages():\n",
    "    urls.append(page.url)\n",
    "    dates.append(page.last_modified)"
   ]
  },
  {
   "cell_type": "code",
   "execution_count": null,
   "metadata": {
    "scrolled": false
   },
   "outputs": [],
   "source": [
    "!ls ../Pickles"
   ]
  },
  {
   "cell_type": "code",
   "execution_count": null,
   "metadata": {},
   "outputs": [],
   "source": [
    "#transpose\n",
    "zippedList =list(zip(urls,dates))\n",
    "\n",
    "#format into dataframe\n",
    "df = pd.DataFrame(zippedList, columns = ['urls' ,'date'])\n",
    "\n",
    "#drop nan for date published\n",
    "df = df.dropna()\n"
   ]
  },
  {
   "cell_type": "markdown",
   "metadata": {},
   "source": [
    "# Data Scrape"
   ]
  },
  {
   "cell_type": "code",
   "execution_count": 6,
   "metadata": {},
   "outputs": [
    {
     "name": "stderr",
     "output_type": "stream",
     "text": [
      "100%|██████████| 1413330/1413330 [01:21<00:00, 17324.32it/s]\n"
     ]
    }
   ],
   "source": [
    "#LOAD DATASET OF ALL SCRAPED URLS FROM SCMP\n",
    "with open('../Pickles/SCMP_All.pkl', 'rb') as f:\n",
    "    df = pickle.load(f)\n",
    "    \n",
    "#reset df index\n",
    "df = df.reset_index(drop = True)\n",
    "\n",
    "#find articles with \"Articles\" to exclude photos/video pages\n",
    "articles_only_urls = []\n",
    "for i in trange(len(df)-1):\n",
    "    if 'article' in df.urls[i] and 'hong-kong' in df.urls[i] and df.date[i].year == 2019:\n",
    "        articles_only_urls.append(df.urls[i])\n"
   ]
  },
  {
   "cell_type": "code",
   "execution_count": 10,
   "metadata": {},
   "outputs": [],
   "source": [
    "author = []\n",
    "title = []\n",
    "date = []\n",
    "summary = []\n",
    "link = []\n",
    "topic = []\n",
    "broken = []"
   ]
  },
  {
   "cell_type": "code",
   "execution_count": 11,
   "metadata": {},
   "outputs": [
    {
     "name": "stderr",
     "output_type": "stream",
     "text": [
      "  9%|▉         | 2015/22172 [1:11:19<7:59:19,  1.43s/it] "
     ]
    },
    {
     "name": "stdout",
     "output_type": "stream",
     "text": [
      "Dataset contains 1000 entries.\n"
     ]
    },
    {
     "name": "stderr",
     "output_type": "stream",
     "text": [
      " 10%|█         | 2327/22172 [1:23:44<8:23:35,  1.52s/it] "
     ]
    },
    {
     "name": "stdout",
     "output_type": "stream",
     "text": [
      "URL number 2326 is broken: https://www.scmp.com/comment/letters/article/3034473/want-better-future-hong-kong-start-ending-chaos-legislative-council\n"
     ]
    },
    {
     "name": "stderr",
     "output_type": "stream",
     "text": [
      " 14%|█▎        | 3017/22172 [1:46:50<11:56:44,  2.25s/it]"
     ]
    },
    {
     "name": "stdout",
     "output_type": "stream",
     "text": [
      "Dataset contains 2000 entries.\n"
     ]
    },
    {
     "name": "stderr",
     "output_type": "stream",
     "text": [
      " 18%|█▊        | 3935/22172 [2:15:42<78:34:24, 15.51s/it]"
     ]
    },
    {
     "name": "stdout",
     "output_type": "stream",
     "text": [
      "URL number 3934 is broken: https://www.scmp.com/lifestyle/health-wellness/article/3022101/womens-festival-hong-kong-edgier-more-daring-and-also-out\n"
     ]
    },
    {
     "name": "stderr",
     "output_type": "stream",
     "text": [
      " 18%|█▊        | 4018/22172 [2:18:09<8:27:13,  1.68s/it] "
     ]
    },
    {
     "name": "stdout",
     "output_type": "stream",
     "text": [
      "Dataset contains 3000 entries.\n"
     ]
    },
    {
     "name": "stderr",
     "output_type": "stream",
     "text": [
      " 24%|██▍       | 5289/22172 [2:56:58<15:36:46,  3.33s/it]"
     ]
    },
    {
     "name": "stdout",
     "output_type": "stream",
     "text": [
      "Dataset contains 4000 entries.\n"
     ]
    },
    {
     "name": "stderr",
     "output_type": "stream",
     "text": [
      " 26%|██▌       | 5798/22172 [3:11:04<9:57:21,  2.19s/it] "
     ]
    },
    {
     "name": "stdout",
     "output_type": "stream",
     "text": [
      "URL number 5797 is broken: https://www.scmp.com/photos/today-photos/article/1947455/pictures-10-top-moments-zhang-dejiangs-hong-kong-visit\n"
     ]
    },
    {
     "name": "stderr",
     "output_type": "stream",
     "text": [
      " 28%|██▊       | 6307/22172 [3:23:01<5:47:40,  1.31s/it] "
     ]
    },
    {
     "name": "stdout",
     "output_type": "stream",
     "text": [
      "Dataset contains 5000 entries.\n"
     ]
    },
    {
     "name": "stderr",
     "output_type": "stream",
     "text": [
      " 33%|███▎      | 7222/22172 [3:43:17<8:39:27,  2.08s/it]"
     ]
    },
    {
     "name": "stdout",
     "output_type": "stream",
     "text": [
      "URL number 2326 is broken: https://www.scmp.com/comment/letters/article/3034473/want-better-future-hong-kong-start-ending-chaos-legislative-council\n"
     ]
    },
    {
     "name": "stderr",
     "output_type": "stream",
     "text": [
      " 33%|███▎      | 7308/22172 [3:45:10<5:58:36,  1.45s/it]"
     ]
    },
    {
     "name": "stdout",
     "output_type": "stream",
     "text": [
      "Dataset contains 6000 entries.\n"
     ]
    },
    {
     "name": "stderr",
     "output_type": "stream",
     "text": [
      " 37%|███▋      | 8309/22172 [4:07:22<4:32:09,  1.18s/it]"
     ]
    },
    {
     "name": "stdout",
     "output_type": "stream",
     "text": [
      "Dataset contains 7000 entries.\n"
     ]
    },
    {
     "name": "stderr",
     "output_type": "stream",
     "text": [
      " 42%|████▏     | 9406/22172 [4:32:05<4:14:53,  1.20s/it]"
     ]
    },
    {
     "name": "stdout",
     "output_type": "stream",
     "text": [
      "Dataset contains 8000 entries.\n"
     ]
    },
    {
     "name": "stderr",
     "output_type": "stream",
     "text": [
      " 47%|████▋     | 10311/22172 [4:53:03<6:58:56,  2.12s/it]"
     ]
    },
    {
     "name": "stdout",
     "output_type": "stream",
     "text": [
      "URL number 5797 is broken: https://www.scmp.com/photos/today-photos/article/1947455/pictures-10-top-moments-zhang-dejiangs-hong-kong-visit\n"
     ]
    },
    {
     "name": "stderr",
     "output_type": "stream",
     "text": [
      " 48%|████▊     | 10582/22172 [4:59:19<5:13:37,  1.62s/it]"
     ]
    },
    {
     "name": "stdout",
     "output_type": "stream",
     "text": [
      "Dataset contains 9000 entries.\n"
     ]
    },
    {
     "name": "stderr",
     "output_type": "stream",
     "text": [
      " 50%|█████     | 11166/22172 [5:18:07<6:02:35,  1.98s/it] "
     ]
    },
    {
     "name": "stdout",
     "output_type": "stream",
     "text": [
      "URL number 5797 is broken: https://www.scmp.com/photos/today-photos/article/1947455/pictures-10-top-moments-zhang-dejiangs-hong-kong-visit\n"
     ]
    },
    {
     "name": "stderr",
     "output_type": "stream",
     "text": [
      " 52%|█████▏    | 11597/22172 [5:31:10<3:57:19,  1.35s/it] "
     ]
    },
    {
     "name": "stdout",
     "output_type": "stream",
     "text": [
      "Dataset contains 10000 entries.\n"
     ]
    },
    {
     "name": "stderr",
     "output_type": "stream",
     "text": [
      " 57%|█████▋    | 12622/22172 [5:59:53<4:12:33,  1.59s/it] "
     ]
    },
    {
     "name": "stdout",
     "output_type": "stream",
     "text": [
      "Dataset contains 11000 entries.\n"
     ]
    },
    {
     "name": "stderr",
     "output_type": "stream",
     "text": [
      " 62%|██████▏   | 13638/22172 [6:25:40<3:27:30,  1.46s/it] "
     ]
    },
    {
     "name": "stdout",
     "output_type": "stream",
     "text": [
      "Dataset contains 12000 entries.\n"
     ]
    },
    {
     "name": "stderr",
     "output_type": "stream",
     "text": [
      " 66%|██████▌   | 14682/22172 [6:52:24<2:40:03,  1.28s/it] "
     ]
    },
    {
     "name": "stdout",
     "output_type": "stream",
     "text": [
      "Dataset contains 13000 entries.\n"
     ]
    },
    {
     "name": "stderr",
     "output_type": "stream",
     "text": [
      " 71%|███████   | 15712/22172 [7:19:56<3:04:53,  1.72s/it] "
     ]
    },
    {
     "name": "stdout",
     "output_type": "stream",
     "text": [
      "Dataset contains 14000 entries.\n"
     ]
    },
    {
     "name": "stderr",
     "output_type": "stream",
     "text": [
      " 75%|███████▌  | 16732/22172 [7:48:10<2:54:33,  1.93s/it]"
     ]
    },
    {
     "name": "stdout",
     "output_type": "stream",
     "text": [
      "Dataset contains 15000 entries.\n"
     ]
    },
    {
     "name": "stderr",
     "output_type": "stream",
     "text": [
      " 80%|████████  | 17757/22172 [8:21:08<2:11:00,  1.78s/it] "
     ]
    },
    {
     "name": "stdout",
     "output_type": "stream",
     "text": [
      "Dataset contains 16000 entries.\n"
     ]
    },
    {
     "name": "stderr",
     "output_type": "stream",
     "text": [
      " 85%|████████▍ | 18793/22172 [8:54:14<1:44:08,  1.85s/it] "
     ]
    },
    {
     "name": "stdout",
     "output_type": "stream",
     "text": [
      "Dataset contains 17000 entries.\n"
     ]
    },
    {
     "name": "stderr",
     "output_type": "stream",
     "text": [
      " 89%|████████▉ | 19824/22172 [9:25:13<57:20,  1.47s/it]   "
     ]
    },
    {
     "name": "stdout",
     "output_type": "stream",
     "text": [
      "Dataset contains 18000 entries.\n"
     ]
    },
    {
     "name": "stderr",
     "output_type": "stream",
     "text": [
      " 92%|█████████▏| 20381/22172 [9:39:15<37:45,  1.26s/it]  "
     ]
    },
    {
     "name": "stdout",
     "output_type": "stream",
     "text": [
      "URL number 2326 is broken: https://www.scmp.com/comment/letters/article/3034473/want-better-future-hong-kong-start-ending-chaos-legislative-council\n"
     ]
    },
    {
     "name": "stderr",
     "output_type": "stream",
     "text": [
      " 94%|█████████▍| 20846/22172 [9:50:22<32:59,  1.49s/it]  "
     ]
    },
    {
     "name": "stdout",
     "output_type": "stream",
     "text": [
      "Dataset contains 19000 entries.\n"
     ]
    },
    {
     "name": "stderr",
     "output_type": "stream",
     "text": [
      " 99%|█████████▊| 21876/22172 [10:17:18<08:13,  1.67s/it] "
     ]
    },
    {
     "name": "stdout",
     "output_type": "stream",
     "text": [
      "Dataset contains 20000 entries.\n"
     ]
    },
    {
     "name": "stderr",
     "output_type": "stream",
     "text": [
      "100%|██████████| 22172/22172 [10:25:09<00:00,  1.69s/it]\n"
     ]
    }
   ],
   "source": [
    "#using BS4 to request each html data\n",
    "for i in tqdm(articles_only_urls):\n",
    "    try:\n",
    "        time.sleep(1) \n",
    "        req = Request(str(i), headers={'User-Agent': 'Mozilla/5.0'})\n",
    "        webpage = urlopen(req).read()\n",
    "        soup = BeautifulSoup(webpage, 'lxml')\n",
    "\n",
    "        by = soup.find(\"meta\", {\"name\": \"cse_author\"})\n",
    "        ti = soup.find(\"meta\", {\"name\": \"cse_headline\"})\n",
    "        to = soup.find(\"meta\", {\"name\": \"cse_topic\"})\n",
    "        d = soup.find(\"meta\", {\"property\": \"article:published_time\"})\n",
    "        summ = soup.find(\"meta\", {\"name\": \"cse_summary\"})\n",
    "\n",
    "\n",
    "        if by and ti and d:\n",
    "            author.append(by[\"content\"])\n",
    "            title.append(ti[\"content\"])\n",
    "            topic.append(to[\"content\"])\n",
    "            date.append(d[\"content\"])\n",
    "            summary.append(summ[\"content\"])\n",
    "            link.append(i)\n",
    "\n",
    "            if len(link)% 1000 == 0:\n",
    "                print(\"Dataset contains \" + str(len(link)) + \" entries.\")\n",
    "    except:\n",
    "        print(\"URL number \" + str(articles_only_urls.index(i)) + \" is broken: \" + i )\n",
    "        broken.append(i)\n",
    "        pass\n"
   ]
  },
  {
   "cell_type": "code",
   "execution_count": 12,
   "metadata": {},
   "outputs": [
    {
     "data": {
      "text/html": [
       "<div>\n",
       "<style scoped>\n",
       "    .dataframe tbody tr th:only-of-type {\n",
       "        vertical-align: middle;\n",
       "    }\n",
       "\n",
       "    .dataframe tbody tr th {\n",
       "        vertical-align: top;\n",
       "    }\n",
       "\n",
       "    .dataframe thead th {\n",
       "        text-align: right;\n",
       "    }\n",
       "</style>\n",
       "<table border=\"1\" class=\"dataframe\">\n",
       "  <thead>\n",
       "    <tr style=\"text-align: right;\">\n",
       "      <th></th>\n",
       "      <th>Title</th>\n",
       "      <th>Author</th>\n",
       "      <th>Date</th>\n",
       "      <th>Summary</th>\n",
       "      <th>Topic</th>\n",
       "      <th>Link</th>\n",
       "    </tr>\n",
       "  </thead>\n",
       "  <tbody>\n",
       "    <tr>\n",
       "      <th>0</th>\n",
       "      <td>Hong Kong protesters and mainland gamers clash in Grand Theft Auto V Online</td>\n",
       "      <td>Josh Ye</td>\n",
       "      <td>2019-12-23T12:45:34+08:00</td>\n",
       "      <td></td>\n",
       "      <td>Hong Kong protests,Gaming,Steam,Propaganda,Abacus - China Tech News</td>\n",
       "      <td>https://www.scmp.com/abacus/games/article/3043211/hong-kong-protesters-and-mainland-gamers-clash-grand-theft-auto-v</td>\n",
       "    </tr>\n",
       "    <tr>\n",
       "      <th>1</th>\n",
       "      <td>China has its own Hong Kong protest game that lets you beat up activists</td>\n",
       "      <td>Josh Ye</td>\n",
       "      <td>2019-12-06T10:00:24+08:00</td>\n",
       "      <td>After protesters turned to video game activism, a new web game lets players beat figures like Joshua Wong and Martin Lee with a flip-flop or baseball bat</td>\n",
       "      <td>Gaming,Hong Kong protests,Steam,Abacus - China Tech News</td>\n",
       "      <td>https://www.scmp.com/abacus/games/article/3040864/china-has-its-own-hong-kong-protest-game-lets-you-beat-activists</td>\n",
       "    </tr>\n",
       "    <tr>\n",
       "      <th>2</th>\n",
       "      <td>Tim Cook says Apple made decision to remove Hong Kong protest app “unilaterally”</td>\n",
       "      <td>Karen Chiu</td>\n",
       "      <td>2019-11-21T16:27:58+08:00</td>\n",
       "      <td>Apple CEO talks about business in China during a visit from Donald Trump to new Texas facility</td>\n",
       "      <td>Apple,iPhone,Hong Kong protests,Apps,Cybersecurity,Abacus - China Tech News</td>\n",
       "      <td>https://www.scmp.com/abacus/culture/article/3038759/tim-cook-says-apple-made-decision-remove-hong-kong-protest-app</td>\n",
       "    </tr>\n",
       "    <tr>\n",
       "      <th>3</th>\n",
       "      <td>Hong Kong bike sharing firm unlocks its bikes amid protests</td>\n",
       "      <td>Karen Chiu</td>\n",
       "      <td>2019-11-12T19:47:20+08:00</td>\n",
       "      <td>LocoBike says its shared bikes are free for students to take due to “system breakdown”</td>\n",
       "      <td>Sharing economy,Apps,Hong Kong protests,Abacus - China Tech News</td>\n",
       "      <td>https://www.scmp.com/abacus/news-bites/article/3037426/hong-kong-bike-sharing-firm-unlocks-its-bikes-amid-protests</td>\n",
       "    </tr>\n",
       "    <tr>\n",
       "      <th>4</th>\n",
       "      <td>A new Steam game lets you fight as a Hong Kong protester</td>\n",
       "      <td>Josh Ye</td>\n",
       "      <td>2019-11-09T10:00:13+08:00</td>\n",
       "      <td>Liberate Hong Kong was inspired by Blizzard’s Blitzchung controversy, and now it’s making Steam the next battleground for protesters</td>\n",
       "      <td>Steam,Hong Kong protests,Gaming,Abacus - China Tech News</td>\n",
       "      <td>https://www.scmp.com/abacus/games/article/3037019/new-steam-game-lets-you-fight-hong-kong-protester</td>\n",
       "    </tr>\n",
       "    <tr>\n",
       "      <th>...</th>\n",
       "      <td>...</td>\n",
       "      <td>...</td>\n",
       "      <td>...</td>\n",
       "      <td>...</td>\n",
       "      <td>...</td>\n",
       "      <td>...</td>\n",
       "    </tr>\n",
       "    <tr>\n",
       "      <th>20284</th>\n",
       "      <td>Hong Kong’s nano drone racers find space to fly in concrete jungle</td>\n",
       "      <td>Karen Chiu</td>\n",
       "      <td>2018-05-15T19:15:45+08:00</td>\n",
       "      <td>Finding space to fly a drone among Hong Kong's densely packed skyscrapers isn't easy. But that hasn't stopped the city's tight-knit community of racing enthusiasts. Watch our video to see what it's like to race through an indoor playground -- through the eyes of a drone.</td>\n",
       "      <td>Drones,Abacus - China Tech News</td>\n",
       "      <td>https://www.scmp.com/abacus/tech/article/3028503/hong-kongs-nano-drone-racers-find-space-fly-concrete-jungle</td>\n",
       "    </tr>\n",
       "    <tr>\n",
       "      <th>20285</th>\n",
       "      <td>We tested a messaging app used by Hong Kong protesters that works without an internet connection</td>\n",
       "      <td>Masha Borak</td>\n",
       "      <td>2019-09-10T19:00:06+08:00</td>\n",
       "      <td>Bridgefy is a Bluetooth mesh network app trending in Hong Kong</td>\n",
       "      <td>Trending,Apps,Hong Kong protests,Abacus - China Tech News</td>\n",
       "      <td>https://www.scmp.com/abacus/culture/article/3026527/we-tested-messaging-app-used-hong-kong-protesters-works-without</td>\n",
       "    </tr>\n",
       "    <tr>\n",
       "      <th>20286</th>\n",
       "      <td>Why are Hong Kong protesters targeting lamp posts?</td>\n",
       "      <td>Masha Borak</td>\n",
       "      <td>2019-08-30T09:33:06+08:00</td>\n",
       "      <td>Protesters tore down a smart lamp post and posted online what they found inside</td>\n",
       "      <td>Surveillance,Trending,Facial recognition,Privacy,Hong Kong extradition bill,Hong Kong protests,Abacus - China Tech News</td>\n",
       "      <td>https://www.scmp.com/abacus/culture/article/3024997/why-are-hong-kong-protesters-targeting-lamp-posts</td>\n",
       "    </tr>\n",
       "    <tr>\n",
       "      <th>20287</th>\n",
       "      <td>Securing smartphones is now a priority for Hong Kong protesters</td>\n",
       "      <td>Masha Borak</td>\n",
       "      <td>2019-08-08T13:16:52+08:00</td>\n",
       "      <td></td>\n",
       "      <td>Cybersecurity,Trending,Abacus - China Tech News</td>\n",
       "      <td>https://www.scmp.com/abacus/culture/article/3021937/securing-smartphones-now-priority-hong-kong-protesters</td>\n",
       "    </tr>\n",
       "    <tr>\n",
       "      <th>20288</th>\n",
       "      <td>How Hong Kong protesters are using Tinder and Pokémon Go</td>\n",
       "      <td>Masha Borak</td>\n",
       "      <td>2019-08-06T09:20:28+08:00</td>\n",
       "      <td></td>\n",
       "      <td>Trending,Hong Kong extradition bill,Hong Kong protests,Pokemon Go,Apple,Apps,Abacus - China Tech News</td>\n",
       "      <td>https://www.scmp.com/abacus/culture/article/3021560/how-hong-kong-protesters-are-using-tinder-and-pokemon-go</td>\n",
       "    </tr>\n",
       "  </tbody>\n",
       "</table>\n",
       "<p>20289 rows × 6 columns</p>\n",
       "</div>"
      ],
      "text/plain": [
       "                                                                                                  Title  \\\n",
       "0      Hong Kong protesters and mainland gamers clash in Grand Theft Auto V Online                        \n",
       "1      China has its own Hong Kong protest game that lets you beat up activists                           \n",
       "2      Tim Cook says Apple made decision to remove Hong Kong protest app “unilaterally”                   \n",
       "3      Hong Kong bike sharing firm unlocks its bikes amid protests                                        \n",
       "4      A new Steam game lets you fight as a Hong Kong protester                                           \n",
       "...                                                         ...                                           \n",
       "20284  Hong Kong’s nano drone racers find space to fly in concrete jungle                                 \n",
       "20285  We tested a messaging app used by Hong Kong protesters that works without an internet connection   \n",
       "20286  Why are Hong Kong protesters targeting lamp posts?                                                 \n",
       "20287  Securing smartphones is now a priority for Hong Kong protesters                                    \n",
       "20288  How Hong Kong protesters are using Tinder and Pokémon Go                                           \n",
       "\n",
       "            Author                       Date  \\\n",
       "0      Josh Ye      2019-12-23T12:45:34+08:00   \n",
       "1      Josh Ye      2019-12-06T10:00:24+08:00   \n",
       "2      Karen Chiu   2019-11-21T16:27:58+08:00   \n",
       "3      Karen Chiu   2019-11-12T19:47:20+08:00   \n",
       "4      Josh Ye      2019-11-09T10:00:13+08:00   \n",
       "...        ...                            ...   \n",
       "20284  Karen Chiu   2018-05-15T19:15:45+08:00   \n",
       "20285  Masha Borak  2019-09-10T19:00:06+08:00   \n",
       "20286  Masha Borak  2019-08-30T09:33:06+08:00   \n",
       "20287  Masha Borak  2019-08-08T13:16:52+08:00   \n",
       "20288  Masha Borak  2019-08-06T09:20:28+08:00   \n",
       "\n",
       "                                                                                                                                                                                                                                                                                Summary  \\\n",
       "0                                                                                                                                                                                                                                                                                         \n",
       "1      After protesters turned to video game activism, a new web game lets players beat figures like Joshua Wong and Martin Lee with a flip-flop or baseball bat                                                                                                                          \n",
       "2      Apple CEO talks about business in China during a visit from Donald Trump to new Texas facility                                                                                                                                                                                     \n",
       "3      LocoBike says its shared bikes are free for students to take due to “system breakdown”                                                                                                                                                                                             \n",
       "4      Liberate Hong Kong was inspired by Blizzard’s Blitzchung controversy, and now it’s making Steam the next battleground for protesters                                                                                                                                               \n",
       "...                                                                                                                                     ...                                                                                                                                               \n",
       "20284  Finding space to fly a drone among Hong Kong's densely packed skyscrapers isn't easy. But that hasn't stopped the city's tight-knit community of racing enthusiasts. Watch our video to see what it's like to race through an indoor playground -- through the eyes of a drone.    \n",
       "20285  Bridgefy is a Bluetooth mesh network app trending in Hong Kong                                                                                                                                                                                                                     \n",
       "20286  Protesters tore down a smart lamp post and posted online what they found inside                                                                                                                                                                                                    \n",
       "20287                                                                                                                                                                                                                                                                                     \n",
       "20288                                                                                                                                                                                                                                                                                     \n",
       "\n",
       "                                                                                                                         Topic  \\\n",
       "0      Hong Kong protests,Gaming,Steam,Propaganda,Abacus - China Tech News                                                       \n",
       "1      Gaming,Hong Kong protests,Steam,Abacus - China Tech News                                                                  \n",
       "2      Apple,iPhone,Hong Kong protests,Apps,Cybersecurity,Abacus - China Tech News                                               \n",
       "3      Sharing economy,Apps,Hong Kong protests,Abacus - China Tech News                                                          \n",
       "4      Steam,Hong Kong protests,Gaming,Abacus - China Tech News                                                                  \n",
       "...                                                         ...                                                                  \n",
       "20284  Drones,Abacus - China Tech News                                                                                           \n",
       "20285  Trending,Apps,Hong Kong protests,Abacus - China Tech News                                                                 \n",
       "20286  Surveillance,Trending,Facial recognition,Privacy,Hong Kong extradition bill,Hong Kong protests,Abacus - China Tech News   \n",
       "20287  Cybersecurity,Trending,Abacus - China Tech News                                                                           \n",
       "20288  Trending,Hong Kong extradition bill,Hong Kong protests,Pokemon Go,Apple,Apps,Abacus - China Tech News                     \n",
       "\n",
       "                                                                                                                      Link  \n",
       "0      https://www.scmp.com/abacus/games/article/3043211/hong-kong-protesters-and-mainland-gamers-clash-grand-theft-auto-v  \n",
       "1      https://www.scmp.com/abacus/games/article/3040864/china-has-its-own-hong-kong-protest-game-lets-you-beat-activists   \n",
       "2      https://www.scmp.com/abacus/culture/article/3038759/tim-cook-says-apple-made-decision-remove-hong-kong-protest-app   \n",
       "3      https://www.scmp.com/abacus/news-bites/article/3037426/hong-kong-bike-sharing-firm-unlocks-its-bikes-amid-protests   \n",
       "4      https://www.scmp.com/abacus/games/article/3037019/new-steam-game-lets-you-fight-hong-kong-protester                  \n",
       "...                                                                                                    ...                  \n",
       "20284  https://www.scmp.com/abacus/tech/article/3028503/hong-kongs-nano-drone-racers-find-space-fly-concrete-jungle         \n",
       "20285  https://www.scmp.com/abacus/culture/article/3026527/we-tested-messaging-app-used-hong-kong-protesters-works-without  \n",
       "20286  https://www.scmp.com/abacus/culture/article/3024997/why-are-hong-kong-protesters-targeting-lamp-posts                \n",
       "20287  https://www.scmp.com/abacus/culture/article/3021937/securing-smartphones-now-priority-hong-kong-protesters           \n",
       "20288  https://www.scmp.com/abacus/culture/article/3021560/how-hong-kong-protesters-are-using-tinder-and-pokemon-go         \n",
       "\n",
       "[20289 rows x 6 columns]"
      ]
     },
     "execution_count": 12,
     "metadata": {},
     "output_type": "execute_result"
    }
   ],
   "source": [
    "df = pd.DataFrame(list(zip(title, author, date, summary, topic,link)), \n",
    "               columns =['Title', 'Author', 'Date', 'Summary','Topic','Link']) \n",
    "\n",
    "#df.to_pickle(\"./SCMP_Opinions.pkl\")\n",
    "df"
   ]
  },
  {
   "cell_type": "code",
   "execution_count": 13,
   "metadata": {},
   "outputs": [],
   "source": [
    "with open('../Pickles/ScmpDF.pkl', 'wb') as f:\n",
    "    pickle.dump(df, f)"
   ]
  },
  {
   "cell_type": "markdown",
   "metadata": {},
   "source": [
    "# Data"
   ]
  },
  {
   "cell_type": "code",
   "execution_count": 14,
   "metadata": {},
   "outputs": [],
   "source": [
    "with open('../Pickles/ScmpDF.pkl', 'rb') as f:\n",
    "    df = pickle.load(f)\n"
   ]
  },
  {
   "cell_type": "markdown",
   "metadata": {},
   "source": [
    "# Test Set"
   ]
  },
  {
   "cell_type": "code",
   "execution_count": 15,
   "metadata": {},
   "outputs": [
    {
     "data": {
      "text/html": [
       "<div>\n",
       "<style scoped>\n",
       "    .dataframe tbody tr th:only-of-type {\n",
       "        vertical-align: middle;\n",
       "    }\n",
       "\n",
       "    .dataframe tbody tr th {\n",
       "        vertical-align: top;\n",
       "    }\n",
       "\n",
       "    .dataframe thead th {\n",
       "        text-align: right;\n",
       "    }\n",
       "</style>\n",
       "<table border=\"1\" class=\"dataframe\">\n",
       "  <thead>\n",
       "    <tr style=\"text-align: right;\">\n",
       "      <th></th>\n",
       "      <th>Title</th>\n",
       "      <th>Author</th>\n",
       "      <th>Date</th>\n",
       "      <th>Summary</th>\n",
       "      <th>Topic</th>\n",
       "      <th>Link</th>\n",
       "    </tr>\n",
       "  </thead>\n",
       "  <tbody>\n",
       "    <tr>\n",
       "      <th>0</th>\n",
       "      <td>Hong Kong protesters and mainland gamers clash in Grand Theft Auto V Online</td>\n",
       "      <td>Josh Ye</td>\n",
       "      <td>2019-12-23T12:45:34+08:00</td>\n",
       "      <td></td>\n",
       "      <td>Hong Kong protests,Gaming,Steam,Propaganda,Abacus - China Tech News</td>\n",
       "      <td>https://www.scmp.com/abacus/games/article/3043211/hong-kong-protesters-and-mainland-gamers-clash-grand-theft-auto-v</td>\n",
       "    </tr>\n",
       "    <tr>\n",
       "      <th>1</th>\n",
       "      <td>China has its own Hong Kong protest game that lets you beat up activists</td>\n",
       "      <td>Josh Ye</td>\n",
       "      <td>2019-12-06T10:00:24+08:00</td>\n",
       "      <td>After protesters turned to video game activism, a new web game lets players beat figures like Joshua Wong and Martin Lee with a flip-flop or baseball bat</td>\n",
       "      <td>Gaming,Hong Kong protests,Steam,Abacus - China Tech News</td>\n",
       "      <td>https://www.scmp.com/abacus/games/article/3040864/china-has-its-own-hong-kong-protest-game-lets-you-beat-activists</td>\n",
       "    </tr>\n",
       "    <tr>\n",
       "      <th>2</th>\n",
       "      <td>Tim Cook says Apple made decision to remove Hong Kong protest app “unilaterally”</td>\n",
       "      <td>Karen Chiu</td>\n",
       "      <td>2019-11-21T16:27:58+08:00</td>\n",
       "      <td>Apple CEO talks about business in China during a visit from Donald Trump to new Texas facility</td>\n",
       "      <td>Apple,iPhone,Hong Kong protests,Apps,Cybersecurity,Abacus - China Tech News</td>\n",
       "      <td>https://www.scmp.com/abacus/culture/article/3038759/tim-cook-says-apple-made-decision-remove-hong-kong-protest-app</td>\n",
       "    </tr>\n",
       "    <tr>\n",
       "      <th>3</th>\n",
       "      <td>Hong Kong bike sharing firm unlocks its bikes amid protests</td>\n",
       "      <td>Karen Chiu</td>\n",
       "      <td>2019-11-12T19:47:20+08:00</td>\n",
       "      <td>LocoBike says its shared bikes are free for students to take due to “system breakdown”</td>\n",
       "      <td>Sharing economy,Apps,Hong Kong protests,Abacus - China Tech News</td>\n",
       "      <td>https://www.scmp.com/abacus/news-bites/article/3037426/hong-kong-bike-sharing-firm-unlocks-its-bikes-amid-protests</td>\n",
       "    </tr>\n",
       "    <tr>\n",
       "      <th>4</th>\n",
       "      <td>A new Steam game lets you fight as a Hong Kong protester</td>\n",
       "      <td>Josh Ye</td>\n",
       "      <td>2019-11-09T10:00:13+08:00</td>\n",
       "      <td>Liberate Hong Kong was inspired by Blizzard’s Blitzchung controversy, and now it’s making Steam the next battleground for protesters</td>\n",
       "      <td>Steam,Hong Kong protests,Gaming,Abacus - China Tech News</td>\n",
       "      <td>https://www.scmp.com/abacus/games/article/3037019/new-steam-game-lets-you-fight-hong-kong-protester</td>\n",
       "    </tr>\n",
       "    <tr>\n",
       "      <th>...</th>\n",
       "      <td>...</td>\n",
       "      <td>...</td>\n",
       "      <td>...</td>\n",
       "      <td>...</td>\n",
       "      <td>...</td>\n",
       "      <td>...</td>\n",
       "    </tr>\n",
       "    <tr>\n",
       "      <th>20284</th>\n",
       "      <td>Hong Kong’s nano drone racers find space to fly in concrete jungle</td>\n",
       "      <td>Karen Chiu</td>\n",
       "      <td>2018-05-15T19:15:45+08:00</td>\n",
       "      <td>Finding space to fly a drone among Hong Kong's densely packed skyscrapers isn't easy. But that hasn't stopped the city's tight-knit community of racing enthusiasts. Watch our video to see what it's like to race through an indoor playground -- through the eyes of a drone.</td>\n",
       "      <td>Drones,Abacus - China Tech News</td>\n",
       "      <td>https://www.scmp.com/abacus/tech/article/3028503/hong-kongs-nano-drone-racers-find-space-fly-concrete-jungle</td>\n",
       "    </tr>\n",
       "    <tr>\n",
       "      <th>20285</th>\n",
       "      <td>We tested a messaging app used by Hong Kong protesters that works without an internet connection</td>\n",
       "      <td>Masha Borak</td>\n",
       "      <td>2019-09-10T19:00:06+08:00</td>\n",
       "      <td>Bridgefy is a Bluetooth mesh network app trending in Hong Kong</td>\n",
       "      <td>Trending,Apps,Hong Kong protests,Abacus - China Tech News</td>\n",
       "      <td>https://www.scmp.com/abacus/culture/article/3026527/we-tested-messaging-app-used-hong-kong-protesters-works-without</td>\n",
       "    </tr>\n",
       "    <tr>\n",
       "      <th>20286</th>\n",
       "      <td>Why are Hong Kong protesters targeting lamp posts?</td>\n",
       "      <td>Masha Borak</td>\n",
       "      <td>2019-08-30T09:33:06+08:00</td>\n",
       "      <td>Protesters tore down a smart lamp post and posted online what they found inside</td>\n",
       "      <td>Surveillance,Trending,Facial recognition,Privacy,Hong Kong extradition bill,Hong Kong protests,Abacus - China Tech News</td>\n",
       "      <td>https://www.scmp.com/abacus/culture/article/3024997/why-are-hong-kong-protesters-targeting-lamp-posts</td>\n",
       "    </tr>\n",
       "    <tr>\n",
       "      <th>20287</th>\n",
       "      <td>Securing smartphones is now a priority for Hong Kong protesters</td>\n",
       "      <td>Masha Borak</td>\n",
       "      <td>2019-08-08T13:16:52+08:00</td>\n",
       "      <td></td>\n",
       "      <td>Cybersecurity,Trending,Abacus - China Tech News</td>\n",
       "      <td>https://www.scmp.com/abacus/culture/article/3021937/securing-smartphones-now-priority-hong-kong-protesters</td>\n",
       "    </tr>\n",
       "    <tr>\n",
       "      <th>20288</th>\n",
       "      <td>How Hong Kong protesters are using Tinder and Pokémon Go</td>\n",
       "      <td>Masha Borak</td>\n",
       "      <td>2019-08-06T09:20:28+08:00</td>\n",
       "      <td></td>\n",
       "      <td>Trending,Hong Kong extradition bill,Hong Kong protests,Pokemon Go,Apple,Apps,Abacus - China Tech News</td>\n",
       "      <td>https://www.scmp.com/abacus/culture/article/3021560/how-hong-kong-protesters-are-using-tinder-and-pokemon-go</td>\n",
       "    </tr>\n",
       "  </tbody>\n",
       "</table>\n",
       "<p>20289 rows × 6 columns</p>\n",
       "</div>"
      ],
      "text/plain": [
       "                                                                                                  Title  \\\n",
       "0      Hong Kong protesters and mainland gamers clash in Grand Theft Auto V Online                        \n",
       "1      China has its own Hong Kong protest game that lets you beat up activists                           \n",
       "2      Tim Cook says Apple made decision to remove Hong Kong protest app “unilaterally”                   \n",
       "3      Hong Kong bike sharing firm unlocks its bikes amid protests                                        \n",
       "4      A new Steam game lets you fight as a Hong Kong protester                                           \n",
       "...                                                         ...                                           \n",
       "20284  Hong Kong’s nano drone racers find space to fly in concrete jungle                                 \n",
       "20285  We tested a messaging app used by Hong Kong protesters that works without an internet connection   \n",
       "20286  Why are Hong Kong protesters targeting lamp posts?                                                 \n",
       "20287  Securing smartphones is now a priority for Hong Kong protesters                                    \n",
       "20288  How Hong Kong protesters are using Tinder and Pokémon Go                                           \n",
       "\n",
       "            Author                       Date  \\\n",
       "0      Josh Ye      2019-12-23T12:45:34+08:00   \n",
       "1      Josh Ye      2019-12-06T10:00:24+08:00   \n",
       "2      Karen Chiu   2019-11-21T16:27:58+08:00   \n",
       "3      Karen Chiu   2019-11-12T19:47:20+08:00   \n",
       "4      Josh Ye      2019-11-09T10:00:13+08:00   \n",
       "...        ...                            ...   \n",
       "20284  Karen Chiu   2018-05-15T19:15:45+08:00   \n",
       "20285  Masha Borak  2019-09-10T19:00:06+08:00   \n",
       "20286  Masha Borak  2019-08-30T09:33:06+08:00   \n",
       "20287  Masha Borak  2019-08-08T13:16:52+08:00   \n",
       "20288  Masha Borak  2019-08-06T09:20:28+08:00   \n",
       "\n",
       "                                                                                                                                                                                                                                                                                Summary  \\\n",
       "0                                                                                                                                                                                                                                                                                         \n",
       "1      After protesters turned to video game activism, a new web game lets players beat figures like Joshua Wong and Martin Lee with a flip-flop or baseball bat                                                                                                                          \n",
       "2      Apple CEO talks about business in China during a visit from Donald Trump to new Texas facility                                                                                                                                                                                     \n",
       "3      LocoBike says its shared bikes are free for students to take due to “system breakdown”                                                                                                                                                                                             \n",
       "4      Liberate Hong Kong was inspired by Blizzard’s Blitzchung controversy, and now it’s making Steam the next battleground for protesters                                                                                                                                               \n",
       "...                                                                                                                                     ...                                                                                                                                               \n",
       "20284  Finding space to fly a drone among Hong Kong's densely packed skyscrapers isn't easy. But that hasn't stopped the city's tight-knit community of racing enthusiasts. Watch our video to see what it's like to race through an indoor playground -- through the eyes of a drone.    \n",
       "20285  Bridgefy is a Bluetooth mesh network app trending in Hong Kong                                                                                                                                                                                                                     \n",
       "20286  Protesters tore down a smart lamp post and posted online what they found inside                                                                                                                                                                                                    \n",
       "20287                                                                                                                                                                                                                                                                                     \n",
       "20288                                                                                                                                                                                                                                                                                     \n",
       "\n",
       "                                                                                                                         Topic  \\\n",
       "0      Hong Kong protests,Gaming,Steam,Propaganda,Abacus - China Tech News                                                       \n",
       "1      Gaming,Hong Kong protests,Steam,Abacus - China Tech News                                                                  \n",
       "2      Apple,iPhone,Hong Kong protests,Apps,Cybersecurity,Abacus - China Tech News                                               \n",
       "3      Sharing economy,Apps,Hong Kong protests,Abacus - China Tech News                                                          \n",
       "4      Steam,Hong Kong protests,Gaming,Abacus - China Tech News                                                                  \n",
       "...                                                         ...                                                                  \n",
       "20284  Drones,Abacus - China Tech News                                                                                           \n",
       "20285  Trending,Apps,Hong Kong protests,Abacus - China Tech News                                                                 \n",
       "20286  Surveillance,Trending,Facial recognition,Privacy,Hong Kong extradition bill,Hong Kong protests,Abacus - China Tech News   \n",
       "20287  Cybersecurity,Trending,Abacus - China Tech News                                                                           \n",
       "20288  Trending,Hong Kong extradition bill,Hong Kong protests,Pokemon Go,Apple,Apps,Abacus - China Tech News                     \n",
       "\n",
       "                                                                                                                      Link  \n",
       "0      https://www.scmp.com/abacus/games/article/3043211/hong-kong-protesters-and-mainland-gamers-clash-grand-theft-auto-v  \n",
       "1      https://www.scmp.com/abacus/games/article/3040864/china-has-its-own-hong-kong-protest-game-lets-you-beat-activists   \n",
       "2      https://www.scmp.com/abacus/culture/article/3038759/tim-cook-says-apple-made-decision-remove-hong-kong-protest-app   \n",
       "3      https://www.scmp.com/abacus/news-bites/article/3037426/hong-kong-bike-sharing-firm-unlocks-its-bikes-amid-protests   \n",
       "4      https://www.scmp.com/abacus/games/article/3037019/new-steam-game-lets-you-fight-hong-kong-protester                  \n",
       "...                                                                                                    ...                  \n",
       "20284  https://www.scmp.com/abacus/tech/article/3028503/hong-kongs-nano-drone-racers-find-space-fly-concrete-jungle         \n",
       "20285  https://www.scmp.com/abacus/culture/article/3026527/we-tested-messaging-app-used-hong-kong-protesters-works-without  \n",
       "20286  https://www.scmp.com/abacus/culture/article/3024997/why-are-hong-kong-protesters-targeting-lamp-posts                \n",
       "20287  https://www.scmp.com/abacus/culture/article/3021937/securing-smartphones-now-priority-hong-kong-protesters           \n",
       "20288  https://www.scmp.com/abacus/culture/article/3021560/how-hong-kong-protesters-are-using-tinder-and-pokemon-go         \n",
       "\n",
       "[20289 rows x 6 columns]"
      ]
     },
     "execution_count": 15,
     "metadata": {},
     "output_type": "execute_result"
    }
   ],
   "source": [
    "df"
   ]
  }
 ],
 "metadata": {
  "kernelspec": {
   "display_name": "Python 3",
   "language": "python",
   "name": "python3"
  },
  "language_info": {
   "codemirror_mode": {
    "name": "ipython",
    "version": 3
   },
   "file_extension": ".py",
   "mimetype": "text/x-python",
   "name": "python",
   "nbconvert_exporter": "python",
   "pygments_lexer": "ipython3",
   "version": "3.7.6"
  }
 },
 "nbformat": 4,
 "nbformat_minor": 2
}
