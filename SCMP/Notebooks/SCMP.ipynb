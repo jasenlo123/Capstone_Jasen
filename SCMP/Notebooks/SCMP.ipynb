{
 "cells": [
  {
   "cell_type": "code",
   "execution_count": 1,
   "metadata": {},
   "outputs": [
    {
     "name": "stderr",
     "output_type": "stream",
     "text": [
      "/opt/anaconda3/lib/python3.7/site-packages/ipykernel_launcher.py:23: FutureWarning: Passing a negative integer is deprecated in version 1.0 and will not be supported in future version. Instead, use None to not limit the column width.\n"
     ]
    }
   ],
   "source": [
    "#finds site map of entire domain\n",
    "from usp.tree import sitemap_tree_for_homepage\n",
    "\n",
    "#for saving and loading objects\n",
    "import pickle\n",
    "\n",
    "#for accessing url html\n",
    "import requests\n",
    "import urllib.request, urllib.parse, urllib.error\n",
    "from urllib.request import Request, urlopen\n",
    "\n",
    "#for html parsing\n",
    "from bs4 import BeautifulSoup\n",
    "\n",
    "#anxillary functions/methods\n",
    "import numpy as np\n",
    "import pandas as pd\n",
    "import time\n",
    "import random\n",
    "import datetime\n",
    "from dateutil.tz import tzutc, tzoffset\n",
    "\n",
    "pd.set_option('display.max_colwidth', -1)\n",
    "from tqdm import tqdm, trange\n",
    "import time"
   ]
  },
  {
   "cell_type": "markdown",
   "metadata": {},
   "source": [
    "# Sitemap"
   ]
  },
  {
   "cell_type": "code",
   "execution_count": null,
   "metadata": {
    "scrolled": true
   },
   "outputs": [],
   "source": [
    "#SOUTH CHINA MORNING POST\n",
    "# scmp articles as of date 4/11/2020. \n",
    "tree = sitemap_tree_for_homepage('https://www.scmp.com/hk');"
   ]
  },
  {
   "cell_type": "code",
   "execution_count": null,
   "metadata": {},
   "outputs": [],
   "source": [
    "urls = []\n",
    "dates = []\n",
    "for page in tree.all_pages():\n",
    "    urls.append(page.url)\n",
    "    dates.append(page.last_modified)"
   ]
  },
  {
   "cell_type": "code",
   "execution_count": null,
   "metadata": {},
   "outputs": [],
   "source": [
    "#transpose\n",
    "zippedList =list(zip(urls,dates))\n",
    "\n",
    "#format into dataframe\n",
    "df = pd.DataFrame(zippedList, columns = ['urls' ,'date'])\n",
    "\n",
    "#drop nan for date published and drop duplicates\n",
    "df = df.dropna()\n",
    "df = df.drop_duplicates()\n",
    "\n",
    "#df.to_pickle(\"../Pickles/SCMP_All_URLs.pkl\")\n"
   ]
  },
  {
   "cell_type": "code",
   "execution_count": null,
   "metadata": {},
   "outputs": [],
   "source": [
    "with open('../../Ignore/SCMP_All_URLs.pkl', 'rb') as f:\n",
    "    df = pickle.load(f)\n",
    "    \n",
    "    "
   ]
  },
  {
   "cell_type": "markdown",
   "metadata": {},
   "source": [
    "# Data Scrape"
   ]
  },
  {
   "cell_type": "code",
   "execution_count": 2,
   "metadata": {},
   "outputs": [
    {
     "data": {
      "text/html": [
       "<div>\n",
       "<style scoped>\n",
       "    .dataframe tbody tr th:only-of-type {\n",
       "        vertical-align: middle;\n",
       "    }\n",
       "\n",
       "    .dataframe tbody tr th {\n",
       "        vertical-align: top;\n",
       "    }\n",
       "\n",
       "    .dataframe thead th {\n",
       "        text-align: right;\n",
       "    }\n",
       "</style>\n",
       "<table border=\"1\" class=\"dataframe\">\n",
       "  <thead>\n",
       "    <tr style=\"text-align: right;\">\n",
       "      <th></th>\n",
       "      <th>urls</th>\n",
       "      <th>date</th>\n",
       "    </tr>\n",
       "  </thead>\n",
       "  <tbody>\n",
       "    <tr>\n",
       "      <th>0</th>\n",
       "      <td>https://www.scmp.com/news/18th-party-congress/power-game/article/1001459/security-tsar-will-attend-party-congress-after</td>\n",
       "      <td>2012-05-19 16:00:00+00:00</td>\n",
       "    </tr>\n",
       "    <tr>\n",
       "      <th>1</th>\n",
       "      <td>https://www.scmp.com/news/18th-party-congress/challenges/article/1006828/legal-policy-chief-urges-better-petition</td>\n",
       "      <td>2012-07-14 16:00:00+00:00</td>\n",
       "    </tr>\n",
       "    <tr>\n",
       "      <th>2</th>\n",
       "      <td>https://www.scmp.com/news/hong-kong/article/1007255/peng-chau-industrial-hive-turned-rural-idyll</td>\n",
       "      <td>2012-07-19 16:00:00+00:00</td>\n",
       "    </tr>\n",
       "    <tr>\n",
       "      <th>3</th>\n",
       "      <td>https://www.scmp.com/news/hong-kong/article/1008735/play-our-strength</td>\n",
       "      <td>2012-08-12 13:59:00+00:00</td>\n",
       "    </tr>\n",
       "    <tr>\n",
       "      <th>4</th>\n",
       "      <td>https://www.scmp.com/news/hong-kong/article/1008741/hk-leader-leung-must-focus-building-team-controversies-mount</td>\n",
       "      <td>2012-08-12 14:17:00+00:00</td>\n",
       "    </tr>\n",
       "    <tr>\n",
       "      <th>...</th>\n",
       "      <td>...</td>\n",
       "      <td>...</td>\n",
       "    </tr>\n",
       "    <tr>\n",
       "      <th>172390</th>\n",
       "      <td>https://www.scmp.com/news/hong-kong/health-environment/article/3109853/coronavirus-hong-kongs-executive-council-signs</td>\n",
       "      <td>2020-11-14 15:30:00+00:00</td>\n",
       "    </tr>\n",
       "    <tr>\n",
       "      <th>172391</th>\n",
       "      <td>https://www.scmp.com/news/china/diplomacy/article/3109825/pope-francis-said-be-final-stage-selecting-new-hong-kong</td>\n",
       "      <td>2020-11-14 15:30:00+00:00</td>\n",
       "    </tr>\n",
       "    <tr>\n",
       "      <th>172392</th>\n",
       "      <td>https://www.scmp.com/news/world/united-states-canada/article/3109887/after-assailing-fox-news-calling-arizona-bidens</td>\n",
       "      <td>2020-11-14 15:39:00+00:00</td>\n",
       "    </tr>\n",
       "    <tr>\n",
       "      <th>172393</th>\n",
       "      <td>https://www.scmp.com/news/hong-kong/law-and-crime/article/3109867/hong-kongs-controversial-national-security-law-tip</td>\n",
       "      <td>2020-11-14 15:47:00+00:00</td>\n",
       "    </tr>\n",
       "    <tr>\n",
       "      <th>172394</th>\n",
       "      <td>https://www.scmp.com/news/hong-kong/health-environment/article/3109853/coronavirus-hong-kongs-executive-council-signs</td>\n",
       "      <td>2020-11-14 16:03:00+00:00</td>\n",
       "    </tr>\n",
       "  </tbody>\n",
       "</table>\n",
       "<p>172395 rows × 2 columns</p>\n",
       "</div>"
      ],
      "text/plain": [
       "                                                                                                                           urls  \\\n",
       "0       https://www.scmp.com/news/18th-party-congress/power-game/article/1001459/security-tsar-will-attend-party-congress-after   \n",
       "1       https://www.scmp.com/news/18th-party-congress/challenges/article/1006828/legal-policy-chief-urges-better-petition         \n",
       "2       https://www.scmp.com/news/hong-kong/article/1007255/peng-chau-industrial-hive-turned-rural-idyll                          \n",
       "3       https://www.scmp.com/news/hong-kong/article/1008735/play-our-strength                                                     \n",
       "4       https://www.scmp.com/news/hong-kong/article/1008741/hk-leader-leung-must-focus-building-team-controversies-mount          \n",
       "...                                                                                                                  ...          \n",
       "172390  https://www.scmp.com/news/hong-kong/health-environment/article/3109853/coronavirus-hong-kongs-executive-council-signs     \n",
       "172391  https://www.scmp.com/news/china/diplomacy/article/3109825/pope-francis-said-be-final-stage-selecting-new-hong-kong        \n",
       "172392  https://www.scmp.com/news/world/united-states-canada/article/3109887/after-assailing-fox-news-calling-arizona-bidens      \n",
       "172393  https://www.scmp.com/news/hong-kong/law-and-crime/article/3109867/hong-kongs-controversial-national-security-law-tip      \n",
       "172394  https://www.scmp.com/news/hong-kong/health-environment/article/3109853/coronavirus-hong-kongs-executive-council-signs     \n",
       "\n",
       "                            date  \n",
       "0      2012-05-19 16:00:00+00:00  \n",
       "1      2012-07-14 16:00:00+00:00  \n",
       "2      2012-07-19 16:00:00+00:00  \n",
       "3      2012-08-12 13:59:00+00:00  \n",
       "4      2012-08-12 14:17:00+00:00  \n",
       "...                          ...  \n",
       "172390 2020-11-14 15:30:00+00:00  \n",
       "172391 2020-11-14 15:30:00+00:00  \n",
       "172392 2020-11-14 15:39:00+00:00  \n",
       "172393 2020-11-14 15:47:00+00:00  \n",
       "172394 2020-11-14 16:03:00+00:00  \n",
       "\n",
       "[172395 rows x 2 columns]"
      ]
     },
     "execution_count": 2,
     "metadata": {},
     "output_type": "execute_result"
    }
   ],
   "source": [
    "#LOAD DATASET OF ALL SCRAPED URLS FROM SCMP\n",
    "with open('../../Ignore/SCMP_All_URLs.pkl', 'rb') as f:\n",
    "    df = pickle.load(f)\n",
    "\n",
    "#drop 14 articles before 2012. 2012 onwards there are many more articles (5k articles in 2012 alone)\n",
    "df = df.loc[(df['date']> pd.Timestamp('2012-1-1 00:00:00+0000', tz= tzutc()))]\n",
    "\n",
    "#find articles with /news/ to find news articles only\n",
    "df = df[df.urls.str.contains(\"/news/\")]\n",
    "\n",
    "#take out 4512 Young Post articles\n",
    "df = df[~df.urls.str.contains(\"/yp/\")]\n",
    "\n",
    "#take out Photos articles - there's one\n",
    "df = df[~df.urls.str.contains(\"/photos/\")]\n",
    "\n",
    "#take out Gallery articles - there's one\n",
    "df = df[~df.urls.str.contains(\"/gallery/\")]\n",
    "\n",
    "#sort to date\n",
    "df = df.sort_values(by=['date'])\n",
    "\n",
    "#reset df index\n",
    "df = df.reset_index(drop = True)\n",
    "\n",
    "df"
   ]
  },
  {
   "cell_type": "code",
   "execution_count": 10,
   "metadata": {},
   "outputs": [],
   "source": [
    "author = []\n",
    "title = []\n",
    "summary = []\n",
    "link = []\n",
    "topic = []\n",
    "date = []\n",
    "\n",
    "broken = []"
   ]
  },
  {
   "cell_type": "code",
   "execution_count": 11,
   "metadata": {
    "scrolled": false
   },
   "outputs": [
    {
     "name": "stderr",
     "output_type": "stream",
     "text": [
      "  8%|▊         | 1002/12395 [36:09<4:55:04,  1.55s/it]"
     ]
    },
    {
     "name": "stdout",
     "output_type": "stream",
     "text": [
      "Dataset contains 1000 entries.\n",
      "Number of broken URLs: 0\n"
     ]
    },
    {
     "name": "stderr",
     "output_type": "stream",
     "text": [
      " 10%|▉         | 1180/12395 [41:58<13:59:28,  4.49s/it]"
     ]
    },
    {
     "name": "stdout",
     "output_type": "stream",
     "text": [
      "URL number 161179 is broken: https://www.scmp.com/news/asia/southeast-asia/article/3077473/medical-evacuation-plane-crashes-manila-airport\n"
     ]
    },
    {
     "name": "stderr",
     "output_type": "stream",
     "text": [
      " 16%|█▌        | 2004/12395 [1:09:14<4:33:00,  1.58s/it] "
     ]
    },
    {
     "name": "stdout",
     "output_type": "stream",
     "text": [
      "Dataset contains 2000 entries.\n",
      "Number of broken URLs: 1\n"
     ]
    },
    {
     "name": "stderr",
     "output_type": "stream",
     "text": [
      " 24%|██▍       | 3005/12395 [1:47:38<5:31:25,  2.12s/it] "
     ]
    },
    {
     "name": "stdout",
     "output_type": "stream",
     "text": [
      "Dataset contains 3000 entries.\n",
      "Number of broken URLs: 1\n"
     ]
    },
    {
     "name": "stderr",
     "output_type": "stream",
     "text": [
      " 32%|███▏      | 4006/12395 [2:26:34<5:48:20,  2.49s/it] "
     ]
    },
    {
     "name": "stdout",
     "output_type": "stream",
     "text": [
      "Dataset contains 4000 entries.\n",
      "Number of broken URLs: 1\n"
     ]
    },
    {
     "name": "stderr",
     "output_type": "stream",
     "text": [
      " 36%|███▋      | 4519/12395 [2:44:13<7:46:42,  3.56s/it] "
     ]
    },
    {
     "name": "stdout",
     "output_type": "stream",
     "text": [
      "URL number 164518 is broken: https://www.scmp.com/news/china/society/article/3088494/major-changes-disease-control-coronavirus-ground-zero-china\n"
     ]
    },
    {
     "name": "stderr",
     "output_type": "stream",
     "text": [
      " 40%|████      | 5009/12395 [2:59:56<3:42:27,  1.81s/it] "
     ]
    },
    {
     "name": "stdout",
     "output_type": "stream",
     "text": [
      "Dataset contains 5000 entries.\n",
      "Number of broken URLs: 2\n"
     ]
    },
    {
     "name": "stderr",
     "output_type": "stream",
     "text": [
      " 49%|████▊     | 6012/12395 [3:34:18<4:52:40,  2.75s/it] "
     ]
    },
    {
     "name": "stdout",
     "output_type": "stream",
     "text": [
      "Dataset contains 6000 entries.\n",
      "Number of broken URLs: 2\n"
     ]
    },
    {
     "name": "stderr",
     "output_type": "stream",
     "text": [
      " 57%|█████▋    | 7017/12395 [4:05:44<2:00:58,  1.35s/it] "
     ]
    },
    {
     "name": "stdout",
     "output_type": "stream",
     "text": [
      "Dataset contains 7000 entries.\n",
      "Number of broken URLs: 2\n"
     ]
    },
    {
     "name": "stderr",
     "output_type": "stream",
     "text": [
      " 65%|██████▍   | 8018/12395 [4:39:06<3:08:17,  2.58s/it] "
     ]
    },
    {
     "name": "stdout",
     "output_type": "stream",
     "text": [
      "Dataset contains 8000 entries.\n",
      "Number of broken URLs: 2\n"
     ]
    },
    {
     "name": "stderr",
     "output_type": "stream",
     "text": [
      " 65%|██████▌   | 8071/12395 [4:41:45<18:41:16, 15.56s/it]"
     ]
    },
    {
     "name": "stdout",
     "output_type": "stream",
     "text": [
      "URL number 168070 is broken: https://www.scmp.com/news/world/united-states-canada/article/3098416/trump-loses-bid-delay-handover-tax-returns-new-york\n"
     ]
    },
    {
     "name": "stderr",
     "output_type": "stream",
     "text": [
      " 73%|███████▎  | 9024/12395 [5:11:54<1:46:47,  1.90s/it] "
     ]
    },
    {
     "name": "stdout",
     "output_type": "stream",
     "text": [
      "Dataset contains 9000 entries.\n",
      "Number of broken URLs: 3\n"
     ]
    },
    {
     "name": "stderr",
     "output_type": "stream",
     "text": [
      " 81%|████████  | 10027/12395 [5:45:22<1:01:55,  1.57s/it]"
     ]
    },
    {
     "name": "stdout",
     "output_type": "stream",
     "text": [
      "Dataset contains 10000 entries.\n",
      "Number of broken URLs: 3\n"
     ]
    },
    {
     "name": "stderr",
     "output_type": "stream",
     "text": [
      " 89%|████████▉ | 11030/12395 [6:14:20<51:33,  2.27s/it]  "
     ]
    },
    {
     "name": "stdout",
     "output_type": "stream",
     "text": [
      "Dataset contains 11000 entries.\n",
      "Number of broken URLs: 3\n"
     ]
    },
    {
     "name": "stderr",
     "output_type": "stream",
     "text": [
      " 97%|█████████▋| 12034/12395 [6:41:30<09:06,  1.51s/it]  "
     ]
    },
    {
     "name": "stdout",
     "output_type": "stream",
     "text": [
      "Dataset contains 12000 entries.\n",
      "Number of broken URLs: 3\n"
     ]
    },
    {
     "name": "stderr",
     "output_type": "stream",
     "text": [
      "100%|██████████| 12395/12395 [6:50:17<00:00,  1.99s/it]\n"
     ]
    }
   ],
   "source": [
    "#using BS4 to request each html data\n",
    "for i in tqdm(range(160000,172395)):\n",
    "    try:\n",
    "        time.sleep(1) \n",
    "        req = Request(str(df.urls[i]), headers={'User-Agent': 'Potato'})\n",
    "        webpage = urlopen(req).read()\n",
    "        soup = BeautifulSoup(webpage, 'lxml')\n",
    "\n",
    "        by = soup.find(\"meta\", {\"name\": \"cse_author\"})\n",
    "        ti = soup.find(\"meta\", {\"name\": \"cse_headline\"})\n",
    "        to = soup.find(\"meta\", {\"name\": \"cse_topic\"})\n",
    "        summ = soup.find(\"meta\", {\"name\": \"cse_summary\"})\n",
    "\n",
    "\n",
    "        if by and ti:\n",
    "            author.append(by[\"content\"])\n",
    "            title.append(ti[\"content\"])\n",
    "            topic.append(to[\"content\"])\n",
    "            summary.append(summ[\"content\"])\n",
    "            link.append(df.urls[i])\n",
    "            date.append(df.date[i])\n",
    "            \n",
    "            \n",
    "            if len(link)% 1000 == 0:\n",
    "                print(\"Dataset contains \" + str(len(link)) + \" entries.\")\n",
    "                print(\"Number of broken URLs: \" + str(len(broken)))\n",
    "    except:\n",
    "        print(\"URL number \" + str(i) + \" is broken: \" + df.urls[i] )\n",
    "        broken.append(df.urls[i])\n",
    "        pass\n"
   ]
  },
  {
   "cell_type": "code",
   "execution_count": 12,
   "metadata": {},
   "outputs": [],
   "source": [
    "scmp_df = pd.DataFrame(list(zip(title, author, summary, topic,link,date)), \n",
    "               columns =['Title', 'Author', 'Summary','Topic','Link', 'Date']) \n",
    "\n",
    "scmp_df.to_pickle(\"../Pickles/SCMP_News172395.pkl\")"
   ]
  },
  {
   "cell_type": "code",
   "execution_count": 2,
   "metadata": {},
   "outputs": [
    {
     "name": "stdout",
     "output_type": "stream",
     "text": [
      "SCMP_News10000.pkl      SCMP_News1700000.pkl    SCMP_News80000.pkl\r\n",
      "SCMP_News100000.pkl     SCMP_News20000.pkl      SCMP_News90000.pkl\r\n",
      "SCMP_News110000.pkl     SCMP_News26000.pkl      SCMP_News_Sample_DF.pkl\r\n",
      "SCMP_News120000.pkl     SCMP_News30000.pkl      SCMP_Opinion_URLS.p\r\n",
      "SCMP_News130000.pkl     SCMP_News40000.pkl      SCMP_Opinions.pkl\r\n",
      "SCMP_News140000.pkl     SCMP_News50000.pkl      ScmpDF.pkl\r\n",
      "SCMP_News150000.pkl     SCMP_News60000.pkl\r\n",
      "SCMP_News160000.pkl     SCMP_News70000.pkl\r\n"
     ]
    }
   ],
   "source": [
    "!ls ../Pickles/\n",
    "#scmp_df\n"
   ]
  },
  {
   "cell_type": "markdown",
   "metadata": {},
   "source": [
    "# Combine Datasets and Clean"
   ]
  },
  {
   "cell_type": "code",
   "execution_count": 120,
   "metadata": {},
   "outputs": [],
   "source": [
    "with open('../Pickles/SCMP_News10000.pkl', 'rb') as f:\n",
    "    df = pickle.load(f)\n",
    "    \n",
    "for i in range(20000,170001,10000):\n",
    "    string = f'../Pickles/SCMP_News{i}.pkl'\n",
    "    with open(string, 'rb') as f:\n",
    "        df_add = pickle.load(f)\n",
    "        \n",
    "        df = df.append(df_add, ignore_index = True)\n",
    "        \n",
    "#remove empty author entries\n",
    "df = df[df['Author'] != '']\n"
   ]
  },
  {
   "cell_type": "code",
   "execution_count": 121,
   "metadata": {},
   "outputs": [],
   "source": [
    "clean_list = [\"Associated Press\", \n",
    "\"AP\", \n",
    "\"AFP\",\n",
    "\"Agence France-Presse\", \n",
    "\"Reuters\",  \n",
    "\"The Guardian\", \n",
    "\"Guardian News Service\",\n",
    "\"Agencies\", \n",
    "\"Bloomberg\", \n",
    "\"GUARDIAN\",\n",
    "\"The Washington Post\",\n",
    "\"WASHPOST\",\n",
    "\"@scmp.com\",\n",
    "\"McClatchy\",\n",
    "\"MCT\",\n",
    "\"MCY\",\n",
    "\"NYT\",\n",
    "\"Straits Times\",\n",
    "\"POLITICO\",\n",
    "\"#Tech in Asia\",\n",
    "\"Xinhua\",\n",
    "\"WIRE\",\n",
    "\"Science magazine\",\n",
    "\"USA TODAY\",\n",
    "\"Tribune News Service\",\n",
    "\".com\",]"
   ]
  },
  {
   "cell_type": "code",
   "execution_count": 122,
   "metadata": {},
   "outputs": [],
   "source": [
    "for i in clean_list:\n",
    "    df = df[~df.Author.str.contains(i)]"
   ]
  },
  {
   "cell_type": "code",
   "execution_count": 123,
   "metadata": {},
   "outputs": [
    {
     "data": {
      "text/html": [
       "<div>\n",
       "<style scoped>\n",
       "    .dataframe tbody tr th:only-of-type {\n",
       "        vertical-align: middle;\n",
       "    }\n",
       "\n",
       "    .dataframe tbody tr th {\n",
       "        vertical-align: top;\n",
       "    }\n",
       "\n",
       "    .dataframe thead th {\n",
       "        text-align: right;\n",
       "    }\n",
       "</style>\n",
       "<table border=\"1\" class=\"dataframe\">\n",
       "  <thead>\n",
       "    <tr style=\"text-align: right;\">\n",
       "      <th></th>\n",
       "      <th>Title</th>\n",
       "      <th>Author</th>\n",
       "      <th>Summary</th>\n",
       "      <th>Topic</th>\n",
       "      <th>Link</th>\n",
       "      <th>Date</th>\n",
       "    </tr>\n",
       "  </thead>\n",
       "  <tbody>\n",
       "    <tr>\n",
       "      <th>0</th>\n",
       "      <td>Play to our strength</td>\n",
       "      <td>Chan Kin Wa</td>\n",
       "      <td></td>\n",
       "      <td></td>\n",
       "      <td>https://www.scmp.com/news/hong-kong/article/1008735/play-our-strength</td>\n",
       "      <td>2012-08-12 13:59:00+00:00</td>\n",
       "    </tr>\n",
       "    <tr>\n",
       "      <th>1</th>\n",
       "      <td>HK leader Leung must focus on building team as controversies mount</td>\n",
       "      <td>Tammy Tam</td>\n",
       "      <td></td>\n",
       "      <td>Leung Chun Ying</td>\n",
       "      <td>https://www.scmp.com/news/hong-kong/article/1008741/hk-leader-leung-must-focus-building-team-controversies-mount</td>\n",
       "      <td>2012-08-12 14:17:00+00:00</td>\n",
       "    </tr>\n",
       "    <tr>\n",
       "      <th>2</th>\n",
       "      <td>Loh a curious choice for government role but could make an impact in office</td>\n",
       "      <td>Tony Cheung</td>\n",
       "      <td></td>\n",
       "      <td>Donald Tsang,Donald Tsang</td>\n",
       "      <td>https://www.scmp.com/news/hong-kong/article/1008737/loh-curious-choice-government-role-could-make-impact-office</td>\n",
       "      <td>2012-08-12 15:57:00+00:00</td>\n",
       "    </tr>\n",
       "    <tr>\n",
       "      <th>3</th>\n",
       "      <td>HK policeman Andy Naylor dies in water at Ironman triathlon in New York</td>\n",
       "      <td>Patsy Moy</td>\n",
       "      <td></td>\n",
       "      <td></td>\n",
       "      <td>https://www.scmp.com/news/hong-kong/article/1008742/hk-policeman-andy-naylor-dies-water-ironman-triathlon-new-york</td>\n",
       "      <td>2012-08-12 16:59:00+00:00</td>\n",
       "    </tr>\n",
       "    <tr>\n",
       "      <th>4</th>\n",
       "      <td>Why so glum? Hongkongers need to savour city's success</td>\n",
       "      <td>MICHALE AU,LILLY ZHANG</td>\n",
       "      <td></td>\n",
       "      <td></td>\n",
       "      <td>https://www.scmp.com/news/hong-kong/article/1008740/why-so-glum-hongkongers-need-savour-citys-success</td>\n",
       "      <td>2012-08-12 23:13:00+00:00</td>\n",
       "    </tr>\n",
       "    <tr>\n",
       "      <th>...</th>\n",
       "      <td>...</td>\n",
       "      <td>...</td>\n",
       "      <td>...</td>\n",
       "      <td>...</td>\n",
       "      <td>...</td>\n",
       "      <td>...</td>\n",
       "    </tr>\n",
       "    <tr>\n",
       "      <th>92246</th>\n",
       "      <td>Hong Kong police inspector arrested on suspicion of stealing colleagues’ tactical helmets, abalone</td>\n",
       "      <td>Christy Leung</td>\n",
       "      <td>The disappearance of the tactical gear and canned seafood from the offices of the public relations bureau prompted the man’s colleagues to file a complaint.</td>\n",
       "      <td>Hong Kong police,Crime in Hong Kong</td>\n",
       "      <td>https://www.scmp.com/news/hong-kong/law-and-crime/article/3109872/hong-kong-police-inspector-arrested-suspicion-stealing</td>\n",
       "      <td>2020-11-14 15:28:00+00:00</td>\n",
       "    </tr>\n",
       "    <tr>\n",
       "      <th>92247</th>\n",
       "      <td>Mandatory Covid-19 testing for ‘high-risk’ groups in Hong Kong gets nod, those who ignore orders face jail, fines</td>\n",
       "      <td>Elizabeth Cheung,Gigi Choy,Chris Lau</td>\n",
       "      <td>Other new measures include reintroduction of four-person cap on tables at eateries.</td>\n",
       "      <td>Coronavirus pandemic,Coronavirus pandemic: All stories,Coronavirus Hong Kong,Hong Kong social distancing,Executive Council of Hong Kong</td>\n",
       "      <td>https://www.scmp.com/news/hong-kong/health-environment/article/3109853/coronavirus-hong-kongs-executive-council-signs</td>\n",
       "      <td>2020-11-14 15:30:00+00:00</td>\n",
       "    </tr>\n",
       "    <tr>\n",
       "      <th>92248</th>\n",
       "      <td>Pope Francis said to be in final stage of selecting new Hong Kong bishop</td>\n",
       "      <td>Mimi Lau</td>\n",
       "      <td>Pontiff has three nominations to consider after an earlier announcement was postponed, according to informed source.</td>\n",
       "      <td>China-Vatican relations,Catholic Church,Hong Kong national security law (NSL),Pope Francis</td>\n",
       "      <td>https://www.scmp.com/news/china/diplomacy/article/3109825/pope-francis-said-be-final-stage-selecting-new-hong-kong</td>\n",
       "      <td>2020-11-14 15:30:00+00:00</td>\n",
       "    </tr>\n",
       "    <tr>\n",
       "      <th>92249</th>\n",
       "      <td>Hong Kong’s controversial national security law tip line gets 10,000 messages in first week of operation</td>\n",
       "      <td>Christy Leung</td>\n",
       "      <td>By 8am on Thursday, the multi-platform project had gathered the equivalent of 1,400 piece of information a day for the force’s new national security unit.</td>\n",
       "      <td>Hong Kong national security law (NSL),Hong Kong police,Hong Kong protests</td>\n",
       "      <td>https://www.scmp.com/news/hong-kong/law-and-crime/article/3109867/hong-kongs-controversial-national-security-law-tip</td>\n",
       "      <td>2020-11-14 15:47:00+00:00</td>\n",
       "    </tr>\n",
       "    <tr>\n",
       "      <th>92250</th>\n",
       "      <td>Mandatory Covid-19 testing for ‘high-risk’ groups in Hong Kong gets nod, those who ignore orders face jail, fines</td>\n",
       "      <td>Elizabeth Cheung,Gigi Choy,Chris Lau</td>\n",
       "      <td>Other new measures include reintroduction of four-person cap on tables at eateries.</td>\n",
       "      <td>Coronavirus pandemic,Coronavirus pandemic: All stories,Coronavirus Hong Kong,Hong Kong social distancing,Executive Council of Hong Kong</td>\n",
       "      <td>https://www.scmp.com/news/hong-kong/health-environment/article/3109853/coronavirus-hong-kongs-executive-council-signs</td>\n",
       "      <td>2020-11-14 16:03:00+00:00</td>\n",
       "    </tr>\n",
       "  </tbody>\n",
       "</table>\n",
       "<p>92251 rows × 6 columns</p>\n",
       "</div>"
      ],
      "text/plain": [
       "                                                                                                                   Title  \\\n",
       "0      Play to our strength                                                                                                \n",
       "1      HK leader Leung must focus on building team as controversies mount                                                  \n",
       "2      Loh a curious choice for government role but could make an impact in office                                         \n",
       "3      HK policeman Andy Naylor dies in water at Ironman triathlon in New York                                             \n",
       "4      Why so glum? Hongkongers need to savour city's success                                                              \n",
       "...                                                       ...                                                              \n",
       "92246  Hong Kong police inspector arrested on suspicion of stealing colleagues’ tactical helmets, abalone                  \n",
       "92247  Mandatory Covid-19 testing for ‘high-risk’ groups in Hong Kong gets nod, those who ignore orders face jail, fines   \n",
       "92248  Pope Francis said to be in final stage of selecting new Hong Kong bishop                                            \n",
       "92249  Hong Kong’s controversial national security law tip line gets 10,000 messages in first week of operation            \n",
       "92250  Mandatory Covid-19 testing for ‘high-risk’ groups in Hong Kong gets nod, those who ignore orders face jail, fines   \n",
       "\n",
       "                                     Author  \\\n",
       "0      Chan Kin Wa                            \n",
       "1      Tammy Tam                              \n",
       "2      Tony Cheung                            \n",
       "3      Patsy Moy                              \n",
       "4      MICHALE AU,LILLY ZHANG                 \n",
       "...                       ...                 \n",
       "92246  Christy Leung                          \n",
       "92247  Elizabeth Cheung,Gigi Choy,Chris Lau   \n",
       "92248  Mimi Lau                               \n",
       "92249  Christy Leung                          \n",
       "92250  Elizabeth Cheung,Gigi Choy,Chris Lau   \n",
       "\n",
       "                                                                                                                                                            Summary  \\\n",
       "0                                                                                                                                                                     \n",
       "1                                                                                                                                                                     \n",
       "2                                                                                                                                                                     \n",
       "3                                                                                                                                                                     \n",
       "4                                                                                                                                                                     \n",
       "...   ..                                                                                                                                                              \n",
       "92246  The disappearance of the tactical gear and canned seafood from the offices of the public relations bureau prompted the man’s colleagues to file a complaint.   \n",
       "92247  Other new measures include reintroduction of four-person cap on tables at eateries.                                                                            \n",
       "92248  Pontiff has three nominations to consider after an earlier announcement was postponed, according to informed source.                                           \n",
       "92249  By 8am on Thursday, the multi-platform project had gathered the equivalent of 1,400 piece of information a day for the force’s new national security unit.     \n",
       "92250  Other new measures include reintroduction of four-person cap on tables at eateries.                                                                            \n",
       "\n",
       "                                                                                                                                         Topic  \\\n",
       "0                                                                                                                                                \n",
       "1      Leung Chun Ying                                                                                                                           \n",
       "2      Donald Tsang,Donald Tsang                                                                                                                 \n",
       "3                                                                                                                                                \n",
       "4                                                                                                                                                \n",
       "...   ..                                                                                                                                         \n",
       "92246  Hong Kong police,Crime in Hong Kong                                                                                                       \n",
       "92247  Coronavirus pandemic,Coronavirus pandemic: All stories,Coronavirus Hong Kong,Hong Kong social distancing,Executive Council of Hong Kong   \n",
       "92248  China-Vatican relations,Catholic Church,Hong Kong national security law (NSL),Pope Francis                                                \n",
       "92249  Hong Kong national security law (NSL),Hong Kong police,Hong Kong protests                                                                 \n",
       "92250  Coronavirus pandemic,Coronavirus pandemic: All stories,Coronavirus Hong Kong,Hong Kong social distancing,Executive Council of Hong Kong   \n",
       "\n",
       "                                                                                                                           Link  \\\n",
       "0      https://www.scmp.com/news/hong-kong/article/1008735/play-our-strength                                                      \n",
       "1      https://www.scmp.com/news/hong-kong/article/1008741/hk-leader-leung-must-focus-building-team-controversies-mount           \n",
       "2      https://www.scmp.com/news/hong-kong/article/1008737/loh-curious-choice-government-role-could-make-impact-office            \n",
       "3      https://www.scmp.com/news/hong-kong/article/1008742/hk-policeman-andy-naylor-dies-water-ironman-triathlon-new-york         \n",
       "4      https://www.scmp.com/news/hong-kong/article/1008740/why-so-glum-hongkongers-need-savour-citys-success                      \n",
       "...                                                                                                      ...                      \n",
       "92246  https://www.scmp.com/news/hong-kong/law-and-crime/article/3109872/hong-kong-police-inspector-arrested-suspicion-stealing   \n",
       "92247  https://www.scmp.com/news/hong-kong/health-environment/article/3109853/coronavirus-hong-kongs-executive-council-signs      \n",
       "92248  https://www.scmp.com/news/china/diplomacy/article/3109825/pope-francis-said-be-final-stage-selecting-new-hong-kong         \n",
       "92249  https://www.scmp.com/news/hong-kong/law-and-crime/article/3109867/hong-kongs-controversial-national-security-law-tip       \n",
       "92250  https://www.scmp.com/news/hong-kong/health-environment/article/3109853/coronavirus-hong-kongs-executive-council-signs      \n",
       "\n",
       "                           Date  \n",
       "0     2012-08-12 13:59:00+00:00  \n",
       "1     2012-08-12 14:17:00+00:00  \n",
       "2     2012-08-12 15:57:00+00:00  \n",
       "3     2012-08-12 16:59:00+00:00  \n",
       "4     2012-08-12 23:13:00+00:00  \n",
       "...                         ...  \n",
       "92246 2020-11-14 15:28:00+00:00  \n",
       "92247 2020-11-14 15:30:00+00:00  \n",
       "92248 2020-11-14 15:30:00+00:00  \n",
       "92249 2020-11-14 15:47:00+00:00  \n",
       "92250 2020-11-14 16:03:00+00:00  \n",
       "\n",
       "[92251 rows x 6 columns]"
      ]
     },
     "execution_count": 123,
     "metadata": {},
     "output_type": "execute_result"
    }
   ],
   "source": [
    "df = df.reset_index(drop = True)\n",
    "df"
   ]
  },
  {
   "cell_type": "markdown",
   "metadata": {},
   "source": [
    "# Test Set"
   ]
  },
  {
   "cell_type": "code",
   "execution_count": 124,
   "metadata": {},
   "outputs": [],
   "source": [
    "df.to_pickle(\"../Pickles/SCMP_News_Full.pkl\")    "
   ]
  },
  {
   "cell_type": "code",
   "execution_count": null,
   "metadata": {},
   "outputs": [],
   "source": []
  }
 ],
 "metadata": {
  "kernelspec": {
   "display_name": "Python 3",
   "language": "python",
   "name": "python3"
  },
  "language_info": {
   "codemirror_mode": {
    "name": "ipython",
    "version": 3
   },
   "file_extension": ".py",
   "mimetype": "text/x-python",
   "name": "python",
   "nbconvert_exporter": "python",
   "pygments_lexer": "ipython3",
   "version": "3.7.6"
  }
 },
 "nbformat": 4,
 "nbformat_minor": 2
}
