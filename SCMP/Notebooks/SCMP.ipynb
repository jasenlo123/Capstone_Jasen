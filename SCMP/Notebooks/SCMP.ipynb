{
 "cells": [
  {
   "cell_type": "code",
   "execution_count": 1,
   "metadata": {},
   "outputs": [
    {
     "name": "stderr",
     "output_type": "stream",
     "text": [
      "/opt/anaconda3/lib/python3.7/site-packages/ipykernel_launcher.py:23: FutureWarning: Passing a negative integer is deprecated in version 1.0 and will not be supported in future version. Instead, use None to not limit the column width.\n"
     ]
    }
   ],
   "source": [
    "#finds site map of entire domain\n",
    "from usp.tree import sitemap_tree_for_homepage\n",
    "\n",
    "#for saving and loading objects\n",
    "import pickle\n",
    "\n",
    "#for accessing url html\n",
    "import requests\n",
    "import urllib.request, urllib.parse, urllib.error\n",
    "from urllib.request import Request, urlopen\n",
    "\n",
    "#for html parsing\n",
    "from bs4 import BeautifulSoup\n",
    "\n",
    "#anxillary functions/methods\n",
    "import numpy as np\n",
    "import pandas as pd\n",
    "import time\n",
    "import random\n",
    "import datetime\n",
    "from dateutil.tz import tzutc, tzoffset\n",
    "\n",
    "pd.set_option('display.max_colwidth', -1)\n",
    "from tqdm import tqdm, trange\n",
    "import time"
   ]
  },
  {
   "cell_type": "markdown",
   "metadata": {},
   "source": [
    "# Sitemap"
   ]
  },
  {
   "cell_type": "code",
   "execution_count": null,
   "metadata": {
    "scrolled": true
   },
   "outputs": [
    {
     "name": "stderr",
     "output_type": "stream",
     "text": [
      "2020-11-15 01:19:36,088 WARNING usp.tree [12150/MainThread]: Assuming that the homepage of https://www.scmp.com/hk is https://www.scmp.com/\n",
      "2020-11-15 01:19:36,089 INFO usp.fetch_parse [12150/MainThread]: Fetching level 0 sitemap from https://www.scmp.com/robots.txt...\n",
      "2020-11-15 01:19:36,090 INFO usp.helpers [12150/MainThread]: Fetching URL https://www.scmp.com/robots.txt...\n",
      "2020-11-15 01:19:36,295 INFO usp.fetch_parse [12150/MainThread]: Parsing sitemap from URL https://www.scmp.com/robots.txt...\n",
      "2020-11-15 01:19:36,299 INFO usp.fetch_parse [12150/MainThread]: Fetching level 0 sitemap from https://www.scmp.com/sitemap.xml...\n",
      "2020-11-15 01:19:36,300 INFO usp.helpers [12150/MainThread]: Fetching URL https://www.scmp.com/sitemap.xml...\n",
      "2020-11-15 01:19:36,495 INFO usp.fetch_parse [12150/MainThread]: Parsing sitemap from URL https://www.scmp.com/sitemap.xml...\n",
      "2020-11-15 01:19:36,500 INFO usp.fetch_parse [12150/MainThread]: Fetching level 1 sitemap from https://www.scmp.com/sitemap_article.xml...\n",
      "2020-11-15 01:19:36,501 INFO usp.helpers [12150/MainThread]: Fetching URL https://www.scmp.com/sitemap_article.xml...\n",
      "2020-11-15 01:19:37,060 INFO usp.fetch_parse [12150/MainThread]: Parsing sitemap from URL https://www.scmp.com/sitemap_article.xml...\n",
      "2020-11-15 01:19:39,164 INFO usp.fetch_parse [12150/MainThread]: Fetching level 1 sitemap from https://www.scmp.com/sitemap_gallery.xml...\n",
      "2020-11-15 01:19:39,165 INFO usp.helpers [12150/MainThread]: Fetching URL https://www.scmp.com/sitemap_gallery.xml...\n",
      "2020-11-15 01:19:39,563 INFO usp.fetch_parse [12150/MainThread]: Parsing sitemap from URL https://www.scmp.com/sitemap_gallery.xml...\n",
      "2020-11-15 01:19:40,075 INFO usp.fetch_parse [12150/MainThread]: Fetching level 1 sitemap from https://www.scmp.com/sitemap_video.xml...\n",
      "2020-11-15 01:19:40,076 INFO usp.helpers [12150/MainThread]: Fetching URL https://www.scmp.com/sitemap_video.xml...\n",
      "2020-11-15 01:19:40,927 INFO usp.fetch_parse [12150/MainThread]: Parsing sitemap from URL https://www.scmp.com/sitemap_video.xml...\n",
      "2020-11-15 01:19:42,987 INFO usp.fetch_parse [12150/MainThread]: Fetching level 1 sitemap from https://www.scmp.com/sitemap_recipe.xml...\n",
      "2020-11-15 01:19:42,988 INFO usp.helpers [12150/MainThread]: Fetching URL https://www.scmp.com/sitemap_recipe.xml...\n",
      "2020-11-15 01:19:43,434 INFO usp.fetch_parse [12150/MainThread]: Parsing sitemap from URL https://www.scmp.com/sitemap_recipe.xml...\n",
      "2020-11-15 01:19:43,474 INFO usp.fetch_parse [12150/MainThread]: Fetching level 1 sitemap from https://www.scmp.com/sitemap_cooking.xml...\n",
      "2020-11-15 01:19:43,475 INFO usp.helpers [12150/MainThread]: Fetching URL https://www.scmp.com/sitemap_cooking.xml...\n",
      "2020-11-15 01:19:43,934 INFO usp.fetch_parse [12150/MainThread]: Parsing sitemap from URL https://www.scmp.com/sitemap_cooking.xml...\n",
      "2020-11-15 01:19:43,938 INFO usp.fetch_parse [12150/MainThread]: Fetching level 1 sitemap from https://www.scmp.com/sitemap_abacus.xml...\n",
      "2020-11-15 01:19:43,938 INFO usp.helpers [12150/MainThread]: Fetching URL https://www.scmp.com/sitemap_abacus.xml...\n",
      "2020-11-15 01:19:44,558 INFO usp.fetch_parse [12150/MainThread]: Parsing sitemap from URL https://www.scmp.com/sitemap_abacus.xml...\n",
      "2020-11-15 01:19:44,904 INFO usp.fetch_parse [12150/MainThread]: Fetching level 1 sitemap from https://www.scmp.com/sitemap_coronavirus.xml...\n",
      "2020-11-15 01:19:44,905 INFO usp.helpers [12150/MainThread]: Fetching URL https://www.scmp.com/sitemap_coronavirus.xml...\n",
      "2020-11-15 01:19:45,981 INFO usp.fetch_parse [12150/MainThread]: Parsing sitemap from URL https://www.scmp.com/sitemap_coronavirus.xml...\n",
      "2020-11-15 01:19:45,987 INFO usp.fetch_parse [12150/MainThread]: Fetching level 1 sitemap from https://www.scmp.com/sitemap_yp.xml...\n",
      "2020-11-15 01:19:45,988 INFO usp.helpers [12150/MainThread]: Fetching URL https://www.scmp.com/sitemap_yp.xml...\n",
      "2020-11-15 01:19:46,710 INFO usp.fetch_parse [12150/MainThread]: Parsing sitemap from URL https://www.scmp.com/sitemap_yp.xml...\n",
      "2020-11-15 01:19:48,817 INFO usp.fetch_parse [12150/MainThread]: Fetching level 1 sitemap from https://www.scmp.com/sitemap_announcements.xml...\n",
      "2020-11-15 01:19:48,818 INFO usp.helpers [12150/MainThread]: Fetching URL https://www.scmp.com/sitemap_announcements.xml...\n",
      "2020-11-15 01:19:49,018 INFO usp.fetch_parse [12150/MainThread]: Parsing sitemap from URL https://www.scmp.com/sitemap_announcements.xml...\n",
      "2020-11-15 01:19:49,022 INFO usp.fetch_parse [12150/MainThread]: Fetching level 1 sitemap from https://www.scmp.com/sitemap_better_life.xml...\n",
      "2020-11-15 01:19:49,023 INFO usp.helpers [12150/MainThread]: Fetching URL https://www.scmp.com/sitemap_better_life.xml...\n",
      "2020-11-15 01:19:49,333 INFO usp.fetch_parse [12150/MainThread]: Parsing sitemap from URL https://www.scmp.com/sitemap_better_life.xml...\n",
      "2020-11-15 01:19:49,363 INFO usp.fetch_parse [12150/MainThread]: Fetching level 1 sitemap from https://www.scmp.com/sitemap_explained.xml...\n",
      "2020-11-15 01:19:49,364 INFO usp.helpers [12150/MainThread]: Fetching URL https://www.scmp.com/sitemap_explained.xml...\n",
      "2020-11-15 01:19:49,773 INFO usp.fetch_parse [12150/MainThread]: Parsing sitemap from URL https://www.scmp.com/sitemap_explained.xml...\n",
      "2020-11-15 01:19:49,776 INFO usp.fetch_parse [12150/MainThread]: Fetching level 1 sitemap from https://www.scmp.com/sitemap_podcasts.xml...\n",
      "2020-11-15 01:19:49,777 INFO usp.helpers [12150/MainThread]: Fetching URL https://www.scmp.com/sitemap_podcasts.xml...\n",
      "2020-11-15 01:19:50,278 INFO usp.fetch_parse [12150/MainThread]: Parsing sitemap from URL https://www.scmp.com/sitemap_podcasts.xml...\n",
      "2020-11-15 01:19:50,299 INFO usp.fetch_parse [12150/MainThread]: Fetching level 1 sitemap from https://www.scmp.com/sitemap_infographics.xml...\n",
      "2020-11-15 01:19:50,300 INFO usp.helpers [12150/MainThread]: Fetching URL https://www.scmp.com/sitemap_infographics.xml...\n",
      "2020-11-15 01:19:50,705 INFO usp.fetch_parse [12150/MainThread]: Parsing sitemap from URL https://www.scmp.com/sitemap_infographics.xml...\n",
      "2020-11-15 01:19:50,789 INFO usp.fetch_parse [12150/MainThread]: Fetching level 1 sitemap from https://www.scmp.com/sitemap_economy.xml...\n",
      "2020-11-15 01:19:50,790 INFO usp.helpers [12150/MainThread]: Fetching URL https://www.scmp.com/sitemap_economy.xml...\n",
      "2020-11-15 01:19:51,189 INFO usp.fetch_parse [12150/MainThread]: Parsing sitemap from URL https://www.scmp.com/sitemap_economy.xml...\n",
      "2020-11-15 01:19:51,658 INFO usp.fetch_parse [12150/MainThread]: Fetching level 1 sitemap from https://www.scmp.com/sitemap_business.xml...\n",
      "2020-11-15 01:19:51,659 INFO usp.helpers [12150/MainThread]: Fetching URL https://www.scmp.com/sitemap_business.xml...\n",
      "2020-11-15 01:19:52,210 INFO usp.fetch_parse [12150/MainThread]: Parsing sitemap from URL https://www.scmp.com/sitemap_business.xml...\n",
      "2020-11-15 01:19:54,344 INFO usp.fetch_parse [12150/MainThread]: Fetching level 1 sitemap from https://www.scmp.com/sitemap_comment.xml...\n",
      "2020-11-15 01:19:54,345 INFO usp.helpers [12150/MainThread]: Fetching URL https://www.scmp.com/sitemap_comment.xml...\n",
      "2020-11-15 01:19:54,840 INFO usp.fetch_parse [12150/MainThread]: Parsing sitemap from URL https://www.scmp.com/sitemap_comment.xml...\n",
      "2020-11-15 01:19:56,854 INFO usp.fetch_parse [12150/MainThread]: Fetching level 1 sitemap from https://www.scmp.com/sitemap_news.xml...\n",
      "2020-11-15 01:19:56,855 INFO usp.helpers [12150/MainThread]: Fetching URL https://www.scmp.com/sitemap_news.xml...\n",
      "2020-11-15 01:19:57,339 INFO usp.fetch_parse [12150/MainThread]: Parsing sitemap from URL https://www.scmp.com/sitemap_news.xml...\n",
      "2020-11-15 01:19:59,382 INFO usp.fetch_parse [12150/MainThread]: Fetching level 1 sitemap from https://www.scmp.com/sitemap_tech.xml...\n",
      "2020-11-15 01:19:59,382 INFO usp.helpers [12150/MainThread]: Fetching URL https://www.scmp.com/sitemap_tech.xml...\n",
      "2020-11-15 01:20:00,250 INFO usp.fetch_parse [12150/MainThread]: Parsing sitemap from URL https://www.scmp.com/sitemap_tech.xml...\n",
      "2020-11-15 01:20:02,126 INFO usp.fetch_parse [12150/MainThread]: Fetching level 1 sitemap from https://www.scmp.com/sitemap_lifestyle.xml...\n",
      "2020-11-15 01:20:02,127 INFO usp.helpers [12150/MainThread]: Fetching URL https://www.scmp.com/sitemap_lifestyle.xml...\n"
     ]
    },
    {
     "name": "stderr",
     "output_type": "stream",
     "text": [
      "2020-11-15 01:20:02,625 INFO usp.fetch_parse [12150/MainThread]: Parsing sitemap from URL https://www.scmp.com/sitemap_lifestyle.xml...\n",
      "2020-11-15 01:20:04,760 INFO usp.fetch_parse [12150/MainThread]: Fetching level 1 sitemap from https://www.scmp.com/sitemap_culture.xml...\n",
      "2020-11-15 01:20:04,761 INFO usp.helpers [12150/MainThread]: Fetching URL https://www.scmp.com/sitemap_culture.xml...\n",
      "2020-11-15 01:20:05,180 INFO usp.fetch_parse [12150/MainThread]: Parsing sitemap from URL https://www.scmp.com/sitemap_culture.xml...\n",
      "2020-11-15 01:20:05,942 INFO usp.fetch_parse [12150/MainThread]: Fetching level 1 sitemap from https://www.scmp.com/sitemap_sport.xml...\n",
      "2020-11-15 01:20:05,942 INFO usp.helpers [12150/MainThread]: Fetching URL https://www.scmp.com/sitemap_sport.xml...\n",
      "2020-11-15 01:20:06,455 INFO usp.fetch_parse [12150/MainThread]: Parsing sitemap from URL https://www.scmp.com/sitemap_sport.xml...\n",
      "2020-11-15 01:20:08,523 INFO usp.fetch_parse [12150/MainThread]: Fetching level 1 sitemap from https://www.scmp.com/sitemap_property.xml...\n",
      "2020-11-15 01:20:08,524 INFO usp.helpers [12150/MainThread]: Fetching URL https://www.scmp.com/sitemap_property.xml...\n",
      "2020-11-15 01:20:08,952 INFO usp.fetch_parse [12150/MainThread]: Parsing sitemap from URL https://www.scmp.com/sitemap_property.xml...\n",
      "2020-11-15 01:20:09,877 INFO usp.fetch_parse [12150/MainThread]: Fetching level 1 sitemap from https://www.scmp.com/sitemap_magazines.xml...\n",
      "2020-11-15 01:20:09,877 INFO usp.helpers [12150/MainThread]: Fetching URL https://www.scmp.com/sitemap_magazines.xml...\n",
      "2020-11-15 01:20:10,374 INFO usp.fetch_parse [12150/MainThread]: Parsing sitemap from URL https://www.scmp.com/sitemap_magazines.xml...\n",
      "2020-11-15 01:20:12,334 INFO usp.fetch_parse [12150/MainThread]: Fetching level 1 sitemap from https://www.scmp.com/sitemap_photos.xml...\n",
      "2020-11-15 01:20:12,334 INFO usp.helpers [12150/MainThread]: Fetching URL https://www.scmp.com/sitemap_photos.xml...\n",
      "2020-11-15 01:20:12,844 INFO usp.fetch_parse [12150/MainThread]: Parsing sitemap from URL https://www.scmp.com/sitemap_photos.xml...\n",
      "2020-11-15 01:20:13,227 INFO usp.fetch_parse [12150/MainThread]: Fetching level 1 sitemap from https://www.scmp.com/sitemap_destination_macau.xml...\n",
      "2020-11-15 01:20:13,227 INFO usp.helpers [12150/MainThread]: Fetching URL https://www.scmp.com/sitemap_destination_macau.xml...\n",
      "2020-11-15 01:20:13,456 INFO usp.fetch_parse [12150/MainThread]: Parsing sitemap from URL https://www.scmp.com/sitemap_destination_macau.xml...\n",
      "2020-11-15 01:20:13,474 INFO usp.fetch_parse [12150/MainThread]: Fetching level 1 sitemap from https://www.scmp.com/sitemap_this_week_in_asia.xml...\n",
      "2020-11-15 01:20:13,475 INFO usp.helpers [12150/MainThread]: Fetching URL https://www.scmp.com/sitemap_this_week_in_asia.xml...\n",
      "2020-11-15 01:20:13,905 INFO usp.fetch_parse [12150/MainThread]: Parsing sitemap from URL https://www.scmp.com/sitemap_this_week_in_asia.xml...\n",
      "2020-11-15 01:20:14,871 INFO usp.fetch_parse [12150/MainThread]: Fetching level 1 sitemap from https://www.scmp.com/sitemap_directories.xml...\n",
      "2020-11-15 01:20:14,872 INFO usp.helpers [12150/MainThread]: Fetching URL https://www.scmp.com/sitemap_directories.xml...\n",
      "2020-11-15 01:20:15,055 INFO usp.fetch_parse [12150/MainThread]: Parsing sitemap from URL https://www.scmp.com/sitemap_directories.xml...\n",
      "2020-11-15 01:20:15,059 INFO usp.fetch_parse [12150/MainThread]: Fetching level 1 sitemap from https://www.scmp.com/sitemap_lists.xml...\n",
      "2020-11-15 01:20:15,059 INFO usp.helpers [12150/MainThread]: Fetching URL https://www.scmp.com/sitemap_lists.xml...\n",
      "2020-11-15 01:20:19,057 INFO usp.fetch_parse [12150/MainThread]: Parsing sitemap from URL https://www.scmp.com/sitemap_lists.xml...\n",
      "2020-11-15 01:20:19,066 INFO usp.fetch_parse [12150/MainThread]: Fetching level 1 sitemap from https://www.scmp.com/sitemap_weather.xml...\n",
      "2020-11-15 01:20:19,067 INFO usp.helpers [12150/MainThread]: Fetching URL https://www.scmp.com/sitemap_weather.xml...\n",
      "2020-11-15 01:20:19,300 INFO usp.fetch_parse [12150/MainThread]: Parsing sitemap from URL https://www.scmp.com/sitemap_weather.xml...\n",
      "2020-11-15 01:20:19,307 INFO usp.fetch_parse [12150/MainThread]: Fetching level 1 sitemap from https://www.scmp.com/sitemap_about_us.xml...\n",
      "2020-11-15 01:20:19,308 INFO usp.helpers [12150/MainThread]: Fetching URL https://www.scmp.com/sitemap_about_us.xml...\n",
      "2020-11-15 01:20:20,003 INFO usp.fetch_parse [12150/MainThread]: Parsing sitemap from URL https://www.scmp.com/sitemap_about_us.xml...\n",
      "2020-11-15 01:20:20,005 INFO usp.fetch_parse [12150/MainThread]: Fetching level 1 sitemap from https://www.scmp.com/sitemap_special_reports.xml...\n",
      "2020-11-15 01:20:20,006 INFO usp.helpers [12150/MainThread]: Fetching URL https://www.scmp.com/sitemap_special_reports.xml...\n",
      "2020-11-15 01:20:20,241 INFO usp.fetch_parse [12150/MainThread]: Parsing sitemap from URL https://www.scmp.com/sitemap_special_reports.xml...\n",
      "2020-11-15 01:20:20,262 INFO usp.fetch_parse [12150/MainThread]: Fetching level 1 sitemap from https://www.scmp.com/sitemap_country_reports.xml...\n",
      "2020-11-15 01:20:20,263 INFO usp.helpers [12150/MainThread]: Fetching URL https://www.scmp.com/sitemap_country_reports.xml...\n",
      "2020-11-15 01:20:21,566 INFO usp.fetch_parse [12150/MainThread]: Parsing sitemap from URL https://www.scmp.com/sitemap_country_reports.xml...\n",
      "2020-11-15 01:20:21,676 INFO usp.fetch_parse [12150/MainThread]: Fetching level 1 sitemap from https://www.scmp.com/sitemap_video_cooking.xml...\n",
      "2020-11-15 01:20:21,676 INFO usp.helpers [12150/MainThread]: Fetching URL https://www.scmp.com/sitemap_video_cooking.xml...\n",
      "2020-11-15 01:20:21,989 INFO usp.fetch_parse [12150/MainThread]: Parsing sitemap from URL https://www.scmp.com/sitemap_video_cooking.xml...\n",
      "2020-11-15 01:20:21,992 INFO usp.fetch_parse [12150/MainThread]: Fetching level 1 sitemap from https://www.scmp.com/sitemap_video_coronavirus.xml...\n",
      "2020-11-15 01:20:21,992 INFO usp.helpers [12150/MainThread]: Fetching URL https://www.scmp.com/sitemap_video_coronavirus.xml...\n",
      "2020-11-15 01:20:22,434 INFO usp.fetch_parse [12150/MainThread]: Parsing sitemap from URL https://www.scmp.com/sitemap_video_coronavirus.xml...\n",
      "2020-11-15 01:20:22,515 INFO usp.fetch_parse [12150/MainThread]: Fetching level 1 sitemap from https://www.scmp.com/sitemap_video_environment.xml...\n",
      "2020-11-15 01:20:22,516 INFO usp.helpers [12150/MainThread]: Fetching URL https://www.scmp.com/sitemap_video_environment.xml...\n",
      "2020-11-15 01:20:22,752 INFO usp.fetch_parse [12150/MainThread]: Parsing sitemap from URL https://www.scmp.com/sitemap_video_environment.xml...\n",
      "2020-11-15 01:20:22,754 INFO usp.fetch_parse [12150/MainThread]: Fetching level 1 sitemap from https://www.scmp.com/sitemap_video_young_post.xml...\n",
      "2020-11-15 01:20:22,754 INFO usp.helpers [12150/MainThread]: Fetching URL https://www.scmp.com/sitemap_video_young_post.xml...\n",
      "2020-11-15 01:20:26,509 INFO usp.fetch_parse [12150/MainThread]: Parsing sitemap from URL https://www.scmp.com/sitemap_video_young_post.xml...\n",
      "2020-11-15 01:20:26,618 INFO usp.fetch_parse [12150/MainThread]: Fetching level 1 sitemap from https://www.scmp.com/sitemap_video_economy.xml...\n",
      "2020-11-15 01:20:26,619 INFO usp.helpers [12150/MainThread]: Fetching URL https://www.scmp.com/sitemap_video_economy.xml...\n",
      "2020-11-15 01:20:26,943 INFO usp.fetch_parse [12150/MainThread]: Parsing sitemap from URL https://www.scmp.com/sitemap_video_economy.xml...\n",
      "2020-11-15 01:20:26,952 INFO usp.fetch_parse [12150/MainThread]: Fetching level 1 sitemap from https://www.scmp.com/sitemap_video_comments.xml...\n",
      "2020-11-15 01:20:26,952 INFO usp.helpers [12150/MainThread]: Fetching URL https://www.scmp.com/sitemap_video_comments.xml...\n",
      "2020-11-15 01:20:27,183 INFO usp.fetch_parse [12150/MainThread]: Parsing sitemap from URL https://www.scmp.com/sitemap_video_comments.xml...\n",
      "2020-11-15 01:20:27,193 INFO usp.fetch_parse [12150/MainThread]: Fetching level 1 sitemap from https://www.scmp.com/sitemap_video_scmp_originals.xml...\n",
      "2020-11-15 01:20:27,194 INFO usp.helpers [12150/MainThread]: Fetching URL https://www.scmp.com/sitemap_video_scmp_originals.xml...\n",
      "2020-11-15 01:20:27,609 INFO usp.fetch_parse [12150/MainThread]: Parsing sitemap from URL https://www.scmp.com/sitemap_video_scmp_originals.xml...\n"
     ]
    },
    {
     "name": "stderr",
     "output_type": "stream",
     "text": [
      "2020-11-15 01:20:27,679 INFO usp.fetch_parse [12150/MainThread]: Fetching level 1 sitemap from https://www.scmp.com/sitemap_video_scmp_films.xml...\n",
      "2020-11-15 01:20:27,679 INFO usp.helpers [12150/MainThread]: Fetching URL https://www.scmp.com/sitemap_video_scmp_films.xml...\n",
      "2020-11-15 01:20:28,016 INFO usp.fetch_parse [12150/MainThread]: Parsing sitemap from URL https://www.scmp.com/sitemap_video_scmp_films.xml...\n",
      "2020-11-15 01:20:28,022 INFO usp.fetch_parse [12150/MainThread]: Fetching level 1 sitemap from https://www.scmp.com/sitemap_video_hong_kong.xml...\n",
      "2020-11-15 01:20:28,023 INFO usp.helpers [12150/MainThread]: Fetching URL https://www.scmp.com/sitemap_video_hong_kong.xml...\n",
      "2020-11-15 01:20:28,248 WARNING usp.helpers [12150/MainThread]: Request for URL https://www.scmp.com/sitemap_video_hong_kong.xml failed: 404 Not Found\n",
      "2020-11-15 01:20:28,249 INFO usp.helpers [12150/MainThread]: Not retrying for URL https://www.scmp.com/sitemap_video_hong_kong.xml\n",
      "2020-11-15 01:20:28,250 INFO usp.fetch_parse [12150/MainThread]: Fetching level 1 sitemap from https://www.scmp.com/sitemap_video_china.xml...\n",
      "2020-11-15 01:20:28,250 INFO usp.helpers [12150/MainThread]: Fetching URL https://www.scmp.com/sitemap_video_china.xml...\n",
      "2020-11-15 01:20:28,784 WARNING usp.helpers [12150/MainThread]: Request for URL https://www.scmp.com/sitemap_video_china.xml failed: 404 Not Found\n",
      "2020-11-15 01:20:28,785 INFO usp.helpers [12150/MainThread]: Not retrying for URL https://www.scmp.com/sitemap_video_china.xml\n",
      "2020-11-15 01:20:28,786 INFO usp.fetch_parse [12150/MainThread]: Fetching level 1 sitemap from https://www.scmp.com/sitemap_video_asia.xml...\n",
      "2020-11-15 01:20:28,786 INFO usp.helpers [12150/MainThread]: Fetching URL https://www.scmp.com/sitemap_video_asia.xml...\n",
      "2020-11-15 01:20:29,284 INFO usp.fetch_parse [12150/MainThread]: Parsing sitemap from URL https://www.scmp.com/sitemap_video_asia.xml...\n",
      "2020-11-15 01:20:29,546 INFO usp.fetch_parse [12150/MainThread]: Fetching level 1 sitemap from https://www.scmp.com/sitemap_video_world.xml...\n",
      "2020-11-15 01:20:29,547 INFO usp.helpers [12150/MainThread]: Fetching URL https://www.scmp.com/sitemap_video_world.xml...\n",
      "2020-11-15 01:20:29,896 INFO usp.fetch_parse [12150/MainThread]: Parsing sitemap from URL https://www.scmp.com/sitemap_video_world.xml...\n",
      "2020-11-15 01:20:30,117 INFO usp.fetch_parse [12150/MainThread]: Fetching level 1 sitemap from https://www.scmp.com/sitemap_video_business.xml...\n",
      "2020-11-15 01:20:30,118 INFO usp.helpers [12150/MainThread]: Fetching URL https://www.scmp.com/sitemap_video_business.xml...\n",
      "2020-11-15 01:20:31,349 INFO usp.fetch_parse [12150/MainThread]: Parsing sitemap from URL https://www.scmp.com/sitemap_video_business.xml...\n",
      "2020-11-15 01:20:31,372 INFO usp.fetch_parse [12150/MainThread]: Fetching level 1 sitemap from https://www.scmp.com/sitemap_video_arts_culture.xml...\n",
      "2020-11-15 01:20:31,373 INFO usp.helpers [12150/MainThread]: Fetching URL https://www.scmp.com/sitemap_video_arts_culture.xml...\n",
      "2020-11-15 01:20:31,674 INFO usp.fetch_parse [12150/MainThread]: Parsing sitemap from URL https://www.scmp.com/sitemap_video_arts_culture.xml...\n",
      "2020-11-15 01:20:31,690 INFO usp.fetch_parse [12150/MainThread]: Fetching level 1 sitemap from https://www.scmp.com/sitemap_video_technology.xml...\n",
      "2020-11-15 01:20:31,691 INFO usp.helpers [12150/MainThread]: Fetching URL https://www.scmp.com/sitemap_video_technology.xml...\n",
      "2020-11-15 01:20:32,210 INFO usp.fetch_parse [12150/MainThread]: Parsing sitemap from URL https://www.scmp.com/sitemap_video_technology.xml...\n",
      "2020-11-15 01:20:32,241 INFO usp.fetch_parse [12150/MainThread]: Fetching level 1 sitemap from https://www.scmp.com/sitemap_video_lifestyle.xml...\n",
      "2020-11-15 01:20:32,242 INFO usp.helpers [12150/MainThread]: Fetching URL https://www.scmp.com/sitemap_video_lifestyle.xml...\n",
      "2020-11-15 01:20:32,725 INFO usp.fetch_parse [12150/MainThread]: Parsing sitemap from URL https://www.scmp.com/sitemap_video_lifestyle.xml...\n",
      "2020-11-15 01:20:32,765 INFO usp.fetch_parse [12150/MainThread]: Fetching level 1 sitemap from https://www.scmp.com/sitemap_video_sport.xml...\n",
      "2020-11-15 01:20:32,766 INFO usp.helpers [12150/MainThread]: Fetching URL https://www.scmp.com/sitemap_video_sport.xml...\n",
      "2020-11-15 01:20:33,096 INFO usp.fetch_parse [12150/MainThread]: Parsing sitemap from URL https://www.scmp.com/sitemap_video_sport.xml...\n",
      "2020-11-15 01:20:33,131 INFO usp.fetch_parse [12150/MainThread]: Fetching level 1 sitemap from https://www.scmp.com/sitemap_video_offbeat.xml...\n",
      "2020-11-15 01:20:33,132 INFO usp.helpers [12150/MainThread]: Fetching URL https://www.scmp.com/sitemap_video_offbeat.xml...\n",
      "2020-11-15 01:20:35,974 INFO usp.fetch_parse [12150/MainThread]: Parsing sitemap from URL https://www.scmp.com/sitemap_video_offbeat.xml...\n",
      "2020-11-15 01:20:35,988 INFO usp.fetch_parse [12150/MainThread]: Fetching level 1 sitemap from https://www.scmp.com/sitemap_video_style.xml...\n",
      "2020-11-15 01:20:35,989 INFO usp.helpers [12150/MainThread]: Fetching URL https://www.scmp.com/sitemap_video_style.xml...\n",
      "2020-11-15 01:20:36,362 INFO usp.fetch_parse [12150/MainThread]: Parsing sitemap from URL https://www.scmp.com/sitemap_video_style.xml...\n",
      "2020-11-15 01:20:36,389 INFO usp.fetch_parse [12150/MainThread]: Fetching level 1 sitemap from https://www.scmp.com/sitemap_video_post_mag.xml...\n",
      "2020-11-15 01:20:36,390 INFO usp.helpers [12150/MainThread]: Fetching URL https://www.scmp.com/sitemap_video_post_mag.xml...\n",
      "2020-11-15 01:20:36,635 INFO usp.fetch_parse [12150/MainThread]: Parsing sitemap from URL https://www.scmp.com/sitemap_video_post_mag.xml...\n",
      "2020-11-15 01:20:36,644 INFO usp.fetch_parse [12150/MainThread]: Fetching level 1 sitemap from https://www.scmp.com/sitemap_video_presented.xml...\n",
      "2020-11-15 01:20:36,645 INFO usp.helpers [12150/MainThread]: Fetching URL https://www.scmp.com/sitemap_video_presented.xml...\n",
      "2020-11-15 01:20:37,118 INFO usp.fetch_parse [12150/MainThread]: Parsing sitemap from URL https://www.scmp.com/sitemap_video_presented.xml...\n",
      "2020-11-15 01:20:37,131 INFO usp.fetch_parse [12150/MainThread]: Fetching level 1 sitemap from https://www.scmp.com/sitemap_sections.xml...\n",
      "2020-11-15 01:20:37,132 INFO usp.helpers [12150/MainThread]: Fetching URL https://www.scmp.com/sitemap_sections.xml...\n",
      "2020-11-15 01:20:37,342 INFO usp.fetch_parse [12150/MainThread]: Parsing sitemap from URL https://www.scmp.com/sitemap_sections.xml...\n",
      "2020-11-15 01:20:37,352 INFO usp.fetch_parse [12150/MainThread]: Fetching level 1 sitemap from https://www.scmp.com/sitemap_topics.xml...\n",
      "2020-11-15 01:20:37,352 INFO usp.helpers [12150/MainThread]: Fetching URL https://www.scmp.com/sitemap_topics.xml...\n",
      "2020-11-15 01:20:37,681 INFO usp.fetch_parse [12150/MainThread]: Parsing sitemap from URL https://www.scmp.com/sitemap_topics.xml...\n",
      "2020-11-15 01:20:37,816 INFO usp.fetch_parse [12150/MainThread]: Fetching level 1 sitemap from https://www.scmp.com/sitemap_authors.xml...\n",
      "2020-11-15 01:20:37,817 INFO usp.helpers [12150/MainThread]: Fetching URL https://www.scmp.com/sitemap_authors.xml...\n",
      "2020-11-15 01:20:38,853 INFO usp.fetch_parse [12150/MainThread]: Parsing sitemap from URL https://www.scmp.com/sitemap_authors.xml...\n",
      "2020-11-15 01:20:39,762 INFO usp.fetch_parse [12150/MainThread]: Fetching level 1 sitemap from https://www.scmp.com/sitemap_podcast.xml...\n",
      "2020-11-15 01:20:39,763 INFO usp.helpers [12150/MainThread]: Fetching URL https://www.scmp.com/sitemap_podcast.xml...\n",
      "2020-11-15 01:20:40,253 INFO usp.fetch_parse [12150/MainThread]: Parsing sitemap from URL https://www.scmp.com/sitemap_podcast.xml...\n",
      "2020-11-15 01:20:40,255 INFO usp.fetch_parse [12150/MainThread]: Fetching level 1 sitemap from https://www.scmp.com/sitemap_yp_topics.xml...\n",
      "2020-11-15 01:20:40,256 INFO usp.helpers [12150/MainThread]: Fetching URL https://www.scmp.com/sitemap_yp_topics.xml...\n",
      "2020-11-15 01:20:44,808 INFO usp.fetch_parse [12150/MainThread]: Parsing sitemap from URL https://www.scmp.com/sitemap_yp_topics.xml...\n",
      "2020-11-15 01:20:44,812 INFO usp.fetch_parse [12150/MainThread]: Fetching level 1 sitemap from https://www.scmp.com/sitemap_video_format.xml...\n",
      "2020-11-15 01:20:44,812 INFO usp.helpers [12150/MainThread]: Fetching URL https://www.scmp.com/sitemap_video_format.xml...\n"
     ]
    },
    {
     "name": "stderr",
     "output_type": "stream",
     "text": [
      "2020-11-15 01:20:46,546 INFO usp.fetch_parse [12150/MainThread]: Parsing sitemap from URL https://www.scmp.com/sitemap_video_format.xml...\n",
      "2020-11-15 01:20:48,331 INFO usp.fetch_parse [12150/MainThread]: Fetching level 0 sitemap from https://www.scmp.com/sitemap_explained.xml...\n",
      "2020-11-15 01:20:48,332 INFO usp.helpers [12150/MainThread]: Fetching URL https://www.scmp.com/sitemap_explained.xml...\n",
      "2020-11-15 01:20:48,522 INFO usp.fetch_parse [12150/MainThread]: Parsing sitemap from URL https://www.scmp.com/sitemap_explained.xml...\n",
      "2020-11-15 01:20:48,524 INFO usp.fetch_parse [12150/MainThread]: Fetching level 0 sitemap from https://www.scmp.com/sitemap_podcasts.xml...\n",
      "2020-11-15 01:20:48,525 INFO usp.helpers [12150/MainThread]: Fetching URL https://www.scmp.com/sitemap_podcasts.xml...\n",
      "2020-11-15 01:20:48,754 INFO usp.fetch_parse [12150/MainThread]: Parsing sitemap from URL https://www.scmp.com/sitemap_podcasts.xml...\n",
      "2020-11-15 01:20:48,771 INFO usp.fetch_parse [12150/MainThread]: Fetching level 0 sitemap from https://www.scmp.com/sitemap_announcements.xml...\n",
      "2020-11-15 01:20:48,772 INFO usp.helpers [12150/MainThread]: Fetching URL https://www.scmp.com/sitemap_announcements.xml...\n",
      "2020-11-15 01:20:48,959 INFO usp.fetch_parse [12150/MainThread]: Parsing sitemap from URL https://www.scmp.com/sitemap_announcements.xml...\n",
      "2020-11-15 01:20:48,963 INFO usp.fetch_parse [12150/MainThread]: Fetching level 0 sitemap from https://www.scmp.com/sitemap_infographics.xml...\n",
      "2020-11-15 01:20:48,964 INFO usp.helpers [12150/MainThread]: Fetching URL https://www.scmp.com/sitemap_infographics.xml...\n",
      "2020-11-15 01:20:49,270 INFO usp.fetch_parse [12150/MainThread]: Parsing sitemap from URL https://www.scmp.com/sitemap_infographics.xml...\n",
      "2020-11-15 01:20:49,337 INFO usp.fetch_parse [12150/MainThread]: Fetching level 0 sitemap from https://www.scmp.com/sitemap_news.xml...\n",
      "2020-11-15 01:20:49,338 INFO usp.helpers [12150/MainThread]: Fetching URL https://www.scmp.com/sitemap_news.xml...\n",
      "2020-11-15 01:20:49,811 INFO usp.fetch_parse [12150/MainThread]: Parsing sitemap from URL https://www.scmp.com/sitemap_news.xml...\n",
      "2020-11-15 01:20:51,891 INFO usp.fetch_parse [12150/MainThread]: Fetching level 0 sitemap from https://www.scmp.com/sitemap_economy.xml...\n",
      "2020-11-15 01:20:51,891 INFO usp.helpers [12150/MainThread]: Fetching URL https://www.scmp.com/sitemap_economy.xml...\n",
      "2020-11-15 01:20:52,307 INFO usp.fetch_parse [12150/MainThread]: Parsing sitemap from URL https://www.scmp.com/sitemap_economy.xml...\n",
      "2020-11-15 01:20:52,712 INFO usp.fetch_parse [12150/MainThread]: Fetching level 0 sitemap from https://www.scmp.com/sitemap_business.xml...\n",
      "2020-11-15 01:20:52,713 INFO usp.helpers [12150/MainThread]: Fetching URL https://www.scmp.com/sitemap_business.xml...\n",
      "2020-11-15 01:20:53,228 INFO usp.fetch_parse [12150/MainThread]: Parsing sitemap from URL https://www.scmp.com/sitemap_business.xml...\n",
      "2020-11-15 01:20:55,308 INFO usp.fetch_parse [12150/MainThread]: Fetching level 0 sitemap from https://www.scmp.com/sitemap_comment.xml...\n",
      "2020-11-15 01:20:55,309 INFO usp.helpers [12150/MainThread]: Fetching URL https://www.scmp.com/sitemap_comment.xml...\n",
      "2020-11-15 01:20:56,657 INFO usp.fetch_parse [12150/MainThread]: Parsing sitemap from URL https://www.scmp.com/sitemap_comment.xml...\n",
      "2020-11-15 01:20:58,723 INFO usp.fetch_parse [12150/MainThread]: Fetching level 0 sitemap from https://www.scmp.com/sitemap_tech.xml...\n",
      "2020-11-15 01:20:58,724 INFO usp.helpers [12150/MainThread]: Fetching URL https://www.scmp.com/sitemap_tech.xml...\n",
      "2020-11-15 01:20:59,089 INFO usp.fetch_parse [12150/MainThread]: Parsing sitemap from URL https://www.scmp.com/sitemap_tech.xml...\n",
      "2020-11-15 01:21:00,718 INFO usp.fetch_parse [12150/MainThread]: Fetching level 0 sitemap from https://www.scmp.com/sitemap_lifestyle.xml...\n",
      "2020-11-15 01:21:00,719 INFO usp.helpers [12150/MainThread]: Fetching URL https://www.scmp.com/sitemap_lifestyle.xml...\n",
      "2020-11-15 01:21:01,262 INFO usp.fetch_parse [12150/MainThread]: Parsing sitemap from URL https://www.scmp.com/sitemap_lifestyle.xml...\n",
      "2020-11-15 01:21:03,434 INFO usp.fetch_parse [12150/MainThread]: Fetching level 0 sitemap from https://www.scmp.com/sitemap_culture.xml...\n",
      "2020-11-15 01:21:03,435 INFO usp.helpers [12150/MainThread]: Fetching URL https://www.scmp.com/sitemap_culture.xml...\n",
      "2020-11-15 01:21:03,843 INFO usp.fetch_parse [12150/MainThread]: Parsing sitemap from URL https://www.scmp.com/sitemap_culture.xml...\n",
      "2020-11-15 01:21:04,588 INFO usp.fetch_parse [12150/MainThread]: Fetching level 0 sitemap from https://www.scmp.com/sitemap_sport.xml...\n",
      "2020-11-15 01:21:04,589 INFO usp.helpers [12150/MainThread]: Fetching URL https://www.scmp.com/sitemap_sport.xml...\n",
      "2020-11-15 01:21:05,105 INFO usp.fetch_parse [12150/MainThread]: Parsing sitemap from URL https://www.scmp.com/sitemap_sport.xml...\n",
      "2020-11-15 01:21:07,222 INFO usp.fetch_parse [12150/MainThread]: Fetching level 0 sitemap from https://www.scmp.com/sitemap_property.xml...\n",
      "2020-11-15 01:21:07,223 INFO usp.helpers [12150/MainThread]: Fetching URL https://www.scmp.com/sitemap_property.xml...\n",
      "2020-11-15 01:21:07,485 INFO usp.fetch_parse [12150/MainThread]: Parsing sitemap from URL https://www.scmp.com/sitemap_property.xml...\n",
      "2020-11-15 01:21:08,418 INFO usp.fetch_parse [12150/MainThread]: Fetching level 0 sitemap from https://www.scmp.com/sitemap_photos.xml...\n",
      "2020-11-15 01:21:08,419 INFO usp.helpers [12150/MainThread]: Fetching URL https://www.scmp.com/sitemap_photos.xml...\n",
      "2020-11-15 01:21:08,823 INFO usp.fetch_parse [12150/MainThread]: Parsing sitemap from URL https://www.scmp.com/sitemap_photos.xml...\n",
      "2020-11-15 01:21:09,224 INFO usp.fetch_parse [12150/MainThread]: Fetching level 0 sitemap from https://www.scmp.com/sitemap_video.xml...\n",
      "2020-11-15 01:21:09,225 INFO usp.helpers [12150/MainThread]: Fetching URL https://www.scmp.com/sitemap_video.xml...\n",
      "2020-11-15 01:21:09,677 INFO usp.fetch_parse [12150/MainThread]: Parsing sitemap from URL https://www.scmp.com/sitemap_video.xml...\n",
      "2020-11-15 01:21:11,696 INFO usp.fetch_parse [12150/MainThread]: Fetching level 0 sitemap from https://www.scmp.com/sitemap_destination_macau.xml...\n",
      "2020-11-15 01:21:11,697 INFO usp.helpers [12150/MainThread]: Fetching URL https://www.scmp.com/sitemap_destination_macau.xml...\n",
      "2020-11-15 01:21:11,907 INFO usp.fetch_parse [12150/MainThread]: Parsing sitemap from URL https://www.scmp.com/sitemap_destination_macau.xml...\n",
      "2020-11-15 01:21:11,928 INFO usp.fetch_parse [12150/MainThread]: Fetching level 0 sitemap from https://www.scmp.com/sitemap_magazines.xml...\n",
      "2020-11-15 01:21:11,929 INFO usp.helpers [12150/MainThread]: Fetching URL https://www.scmp.com/sitemap_magazines.xml...\n",
      "2020-11-15 01:21:12,447 INFO usp.fetch_parse [12150/MainThread]: Parsing sitemap from URL https://www.scmp.com/sitemap_magazines.xml...\n",
      "2020-11-15 01:21:14,638 INFO usp.fetch_parse [12150/MainThread]: Fetching level 0 sitemap from https://www.scmp.com/sitemap_this_week_in_asia.xml...\n",
      "2020-11-15 01:21:14,639 INFO usp.helpers [12150/MainThread]: Fetching URL https://www.scmp.com/sitemap_this_week_in_asia.xml...\n",
      "2020-11-15 01:21:14,966 INFO usp.fetch_parse [12150/MainThread]: Parsing sitemap from URL https://www.scmp.com/sitemap_this_week_in_asia.xml...\n",
      "2020-11-15 01:21:16,163 INFO usp.fetch_parse [12150/MainThread]: Fetching level 0 sitemap from https://www.scmp.com/sitemap_directories.xml...\n",
      "2020-11-15 01:21:16,164 INFO usp.helpers [12150/MainThread]: Fetching URL https://www.scmp.com/sitemap_directories.xml...\n",
      "2020-11-15 01:21:16,543 INFO usp.fetch_parse [12150/MainThread]: Parsing sitemap from URL https://www.scmp.com/sitemap_directories.xml...\n",
      "2020-11-15 01:21:16,548 INFO usp.fetch_parse [12150/MainThread]: Fetching level 0 sitemap from https://www.scmp.com/sitemap_weather.xml...\n",
      "2020-11-15 01:21:16,548 INFO usp.helpers [12150/MainThread]: Fetching URL https://www.scmp.com/sitemap_weather.xml...\n",
      "2020-11-15 01:21:16,717 INFO usp.fetch_parse [12150/MainThread]: Parsing sitemap from URL https://www.scmp.com/sitemap_weather.xml...\n",
      "2020-11-15 01:21:16,727 INFO usp.fetch_parse [12150/MainThread]: Fetching level 0 sitemap from https://www.scmp.com/sitemap_about_us.xml...\n"
     ]
    },
    {
     "name": "stderr",
     "output_type": "stream",
     "text": [
      "2020-11-15 01:21:16,727 INFO usp.helpers [12150/MainThread]: Fetching URL https://www.scmp.com/sitemap_about_us.xml...\n",
      "2020-11-15 01:21:16,913 INFO usp.fetch_parse [12150/MainThread]: Parsing sitemap from URL https://www.scmp.com/sitemap_about_us.xml...\n",
      "2020-11-15 01:21:16,915 INFO usp.fetch_parse [12150/MainThread]: Fetching level 0 sitemap from https://www.scmp.com/sitemap_lists.xml...\n",
      "2020-11-15 01:21:16,916 INFO usp.helpers [12150/MainThread]: Fetching URL https://www.scmp.com/sitemap_lists.xml...\n",
      "2020-11-15 01:21:17,146 INFO usp.fetch_parse [12150/MainThread]: Parsing sitemap from URL https://www.scmp.com/sitemap_lists.xml...\n",
      "2020-11-15 01:21:17,155 INFO usp.fetch_parse [12150/MainThread]: Fetching level 0 sitemap from https://www.scmp.com/sitemap_special_reports.xml...\n",
      "2020-11-15 01:21:17,156 INFO usp.helpers [12150/MainThread]: Fetching URL https://www.scmp.com/sitemap_special_reports.xml...\n",
      "2020-11-15 01:21:17,367 INFO usp.fetch_parse [12150/MainThread]: Parsing sitemap from URL https://www.scmp.com/sitemap_special_reports.xml...\n",
      "2020-11-15 01:21:17,388 INFO usp.fetch_parse [12150/MainThread]: Fetching level 0 sitemap from https://www.scmp.com/sitemap_country_reports.xml...\n",
      "2020-11-15 01:21:17,389 INFO usp.helpers [12150/MainThread]: Fetching URL https://www.scmp.com/sitemap_country_reports.xml...\n",
      "2020-11-15 01:21:17,487 INFO usp.fetch_parse [12150/MainThread]: Parsing sitemap from URL https://www.scmp.com/sitemap_country_reports.xml...\n",
      "2020-11-15 01:21:17,609 INFO usp.fetch_parse [12150/MainThread]: Fetching level 0 sitemap from https://www.scmp.com/sitemap_video_comments.xml...\n",
      "2020-11-15 01:21:17,610 INFO usp.helpers [12150/MainThread]: Fetching URL https://www.scmp.com/sitemap_video_comments.xml...\n",
      "2020-11-15 01:21:17,833 INFO usp.fetch_parse [12150/MainThread]: Parsing sitemap from URL https://www.scmp.com/sitemap_video_comments.xml...\n",
      "2020-11-15 01:21:17,841 INFO usp.fetch_parse [12150/MainThread]: Fetching level 0 sitemap from https://www.scmp.com/sitemap_video_scmp_originals.xml...\n",
      "2020-11-15 01:21:17,842 INFO usp.helpers [12150/MainThread]: Fetching URL https://www.scmp.com/sitemap_video_scmp_originals.xml...\n",
      "2020-11-15 01:21:18,143 INFO usp.fetch_parse [12150/MainThread]: Parsing sitemap from URL https://www.scmp.com/sitemap_video_scmp_originals.xml...\n",
      "2020-11-15 01:21:18,226 INFO usp.fetch_parse [12150/MainThread]: Fetching level 0 sitemap from https://www.scmp.com/sitemap_video_hong_kong.xml...\n",
      "2020-11-15 01:21:18,227 INFO usp.helpers [12150/MainThread]: Fetching URL https://www.scmp.com/sitemap_video_hong_kong.xml...\n",
      "2020-11-15 01:21:20,330 INFO usp.fetch_parse [12150/MainThread]: Parsing sitemap from URL https://www.scmp.com/sitemap_video_hong_kong.xml...\n",
      "2020-11-15 01:21:20,571 INFO usp.fetch_parse [12150/MainThread]: Fetching level 0 sitemap from https://www.scmp.com/sitemap_video_china.xml...\n",
      "2020-11-15 01:21:20,572 INFO usp.helpers [12150/MainThread]: Fetching URL https://www.scmp.com/sitemap_video_china.xml...\n",
      "2020-11-15 01:21:21,148 INFO usp.fetch_parse [12150/MainThread]: Parsing sitemap from URL https://www.scmp.com/sitemap_video_china.xml...\n",
      "2020-11-15 01:21:21,589 INFO usp.fetch_parse [12150/MainThread]: Fetching level 0 sitemap from https://www.scmp.com/sitemap_video_asia.xml...\n",
      "2020-11-15 01:21:21,590 INFO usp.helpers [12150/MainThread]: Fetching URL https://www.scmp.com/sitemap_video_asia.xml...\n",
      "2020-11-15 01:21:21,933 INFO usp.fetch_parse [12150/MainThread]: Parsing sitemap from URL https://www.scmp.com/sitemap_video_asia.xml...\n",
      "2020-11-15 01:21:22,187 INFO usp.fetch_parse [12150/MainThread]: Fetching level 0 sitemap from https://www.scmp.com/sitemap_video_world.xml...\n",
      "2020-11-15 01:21:22,188 INFO usp.helpers [12150/MainThread]: Fetching URL https://www.scmp.com/sitemap_video_world.xml...\n",
      "2020-11-15 01:21:22,545 INFO usp.fetch_parse [12150/MainThread]: Parsing sitemap from URL https://www.scmp.com/sitemap_video_world.xml...\n",
      "2020-11-15 01:21:22,802 INFO usp.fetch_parse [12150/MainThread]: Fetching level 0 sitemap from https://www.scmp.com/sitemap_video_business.xml...\n",
      "2020-11-15 01:21:22,803 INFO usp.helpers [12150/MainThread]: Fetching URL https://www.scmp.com/sitemap_video_business.xml...\n",
      "2020-11-15 01:21:23,010 INFO usp.fetch_parse [12150/MainThread]: Parsing sitemap from URL https://www.scmp.com/sitemap_video_business.xml...\n",
      "2020-11-15 01:21:23,036 INFO usp.fetch_parse [12150/MainThread]: Fetching level 0 sitemap from https://www.scmp.com/sitemap_video_arts_culture.xml...\n",
      "2020-11-15 01:21:23,037 INFO usp.helpers [12150/MainThread]: Fetching URL https://www.scmp.com/sitemap_video_arts_culture.xml...\n",
      "2020-11-15 01:21:23,259 INFO usp.fetch_parse [12150/MainThread]: Parsing sitemap from URL https://www.scmp.com/sitemap_video_arts_culture.xml...\n",
      "2020-11-15 01:21:23,276 INFO usp.fetch_parse [12150/MainThread]: Fetching level 0 sitemap from https://www.scmp.com/sitemap_video_technology.xml...\n",
      "2020-11-15 01:21:23,277 INFO usp.helpers [12150/MainThread]: Fetching URL https://www.scmp.com/sitemap_video_technology.xml...\n",
      "2020-11-15 01:21:23,556 INFO usp.fetch_parse [12150/MainThread]: Parsing sitemap from URL https://www.scmp.com/sitemap_video_technology.xml...\n",
      "2020-11-15 01:21:23,587 INFO usp.fetch_parse [12150/MainThread]: Fetching level 0 sitemap from https://www.scmp.com/sitemap_video_lifestyle.xml...\n",
      "2020-11-15 01:21:23,587 INFO usp.helpers [12150/MainThread]: Fetching URL https://www.scmp.com/sitemap_video_lifestyle.xml...\n",
      "2020-11-15 01:21:23,866 INFO usp.fetch_parse [12150/MainThread]: Parsing sitemap from URL https://www.scmp.com/sitemap_video_lifestyle.xml...\n",
      "2020-11-15 01:21:23,909 INFO usp.fetch_parse [12150/MainThread]: Fetching level 0 sitemap from https://www.scmp.com/sitemap_video_sport.xml...\n",
      "2020-11-15 01:21:23,909 INFO usp.helpers [12150/MainThread]: Fetching URL https://www.scmp.com/sitemap_video_sport.xml...\n",
      "2020-11-15 01:21:24,161 INFO usp.fetch_parse [12150/MainThread]: Parsing sitemap from URL https://www.scmp.com/sitemap_video_sport.xml...\n",
      "2020-11-15 01:21:24,195 INFO usp.fetch_parse [12150/MainThread]: Fetching level 0 sitemap from https://www.scmp.com/sitemap_video_offbeat.xml...\n",
      "2020-11-15 01:21:24,196 INFO usp.helpers [12150/MainThread]: Fetching URL https://www.scmp.com/sitemap_video_offbeat.xml...\n",
      "2020-11-15 01:21:24,412 INFO usp.fetch_parse [12150/MainThread]: Parsing sitemap from URL https://www.scmp.com/sitemap_video_offbeat.xml...\n",
      "2020-11-15 01:21:24,427 INFO usp.fetch_parse [12150/MainThread]: Fetching level 0 sitemap from https://www.scmp.com/sitemap_video_style.xml...\n",
      "2020-11-15 01:21:24,428 INFO usp.helpers [12150/MainThread]: Fetching URL https://www.scmp.com/sitemap_video_style.xml...\n",
      "2020-11-15 01:21:24,515 INFO usp.fetch_parse [12150/MainThread]: Parsing sitemap from URL https://www.scmp.com/sitemap_video_style.xml...\n",
      "2020-11-15 01:21:24,541 INFO usp.fetch_parse [12150/MainThread]: Fetching level 0 sitemap from https://www.scmp.com/sitemap_video_post_mag.xml...\n",
      "2020-11-15 01:21:24,541 INFO usp.helpers [12150/MainThread]: Fetching URL https://www.scmp.com/sitemap_video_post_mag.xml...\n",
      "2020-11-15 01:21:24,757 INFO usp.fetch_parse [12150/MainThread]: Parsing sitemap from URL https://www.scmp.com/sitemap_video_post_mag.xml...\n",
      "2020-11-15 01:21:24,766 INFO usp.fetch_parse [12150/MainThread]: Fetching level 0 sitemap from https://www.scmp.com/sitemap_video_presented.xml...\n",
      "2020-11-15 01:21:24,767 INFO usp.helpers [12150/MainThread]: Fetching URL https://www.scmp.com/sitemap_video_presented.xml...\n",
      "2020-11-15 01:21:24,985 INFO usp.fetch_parse [12150/MainThread]: Parsing sitemap from URL https://www.scmp.com/sitemap_video_presented.xml...\n",
      "2020-11-15 01:21:24,998 INFO usp.fetch_parse [12150/MainThread]: Fetching level 0 sitemap from https://www.scmp.com/sitemap_article.xml...\n",
      "2020-11-15 01:21:24,998 INFO usp.helpers [12150/MainThread]: Fetching URL https://www.scmp.com/sitemap_article.xml...\n",
      "2020-11-15 01:21:25,455 INFO usp.fetch_parse [12150/MainThread]: Parsing sitemap from URL https://www.scmp.com/sitemap_article.xml...\n",
      "2020-11-15 01:21:27,530 INFO usp.fetch_parse [12150/MainThread]: Fetching level 0 sitemap from https://www.scmp.com/sitemap_gallery.xml...\n",
      "2020-11-15 01:21:27,530 INFO usp.helpers [12150/MainThread]: Fetching URL https://www.scmp.com/sitemap_gallery.xml...\n"
     ]
    },
    {
     "name": "stderr",
     "output_type": "stream",
     "text": [
      "2020-11-15 01:21:28,231 INFO usp.fetch_parse [12150/MainThread]: Parsing sitemap from URL https://www.scmp.com/sitemap_gallery.xml...\n",
      "2020-11-15 01:21:28,742 INFO usp.fetch_parse [12150/MainThread]: Fetching level 0 sitemap from https://www.scmp.com/sitemap_poll.xml...\n",
      "2020-11-15 01:21:28,743 INFO usp.helpers [12150/MainThread]: Fetching URL https://www.scmp.com/sitemap_poll.xml...\n",
      "2020-11-15 01:21:28,932 INFO usp.fetch_parse [12150/MainThread]: Parsing sitemap from URL https://www.scmp.com/sitemap_poll.xml...\n",
      "2020-11-15 01:21:28,934 INFO usp.fetch_parse [12150/MainThread]: Fetching level 0 sitemap from https://www.scmp.com/sitemap_promotion.xml...\n",
      "2020-11-15 01:21:28,935 INFO usp.helpers [12150/MainThread]: Fetching URL https://www.scmp.com/sitemap_promotion.xml...\n",
      "2020-11-15 01:21:29,164 INFO usp.fetch_parse [12150/MainThread]: Parsing sitemap from URL https://www.scmp.com/sitemap_promotion.xml...\n",
      "2020-11-15 01:21:29,166 INFO usp.fetch_parse [12150/MainThread]: Fetching level 0 sitemap from https://www.scmp.com/sitemap_webform.xml...\n",
      "2020-11-15 01:21:29,167 INFO usp.helpers [12150/MainThread]: Fetching URL https://www.scmp.com/sitemap_webform.xml...\n",
      "2020-11-15 01:21:29,609 INFO usp.fetch_parse [12150/MainThread]: Parsing sitemap from URL https://www.scmp.com/sitemap_webform.xml...\n",
      "2020-11-15 01:21:29,611 INFO usp.fetch_parse [12150/MainThread]: Fetching level 0 sitemap from https://www.scmp.com/sitemap_video_format.xml...\n",
      "2020-11-15 01:21:29,612 INFO usp.helpers [12150/MainThread]: Fetching URL https://www.scmp.com/sitemap_video_format.xml...\n",
      "2020-11-15 01:21:30,254 INFO usp.fetch_parse [12150/MainThread]: Parsing sitemap from URL https://www.scmp.com/sitemap_video_format.xml...\n",
      "2020-11-15 01:21:32,206 INFO usp.fetch_parse [12150/MainThread]: Fetching level 0 sitemap from https://www.scmp.com/sitemap_sections.xml...\n",
      "2020-11-15 01:21:32,207 INFO usp.helpers [12150/MainThread]: Fetching URL https://www.scmp.com/sitemap_sections.xml...\n",
      "2020-11-15 01:21:32,452 INFO usp.fetch_parse [12150/MainThread]: Parsing sitemap from URL https://www.scmp.com/sitemap_sections.xml...\n",
      "2020-11-15 01:21:32,464 INFO usp.fetch_parse [12150/MainThread]: Fetching level 0 sitemap from https://www.scmp.com/sitemap_topics.xml...\n",
      "2020-11-15 01:21:32,464 INFO usp.helpers [12150/MainThread]: Fetching URL https://www.scmp.com/sitemap_topics.xml...\n",
      "2020-11-15 01:21:32,808 INFO usp.fetch_parse [12150/MainThread]: Parsing sitemap from URL https://www.scmp.com/sitemap_topics.xml...\n",
      "2020-11-15 01:21:32,943 INFO usp.fetch_parse [12150/MainThread]: Fetching level 0 sitemap from https://www.scmp.com/sitemap_authors.xml...\n",
      "2020-11-15 01:21:32,944 INFO usp.helpers [12150/MainThread]: Fetching URL https://www.scmp.com/sitemap_authors.xml...\n",
      "2020-11-15 01:21:33,349 INFO usp.fetch_parse [12150/MainThread]: Parsing sitemap from URL https://www.scmp.com/sitemap_authors.xml...\n",
      "2020-11-15 01:21:34,295 INFO usp.fetch_parse [12150/MainThread]: Fetching level 0 sitemap from https://www.scmp.com/sitemap_archive.xml...\n",
      "2020-11-15 01:21:34,296 INFO usp.helpers [12150/MainThread]: Fetching URL https://www.scmp.com/sitemap_archive.xml...\n",
      "2020-11-15 01:21:39,547 INFO usp.fetch_parse [12150/MainThread]: Parsing sitemap from URL https://www.scmp.com/sitemap_archive.xml...\n",
      "2020-11-15 01:21:39,562 INFO usp.fetch_parse [12150/MainThread]: Fetching level 1 sitemap from https://www.scmp.com/sitemap_archive_1991_Jun.xml...\n",
      "2020-11-15 01:21:39,563 INFO usp.helpers [12150/MainThread]: Fetching URL https://www.scmp.com/sitemap_archive_1991_Jun.xml...\n",
      "2020-11-15 01:21:39,956 INFO usp.fetch_parse [12150/MainThread]: Parsing sitemap from URL https://www.scmp.com/sitemap_archive_1991_Jun.xml...\n",
      "2020-11-15 01:21:39,959 INFO usp.fetch_parse [12150/MainThread]: Fetching level 1 sitemap from https://www.scmp.com/sitemap_archive_1993_Apr.xml...\n",
      "2020-11-15 01:21:39,960 INFO usp.helpers [12150/MainThread]: Fetching URL https://www.scmp.com/sitemap_archive_1993_Apr.xml...\n",
      "2020-11-15 01:21:42,543 INFO usp.fetch_parse [12150/MainThread]: Parsing sitemap from URL https://www.scmp.com/sitemap_archive_1993_Apr.xml...\n",
      "2020-11-15 01:21:43,106 INFO usp.fetch_parse [12150/MainThread]: Fetching level 1 sitemap from https://www.scmp.com/sitemap_archive_1993_Aug.xml...\n",
      "2020-11-15 01:21:43,107 INFO usp.helpers [12150/MainThread]: Fetching URL https://www.scmp.com/sitemap_archive_1993_Aug.xml...\n",
      "2020-11-15 01:21:43,695 INFO usp.fetch_parse [12150/MainThread]: Parsing sitemap from URL https://www.scmp.com/sitemap_archive_1993_Aug.xml...\n",
      "2020-11-15 01:21:44,241 INFO usp.fetch_parse [12150/MainThread]: Fetching level 1 sitemap from https://www.scmp.com/sitemap_archive_1993_Dec.xml...\n",
      "2020-11-15 01:21:44,241 INFO usp.helpers [12150/MainThread]: Fetching URL https://www.scmp.com/sitemap_archive_1993_Dec.xml...\n",
      "2020-11-15 01:21:44,755 INFO usp.fetch_parse [12150/MainThread]: Parsing sitemap from URL https://www.scmp.com/sitemap_archive_1993_Dec.xml...\n",
      "2020-11-15 01:21:45,307 INFO usp.fetch_parse [12150/MainThread]: Fetching level 1 sitemap from https://www.scmp.com/sitemap_archive_1993_Feb.xml...\n",
      "2020-11-15 01:21:45,308 INFO usp.helpers [12150/MainThread]: Fetching URL https://www.scmp.com/sitemap_archive_1993_Feb.xml...\n",
      "2020-11-15 01:21:48,257 INFO usp.fetch_parse [12150/MainThread]: Parsing sitemap from URL https://www.scmp.com/sitemap_archive_1993_Feb.xml...\n",
      "2020-11-15 01:21:48,758 INFO usp.fetch_parse [12150/MainThread]: Fetching level 1 sitemap from https://www.scmp.com/sitemap_archive_1993_Jan.xml...\n",
      "2020-11-15 01:21:48,759 INFO usp.helpers [12150/MainThread]: Fetching URL https://www.scmp.com/sitemap_archive_1993_Jan.xml...\n",
      "2020-11-15 01:21:49,383 INFO usp.fetch_parse [12150/MainThread]: Parsing sitemap from URL https://www.scmp.com/sitemap_archive_1993_Jan.xml...\n",
      "2020-11-15 01:21:49,956 INFO usp.fetch_parse [12150/MainThread]: Fetching level 1 sitemap from https://www.scmp.com/sitemap_archive_1993_Jul.xml...\n",
      "2020-11-15 01:21:49,956 INFO usp.helpers [12150/MainThread]: Fetching URL https://www.scmp.com/sitemap_archive_1993_Jul.xml...\n",
      "2020-11-15 01:21:50,863 INFO usp.fetch_parse [12150/MainThread]: Parsing sitemap from URL https://www.scmp.com/sitemap_archive_1993_Jul.xml...\n",
      "2020-11-15 01:21:51,387 INFO usp.fetch_parse [12150/MainThread]: Fetching level 1 sitemap from https://www.scmp.com/sitemap_archive_1993_Jun.xml...\n",
      "2020-11-15 01:21:51,388 INFO usp.helpers [12150/MainThread]: Fetching URL https://www.scmp.com/sitemap_archive_1993_Jun.xml...\n",
      "2020-11-15 01:21:52,248 INFO usp.fetch_parse [12150/MainThread]: Parsing sitemap from URL https://www.scmp.com/sitemap_archive_1993_Jun.xml...\n",
      "2020-11-15 01:21:52,774 INFO usp.fetch_parse [12150/MainThread]: Fetching level 1 sitemap from https://www.scmp.com/sitemap_archive_1993_Mar.xml...\n",
      "2020-11-15 01:21:52,775 INFO usp.helpers [12150/MainThread]: Fetching URL https://www.scmp.com/sitemap_archive_1993_Mar.xml...\n",
      "2020-11-15 01:21:53,320 INFO usp.fetch_parse [12150/MainThread]: Parsing sitemap from URL https://www.scmp.com/sitemap_archive_1993_Mar.xml...\n",
      "2020-11-15 01:21:53,945 INFO usp.fetch_parse [12150/MainThread]: Fetching level 1 sitemap from https://www.scmp.com/sitemap_archive_1993_May.xml...\n",
      "2020-11-15 01:21:53,946 INFO usp.helpers [12150/MainThread]: Fetching URL https://www.scmp.com/sitemap_archive_1993_May.xml...\n",
      "2020-11-15 01:21:54,458 INFO usp.fetch_parse [12150/MainThread]: Parsing sitemap from URL https://www.scmp.com/sitemap_archive_1993_May.xml...\n",
      "2020-11-15 01:21:55,100 INFO usp.fetch_parse [12150/MainThread]: Fetching level 1 sitemap from https://www.scmp.com/sitemap_archive_1993_Nov.xml...\n",
      "2020-11-15 01:21:55,101 INFO usp.helpers [12150/MainThread]: Fetching URL https://www.scmp.com/sitemap_archive_1993_Nov.xml...\n",
      "2020-11-15 01:21:55,665 INFO usp.fetch_parse [12150/MainThread]: Parsing sitemap from URL https://www.scmp.com/sitemap_archive_1993_Nov.xml...\n",
      "2020-11-15 01:21:56,275 INFO usp.fetch_parse [12150/MainThread]: Fetching level 1 sitemap from https://www.scmp.com/sitemap_archive_1993_Oct.xml...\n",
      "2020-11-15 01:21:56,276 INFO usp.helpers [12150/MainThread]: Fetching URL https://www.scmp.com/sitemap_archive_1993_Oct.xml...\n",
      "2020-11-15 01:21:57,319 INFO usp.fetch_parse [12150/MainThread]: Parsing sitemap from URL https://www.scmp.com/sitemap_archive_1993_Oct.xml...\n"
     ]
    },
    {
     "name": "stderr",
     "output_type": "stream",
     "text": [
      "2020-11-15 01:21:57,936 INFO usp.fetch_parse [12150/MainThread]: Fetching level 1 sitemap from https://www.scmp.com/sitemap_archive_1993_Sep.xml...\n",
      "2020-11-15 01:21:57,937 INFO usp.helpers [12150/MainThread]: Fetching URL https://www.scmp.com/sitemap_archive_1993_Sep.xml...\n",
      "2020-11-15 01:21:58,474 INFO usp.fetch_parse [12150/MainThread]: Parsing sitemap from URL https://www.scmp.com/sitemap_archive_1993_Sep.xml...\n",
      "2020-11-15 01:21:59,060 INFO usp.fetch_parse [12150/MainThread]: Fetching level 1 sitemap from https://www.scmp.com/sitemap_archive_1994_Apr.xml...\n",
      "2020-11-15 01:21:59,061 INFO usp.helpers [12150/MainThread]: Fetching URL https://www.scmp.com/sitemap_archive_1994_Apr.xml...\n",
      "2020-11-15 01:21:59,704 INFO usp.fetch_parse [12150/MainThread]: Parsing sitemap from URL https://www.scmp.com/sitemap_archive_1994_Apr.xml...\n",
      "2020-11-15 01:22:00,257 INFO usp.fetch_parse [12150/MainThread]: Fetching level 1 sitemap from https://www.scmp.com/sitemap_archive_1994_Aug.xml...\n",
      "2020-11-15 01:22:00,258 INFO usp.helpers [12150/MainThread]: Fetching URL https://www.scmp.com/sitemap_archive_1994_Aug.xml...\n",
      "2020-11-15 01:22:00,816 INFO usp.fetch_parse [12150/MainThread]: Parsing sitemap from URL https://www.scmp.com/sitemap_archive_1994_Aug.xml...\n",
      "2020-11-15 01:22:01,346 INFO usp.fetch_parse [12150/MainThread]: Fetching level 1 sitemap from https://www.scmp.com/sitemap_archive_1994_Dec.xml...\n",
      "2020-11-15 01:22:01,347 INFO usp.helpers [12150/MainThread]: Fetching URL https://www.scmp.com/sitemap_archive_1994_Dec.xml...\n",
      "2020-11-15 01:22:02,062 INFO usp.fetch_parse [12150/MainThread]: Parsing sitemap from URL https://www.scmp.com/sitemap_archive_1994_Dec.xml...\n",
      "2020-11-15 01:22:02,626 INFO usp.fetch_parse [12150/MainThread]: Fetching level 1 sitemap from https://www.scmp.com/sitemap_archive_1994_Feb.xml...\n",
      "2020-11-15 01:22:02,626 INFO usp.helpers [12150/MainThread]: Fetching URL https://www.scmp.com/sitemap_archive_1994_Feb.xml...\n",
      "2020-11-15 01:22:03,134 INFO usp.fetch_parse [12150/MainThread]: Parsing sitemap from URL https://www.scmp.com/sitemap_archive_1994_Feb.xml...\n",
      "2020-11-15 01:22:03,617 INFO usp.fetch_parse [12150/MainThread]: Fetching level 1 sitemap from https://www.scmp.com/sitemap_archive_1994_Jan.xml...\n",
      "2020-11-15 01:22:03,618 INFO usp.helpers [12150/MainThread]: Fetching URL https://www.scmp.com/sitemap_archive_1994_Jan.xml...\n",
      "2020-11-15 01:22:04,181 INFO usp.fetch_parse [12150/MainThread]: Parsing sitemap from URL https://www.scmp.com/sitemap_archive_1994_Jan.xml...\n",
      "2020-11-15 01:22:04,750 INFO usp.fetch_parse [12150/MainThread]: Fetching level 1 sitemap from https://www.scmp.com/sitemap_archive_1994_Jul.xml...\n",
      "2020-11-15 01:22:04,751 INFO usp.helpers [12150/MainThread]: Fetching URL https://www.scmp.com/sitemap_archive_1994_Jul.xml...\n",
      "2020-11-15 01:22:05,251 INFO usp.fetch_parse [12150/MainThread]: Parsing sitemap from URL https://www.scmp.com/sitemap_archive_1994_Jul.xml...\n",
      "2020-11-15 01:22:05,828 INFO usp.fetch_parse [12150/MainThread]: Fetching level 1 sitemap from https://www.scmp.com/sitemap_archive_1994_Jun.xml...\n",
      "2020-11-15 01:22:05,828 INFO usp.helpers [12150/MainThread]: Fetching URL https://www.scmp.com/sitemap_archive_1994_Jun.xml...\n",
      "2020-11-15 01:22:06,606 INFO usp.fetch_parse [12150/MainThread]: Parsing sitemap from URL https://www.scmp.com/sitemap_archive_1994_Jun.xml...\n",
      "2020-11-15 01:22:07,115 INFO usp.fetch_parse [12150/MainThread]: Fetching level 1 sitemap from https://www.scmp.com/sitemap_archive_1994_Mar.xml...\n",
      "2020-11-15 01:22:07,115 INFO usp.helpers [12150/MainThread]: Fetching URL https://www.scmp.com/sitemap_archive_1994_Mar.xml...\n",
      "2020-11-15 01:22:08,042 INFO usp.fetch_parse [12150/MainThread]: Parsing sitemap from URL https://www.scmp.com/sitemap_archive_1994_Mar.xml...\n",
      "2020-11-15 01:22:08,709 INFO usp.fetch_parse [12150/MainThread]: Fetching level 1 sitemap from https://www.scmp.com/sitemap_archive_1994_May.xml...\n",
      "2020-11-15 01:22:08,710 INFO usp.helpers [12150/MainThread]: Fetching URL https://www.scmp.com/sitemap_archive_1994_May.xml...\n",
      "2020-11-15 01:22:09,242 INFO usp.fetch_parse [12150/MainThread]: Parsing sitemap from URL https://www.scmp.com/sitemap_archive_1994_May.xml...\n",
      "2020-11-15 01:22:09,812 INFO usp.fetch_parse [12150/MainThread]: Fetching level 1 sitemap from https://www.scmp.com/sitemap_archive_1994_Nov.xml...\n",
      "2020-11-15 01:22:09,812 INFO usp.helpers [12150/MainThread]: Fetching URL https://www.scmp.com/sitemap_archive_1994_Nov.xml...\n",
      "2020-11-15 01:22:10,015 WARNING usp.helpers [12150/MainThread]: Request for URL https://www.scmp.com/sitemap_archive_1994_Nov.xml failed: 404 Not Found\n",
      "2020-11-15 01:22:10,016 INFO usp.helpers [12150/MainThread]: Not retrying for URL https://www.scmp.com/sitemap_archive_1994_Nov.xml\n",
      "2020-11-15 01:22:10,017 INFO usp.fetch_parse [12150/MainThread]: Fetching level 1 sitemap from https://www.scmp.com/sitemap_archive_1994_Oct.xml...\n",
      "2020-11-15 01:22:10,018 INFO usp.helpers [12150/MainThread]: Fetching URL https://www.scmp.com/sitemap_archive_1994_Oct.xml...\n",
      "2020-11-15 01:22:10,634 INFO usp.fetch_parse [12150/MainThread]: Parsing sitemap from URL https://www.scmp.com/sitemap_archive_1994_Oct.xml...\n",
      "2020-11-15 01:22:11,234 INFO usp.fetch_parse [12150/MainThread]: Fetching level 1 sitemap from https://www.scmp.com/sitemap_archive_1994_Sep.xml...\n",
      "2020-11-15 01:22:11,235 INFO usp.helpers [12150/MainThread]: Fetching URL https://www.scmp.com/sitemap_archive_1994_Sep.xml...\n",
      "2020-11-15 01:22:12,189 INFO usp.fetch_parse [12150/MainThread]: Parsing sitemap from URL https://www.scmp.com/sitemap_archive_1994_Sep.xml...\n",
      "2020-11-15 01:22:12,921 INFO usp.fetch_parse [12150/MainThread]: Fetching level 1 sitemap from https://www.scmp.com/sitemap_archive_1995_Apr.xml...\n",
      "2020-11-15 01:22:12,921 INFO usp.helpers [12150/MainThread]: Fetching URL https://www.scmp.com/sitemap_archive_1995_Apr.xml...\n",
      "2020-11-15 01:22:13,438 INFO usp.fetch_parse [12150/MainThread]: Parsing sitemap from URL https://www.scmp.com/sitemap_archive_1995_Apr.xml...\n",
      "2020-11-15 01:22:14,293 INFO usp.fetch_parse [12150/MainThread]: Fetching level 1 sitemap from https://www.scmp.com/sitemap_archive_1995_Aug.xml...\n",
      "2020-11-15 01:22:14,294 INFO usp.helpers [12150/MainThread]: Fetching URL https://www.scmp.com/sitemap_archive_1995_Aug.xml...\n",
      "2020-11-15 01:22:15,184 INFO usp.fetch_parse [12150/MainThread]: Parsing sitemap from URL https://www.scmp.com/sitemap_archive_1995_Aug.xml...\n",
      "2020-11-15 01:22:16,175 INFO usp.fetch_parse [12150/MainThread]: Fetching level 1 sitemap from https://www.scmp.com/sitemap_archive_1995_Dec.xml...\n",
      "2020-11-15 01:22:16,176 INFO usp.helpers [12150/MainThread]: Fetching URL https://www.scmp.com/sitemap_archive_1995_Dec.xml...\n",
      "2020-11-15 01:22:16,924 INFO usp.fetch_parse [12150/MainThread]: Parsing sitemap from URL https://www.scmp.com/sitemap_archive_1995_Dec.xml...\n",
      "2020-11-15 01:22:18,101 INFO usp.fetch_parse [12150/MainThread]: Fetching level 1 sitemap from https://www.scmp.com/sitemap_archive_1995_Feb.xml...\n",
      "2020-11-15 01:22:18,102 INFO usp.helpers [12150/MainThread]: Fetching URL https://www.scmp.com/sitemap_archive_1995_Feb.xml...\n",
      "2020-11-15 01:22:18,815 INFO usp.fetch_parse [12150/MainThread]: Parsing sitemap from URL https://www.scmp.com/sitemap_archive_1995_Feb.xml...\n",
      "2020-11-15 01:22:19,764 INFO usp.fetch_parse [12150/MainThread]: Fetching level 1 sitemap from https://www.scmp.com/sitemap_archive_1995_Jan.xml...\n",
      "2020-11-15 01:22:19,764 INFO usp.helpers [12150/MainThread]: Fetching URL https://www.scmp.com/sitemap_archive_1995_Jan.xml...\n",
      "2020-11-15 01:22:20,392 INFO usp.fetch_parse [12150/MainThread]: Parsing sitemap from URL https://www.scmp.com/sitemap_archive_1995_Jan.xml...\n",
      "2020-11-15 01:22:21,258 INFO usp.fetch_parse [12150/MainThread]: Fetching level 1 sitemap from https://www.scmp.com/sitemap_archive_1995_Jul.xml...\n",
      "2020-11-15 01:22:21,258 INFO usp.helpers [12150/MainThread]: Fetching URL https://www.scmp.com/sitemap_archive_1995_Jul.xml...\n",
      "2020-11-15 01:22:22,292 INFO usp.fetch_parse [12150/MainThread]: Parsing sitemap from URL https://www.scmp.com/sitemap_archive_1995_Jul.xml...\n",
      "2020-11-15 01:22:23,029 INFO usp.fetch_parse [12150/MainThread]: Fetching level 1 sitemap from https://www.scmp.com/sitemap_archive_1995_Jun.xml...\n"
     ]
    },
    {
     "name": "stderr",
     "output_type": "stream",
     "text": [
      "2020-11-15 01:22:23,030 INFO usp.helpers [12150/MainThread]: Fetching URL https://www.scmp.com/sitemap_archive_1995_Jun.xml...\n",
      "2020-11-15 01:22:23,450 INFO usp.fetch_parse [12150/MainThread]: Parsing sitemap from URL https://www.scmp.com/sitemap_archive_1995_Jun.xml...\n",
      "2020-11-15 01:22:24,417 INFO usp.fetch_parse [12150/MainThread]: Fetching level 1 sitemap from https://www.scmp.com/sitemap_archive_1995_Mar.xml...\n",
      "2020-11-15 01:22:24,418 INFO usp.helpers [12150/MainThread]: Fetching URL https://www.scmp.com/sitemap_archive_1995_Mar.xml...\n",
      "2020-11-15 01:22:26,492 INFO usp.fetch_parse [12150/MainThread]: Parsing sitemap from URL https://www.scmp.com/sitemap_archive_1995_Mar.xml...\n",
      "2020-11-15 01:22:27,323 INFO usp.fetch_parse [12150/MainThread]: Fetching level 1 sitemap from https://www.scmp.com/sitemap_archive_1995_May.xml...\n",
      "2020-11-15 01:22:27,324 INFO usp.helpers [12150/MainThread]: Fetching URL https://www.scmp.com/sitemap_archive_1995_May.xml...\n",
      "2020-11-15 01:22:27,729 INFO usp.fetch_parse [12150/MainThread]: Parsing sitemap from URL https://www.scmp.com/sitemap_archive_1995_May.xml...\n",
      "2020-11-15 01:22:28,345 INFO usp.fetch_parse [12150/MainThread]: Fetching level 1 sitemap from https://www.scmp.com/sitemap_archive_1995_Nov.xml...\n",
      "2020-11-15 01:22:28,346 INFO usp.helpers [12150/MainThread]: Fetching URL https://www.scmp.com/sitemap_archive_1995_Nov.xml...\n",
      "2020-11-15 01:22:29,273 INFO usp.fetch_parse [12150/MainThread]: Parsing sitemap from URL https://www.scmp.com/sitemap_archive_1995_Nov.xml...\n",
      "2020-11-15 01:22:29,908 INFO usp.fetch_parse [12150/MainThread]: Fetching level 1 sitemap from https://www.scmp.com/sitemap_archive_1995_Oct.xml...\n",
      "2020-11-15 01:22:29,909 INFO usp.helpers [12150/MainThread]: Fetching URL https://www.scmp.com/sitemap_archive_1995_Oct.xml...\n",
      "2020-11-15 01:22:30,420 INFO usp.fetch_parse [12150/MainThread]: Parsing sitemap from URL https://www.scmp.com/sitemap_archive_1995_Oct.xml...\n",
      "2020-11-15 01:22:31,020 INFO usp.fetch_parse [12150/MainThread]: Fetching level 1 sitemap from https://www.scmp.com/sitemap_archive_1995_Sep.xml...\n",
      "2020-11-15 01:22:31,020 INFO usp.helpers [12150/MainThread]: Fetching URL https://www.scmp.com/sitemap_archive_1995_Sep.xml...\n",
      "2020-11-15 01:22:31,814 INFO usp.fetch_parse [12150/MainThread]: Parsing sitemap from URL https://www.scmp.com/sitemap_archive_1995_Sep.xml...\n",
      "2020-11-15 01:22:32,414 INFO usp.fetch_parse [12150/MainThread]: Fetching level 1 sitemap from https://www.scmp.com/sitemap_archive_1996_Apr.xml...\n",
      "2020-11-15 01:22:32,414 INFO usp.helpers [12150/MainThread]: Fetching URL https://www.scmp.com/sitemap_archive_1996_Apr.xml...\n",
      "2020-11-15 01:22:32,922 INFO usp.fetch_parse [12150/MainThread]: Parsing sitemap from URL https://www.scmp.com/sitemap_archive_1996_Apr.xml...\n",
      "2020-11-15 01:22:33,406 INFO usp.fetch_parse [12150/MainThread]: Fetching level 1 sitemap from https://www.scmp.com/sitemap_archive_1996_Aug.xml...\n",
      "2020-11-15 01:22:33,407 INFO usp.helpers [12150/MainThread]: Fetching URL https://www.scmp.com/sitemap_archive_1996_Aug.xml...\n",
      "2020-11-15 01:22:34,133 INFO usp.fetch_parse [12150/MainThread]: Parsing sitemap from URL https://www.scmp.com/sitemap_archive_1996_Aug.xml...\n",
      "2020-11-15 01:22:34,625 INFO usp.fetch_parse [12150/MainThread]: Fetching level 1 sitemap from https://www.scmp.com/sitemap_archive_1996_Feb.xml...\n",
      "2020-11-15 01:22:34,626 INFO usp.helpers [12150/MainThread]: Fetching URL https://www.scmp.com/sitemap_archive_1996_Feb.xml...\n",
      "2020-11-15 01:22:35,581 INFO usp.fetch_parse [12150/MainThread]: Parsing sitemap from URL https://www.scmp.com/sitemap_archive_1996_Feb.xml...\n",
      "2020-11-15 01:22:36,012 INFO usp.fetch_parse [12150/MainThread]: Fetching level 1 sitemap from https://www.scmp.com/sitemap_archive_1996_Jan.xml...\n",
      "2020-11-15 01:22:36,013 INFO usp.helpers [12150/MainThread]: Fetching URL https://www.scmp.com/sitemap_archive_1996_Jan.xml...\n",
      "2020-11-15 01:22:39,371 INFO usp.fetch_parse [12150/MainThread]: Parsing sitemap from URL https://www.scmp.com/sitemap_archive_1996_Jan.xml...\n",
      "2020-11-15 01:22:39,872 INFO usp.fetch_parse [12150/MainThread]: Fetching level 1 sitemap from https://www.scmp.com/sitemap_archive_1996_Jul.xml...\n",
      "2020-11-15 01:22:39,872 INFO usp.helpers [12150/MainThread]: Fetching URL https://www.scmp.com/sitemap_archive_1996_Jul.xml...\n",
      "2020-11-15 01:22:40,607 INFO usp.fetch_parse [12150/MainThread]: Parsing sitemap from URL https://www.scmp.com/sitemap_archive_1996_Jul.xml...\n",
      "2020-11-15 01:22:41,135 INFO usp.fetch_parse [12150/MainThread]: Fetching level 1 sitemap from https://www.scmp.com/sitemap_archive_1996_Jun.xml...\n",
      "2020-11-15 01:22:41,136 INFO usp.helpers [12150/MainThread]: Fetching URL https://www.scmp.com/sitemap_archive_1996_Jun.xml...\n",
      "2020-11-15 01:22:41,714 INFO usp.fetch_parse [12150/MainThread]: Parsing sitemap from URL https://www.scmp.com/sitemap_archive_1996_Jun.xml...\n",
      "2020-11-15 01:22:42,249 INFO usp.fetch_parse [12150/MainThread]: Fetching level 1 sitemap from https://www.scmp.com/sitemap_archive_1996_Mar.xml...\n",
      "2020-11-15 01:22:42,250 INFO usp.helpers [12150/MainThread]: Fetching URL https://www.scmp.com/sitemap_archive_1996_Mar.xml...\n",
      "2020-11-15 01:22:42,770 INFO usp.fetch_parse [12150/MainThread]: Parsing sitemap from URL https://www.scmp.com/sitemap_archive_1996_Mar.xml...\n",
      "2020-11-15 01:22:43,336 INFO usp.fetch_parse [12150/MainThread]: Fetching level 1 sitemap from https://www.scmp.com/sitemap_archive_1996_May.xml...\n",
      "2020-11-15 01:22:43,336 INFO usp.helpers [12150/MainThread]: Fetching URL https://www.scmp.com/sitemap_archive_1996_May.xml...\n",
      "2020-11-15 01:22:43,826 INFO usp.fetch_parse [12150/MainThread]: Parsing sitemap from URL https://www.scmp.com/sitemap_archive_1996_May.xml...\n",
      "2020-11-15 01:22:44,381 INFO usp.fetch_parse [12150/MainThread]: Fetching level 1 sitemap from https://www.scmp.com/sitemap_archive_1996_Oct.xml...\n",
      "2020-11-15 01:22:44,381 INFO usp.helpers [12150/MainThread]: Fetching URL https://www.scmp.com/sitemap_archive_1996_Oct.xml...\n",
      "2020-11-15 01:22:45,429 INFO usp.fetch_parse [12150/MainThread]: Parsing sitemap from URL https://www.scmp.com/sitemap_archive_1996_Oct.xml...\n",
      "2020-11-15 01:22:46,043 INFO usp.fetch_parse [12150/MainThread]: Fetching level 1 sitemap from https://www.scmp.com/sitemap_archive_1996_Sep.xml...\n",
      "2020-11-15 01:22:46,044 INFO usp.helpers [12150/MainThread]: Fetching URL https://www.scmp.com/sitemap_archive_1996_Sep.xml...\n",
      "2020-11-15 01:22:46,658 INFO usp.fetch_parse [12150/MainThread]: Parsing sitemap from URL https://www.scmp.com/sitemap_archive_1996_Sep.xml...\n",
      "2020-11-15 01:22:47,291 INFO usp.fetch_parse [12150/MainThread]: Fetching level 1 sitemap from https://www.scmp.com/sitemap_archive_1997_Apr.xml...\n",
      "2020-11-15 01:22:47,292 INFO usp.helpers [12150/MainThread]: Fetching URL https://www.scmp.com/sitemap_archive_1997_Apr.xml...\n",
      "2020-11-15 01:22:47,839 INFO usp.fetch_parse [12150/MainThread]: Parsing sitemap from URL https://www.scmp.com/sitemap_archive_1997_Apr.xml...\n",
      "2020-11-15 01:22:48,432 INFO usp.fetch_parse [12150/MainThread]: Fetching level 1 sitemap from https://www.scmp.com/sitemap_archive_1997_Aug.xml...\n",
      "2020-11-15 01:22:48,433 INFO usp.helpers [12150/MainThread]: Fetching URL https://www.scmp.com/sitemap_archive_1997_Aug.xml...\n",
      "2020-11-15 01:22:48,927 INFO usp.fetch_parse [12150/MainThread]: Parsing sitemap from URL https://www.scmp.com/sitemap_archive_1997_Aug.xml...\n",
      "2020-11-15 01:22:49,444 INFO usp.fetch_parse [12150/MainThread]: Fetching level 1 sitemap from https://www.scmp.com/sitemap_archive_1997_Dec.xml...\n",
      "2020-11-15 01:22:49,445 INFO usp.helpers [12150/MainThread]: Fetching URL https://www.scmp.com/sitemap_archive_1997_Dec.xml...\n",
      "2020-11-15 01:22:50,268 INFO usp.fetch_parse [12150/MainThread]: Parsing sitemap from URL https://www.scmp.com/sitemap_archive_1997_Dec.xml...\n",
      "2020-11-15 01:22:50,815 INFO usp.fetch_parse [12150/MainThread]: Fetching level 1 sitemap from https://www.scmp.com/sitemap_archive_1997_Feb.xml...\n",
      "2020-11-15 01:22:50,816 INFO usp.helpers [12150/MainThread]: Fetching URL https://www.scmp.com/sitemap_archive_1997_Feb.xml...\n",
      "2020-11-15 01:22:51,365 INFO usp.fetch_parse [12150/MainThread]: Parsing sitemap from URL https://www.scmp.com/sitemap_archive_1997_Feb.xml...\n"
     ]
    },
    {
     "name": "stderr",
     "output_type": "stream",
     "text": [
      "2020-11-15 01:22:51,782 INFO usp.fetch_parse [12150/MainThread]: Fetching level 1 sitemap from https://www.scmp.com/sitemap_archive_1997_Jan.xml...\n",
      "2020-11-15 01:22:51,783 INFO usp.helpers [12150/MainThread]: Fetching URL https://www.scmp.com/sitemap_archive_1997_Jan.xml...\n",
      "2020-11-15 01:22:52,366 INFO usp.fetch_parse [12150/MainThread]: Parsing sitemap from URL https://www.scmp.com/sitemap_archive_1997_Jan.xml...\n",
      "2020-11-15 01:22:52,924 INFO usp.fetch_parse [12150/MainThread]: Fetching level 1 sitemap from https://www.scmp.com/sitemap_archive_1997_Jul.xml...\n",
      "2020-11-15 01:22:52,925 INFO usp.helpers [12150/MainThread]: Fetching URL https://www.scmp.com/sitemap_archive_1997_Jul.xml...\n",
      "2020-11-15 01:22:53,448 INFO usp.fetch_parse [12150/MainThread]: Parsing sitemap from URL https://www.scmp.com/sitemap_archive_1997_Jul.xml...\n",
      "2020-11-15 01:22:54,043 INFO usp.fetch_parse [12150/MainThread]: Fetching level 1 sitemap from https://www.scmp.com/sitemap_archive_1997_Jun.xml...\n",
      "2020-11-15 01:22:54,044 INFO usp.helpers [12150/MainThread]: Fetching URL https://www.scmp.com/sitemap_archive_1997_Jun.xml...\n",
      "2020-11-15 01:22:58,314 INFO usp.fetch_parse [12150/MainThread]: Parsing sitemap from URL https://www.scmp.com/sitemap_archive_1997_Jun.xml...\n",
      "2020-11-15 01:22:58,925 INFO usp.fetch_parse [12150/MainThread]: Fetching level 1 sitemap from https://www.scmp.com/sitemap_archive_1997_Mar.xml...\n",
      "2020-11-15 01:22:58,926 INFO usp.helpers [12150/MainThread]: Fetching URL https://www.scmp.com/sitemap_archive_1997_Mar.xml...\n",
      "2020-11-15 01:23:00,381 INFO usp.fetch_parse [12150/MainThread]: Parsing sitemap from URL https://www.scmp.com/sitemap_archive_1997_Mar.xml...\n",
      "2020-11-15 01:23:00,974 INFO usp.fetch_parse [12150/MainThread]: Fetching level 1 sitemap from https://www.scmp.com/sitemap_archive_1997_May.xml...\n",
      "2020-11-15 01:23:00,975 INFO usp.helpers [12150/MainThread]: Fetching URL https://www.scmp.com/sitemap_archive_1997_May.xml...\n",
      "2020-11-15 01:23:02,523 INFO usp.fetch_parse [12150/MainThread]: Parsing sitemap from URL https://www.scmp.com/sitemap_archive_1997_May.xml...\n",
      "2020-11-15 01:23:03,108 INFO usp.fetch_parse [12150/MainThread]: Fetching level 1 sitemap from https://www.scmp.com/sitemap_archive_1997_Nov.xml...\n",
      "2020-11-15 01:23:03,109 INFO usp.helpers [12150/MainThread]: Fetching URL https://www.scmp.com/sitemap_archive_1997_Nov.xml...\n",
      "2020-11-15 01:23:03,616 INFO usp.fetch_parse [12150/MainThread]: Parsing sitemap from URL https://www.scmp.com/sitemap_archive_1997_Nov.xml...\n",
      "2020-11-15 01:23:04,169 INFO usp.fetch_parse [12150/MainThread]: Fetching level 1 sitemap from https://www.scmp.com/sitemap_archive_1997_Oct.xml...\n",
      "2020-11-15 01:23:04,169 INFO usp.helpers [12150/MainThread]: Fetching URL https://www.scmp.com/sitemap_archive_1997_Oct.xml...\n",
      "2020-11-15 01:23:04,710 INFO usp.fetch_parse [12150/MainThread]: Parsing sitemap from URL https://www.scmp.com/sitemap_archive_1997_Oct.xml...\n",
      "2020-11-15 01:23:05,312 INFO usp.fetch_parse [12150/MainThread]: Fetching level 1 sitemap from https://www.scmp.com/sitemap_archive_1997_Sep.xml...\n",
      "2020-11-15 01:23:05,313 INFO usp.helpers [12150/MainThread]: Fetching URL https://www.scmp.com/sitemap_archive_1997_Sep.xml...\n",
      "2020-11-15 01:23:06,298 INFO usp.fetch_parse [12150/MainThread]: Parsing sitemap from URL https://www.scmp.com/sitemap_archive_1997_Sep.xml...\n",
      "2020-11-15 01:23:07,000 INFO usp.fetch_parse [12150/MainThread]: Fetching level 1 sitemap from https://www.scmp.com/sitemap_archive_1998_Apr.xml...\n",
      "2020-11-15 01:23:07,001 INFO usp.helpers [12150/MainThread]: Fetching URL https://www.scmp.com/sitemap_archive_1998_Apr.xml...\n",
      "2020-11-15 01:23:07,591 INFO usp.fetch_parse [12150/MainThread]: Parsing sitemap from URL https://www.scmp.com/sitemap_archive_1998_Apr.xml...\n",
      "2020-11-15 01:23:08,158 INFO usp.fetch_parse [12150/MainThread]: Fetching level 1 sitemap from https://www.scmp.com/sitemap_archive_1998_Aug.xml...\n",
      "2020-11-15 01:23:08,159 INFO usp.helpers [12150/MainThread]: Fetching URL https://www.scmp.com/sitemap_archive_1998_Aug.xml...\n",
      "2020-11-15 01:23:08,525 INFO usp.fetch_parse [12150/MainThread]: Parsing sitemap from URL https://www.scmp.com/sitemap_archive_1998_Aug.xml...\n",
      "2020-11-15 01:23:09,050 INFO usp.fetch_parse [12150/MainThread]: Fetching level 1 sitemap from https://www.scmp.com/sitemap_archive_1998_Dec.xml...\n",
      "2020-11-15 01:23:09,051 INFO usp.helpers [12150/MainThread]: Fetching URL https://www.scmp.com/sitemap_archive_1998_Dec.xml...\n",
      "2020-11-15 01:23:11,424 INFO usp.fetch_parse [12150/MainThread]: Parsing sitemap from URL https://www.scmp.com/sitemap_archive_1998_Dec.xml...\n",
      "2020-11-15 01:23:11,940 INFO usp.fetch_parse [12150/MainThread]: Fetching level 1 sitemap from https://www.scmp.com/sitemap_archive_1998_Feb.xml...\n",
      "2020-11-15 01:23:11,941 INFO usp.helpers [12150/MainThread]: Fetching URL https://www.scmp.com/sitemap_archive_1998_Feb.xml...\n",
      "2020-11-15 01:23:12,427 INFO usp.fetch_parse [12150/MainThread]: Parsing sitemap from URL https://www.scmp.com/sitemap_archive_1998_Feb.xml...\n",
      "2020-11-15 01:23:13,073 INFO usp.fetch_parse [12150/MainThread]: Fetching level 1 sitemap from https://www.scmp.com/sitemap_archive_1998_Jan.xml...\n",
      "2020-11-15 01:23:13,073 INFO usp.helpers [12150/MainThread]: Fetching URL https://www.scmp.com/sitemap_archive_1998_Jan.xml...\n",
      "2020-11-15 01:23:13,594 INFO usp.fetch_parse [12150/MainThread]: Parsing sitemap from URL https://www.scmp.com/sitemap_archive_1998_Jan.xml...\n",
      "2020-11-15 01:23:14,198 INFO usp.fetch_parse [12150/MainThread]: Fetching level 1 sitemap from https://www.scmp.com/sitemap_archive_1998_Jul.xml...\n",
      "2020-11-15 01:23:14,199 INFO usp.helpers [12150/MainThread]: Fetching URL https://www.scmp.com/sitemap_archive_1998_Jul.xml...\n",
      "2020-11-15 01:23:20,112 INFO usp.fetch_parse [12150/MainThread]: Parsing sitemap from URL https://www.scmp.com/sitemap_archive_1998_Jul.xml...\n",
      "2020-11-15 01:23:20,641 INFO usp.fetch_parse [12150/MainThread]: Fetching level 1 sitemap from https://www.scmp.com/sitemap_archive_1998_Jun.xml...\n",
      "2020-11-15 01:23:20,642 INFO usp.helpers [12150/MainThread]: Fetching URL https://www.scmp.com/sitemap_archive_1998_Jun.xml...\n",
      "2020-11-15 01:23:22,151 INFO usp.fetch_parse [12150/MainThread]: Parsing sitemap from URL https://www.scmp.com/sitemap_archive_1998_Jun.xml...\n",
      "2020-11-15 01:23:22,682 INFO usp.fetch_parse [12150/MainThread]: Fetching level 1 sitemap from https://www.scmp.com/sitemap_archive_1998_Mar.xml...\n",
      "2020-11-15 01:23:22,683 INFO usp.helpers [12150/MainThread]: Fetching URL https://www.scmp.com/sitemap_archive_1998_Mar.xml...\n",
      "2020-11-15 01:23:23,262 INFO usp.fetch_parse [12150/MainThread]: Parsing sitemap from URL https://www.scmp.com/sitemap_archive_1998_Mar.xml...\n",
      "2020-11-15 01:23:23,863 INFO usp.fetch_parse [12150/MainThread]: Fetching level 1 sitemap from https://www.scmp.com/sitemap_archive_1998_May.xml...\n",
      "2020-11-15 01:23:23,864 INFO usp.helpers [12150/MainThread]: Fetching URL https://www.scmp.com/sitemap_archive_1998_May.xml...\n",
      "2020-11-15 01:23:24,424 INFO usp.fetch_parse [12150/MainThread]: Parsing sitemap from URL https://www.scmp.com/sitemap_archive_1998_May.xml...\n",
      "2020-11-15 01:23:25,100 INFO usp.fetch_parse [12150/MainThread]: Fetching level 1 sitemap from https://www.scmp.com/sitemap_archive_1998_Nov.xml...\n",
      "2020-11-15 01:23:25,100 INFO usp.helpers [12150/MainThread]: Fetching URL https://www.scmp.com/sitemap_archive_1998_Nov.xml...\n",
      "2020-11-15 01:23:26,211 INFO usp.fetch_parse [12150/MainThread]: Parsing sitemap from URL https://www.scmp.com/sitemap_archive_1998_Nov.xml...\n",
      "2020-11-15 01:23:27,156 INFO usp.fetch_parse [12150/MainThread]: Fetching level 1 sitemap from https://www.scmp.com/sitemap_archive_1998_Oct.xml...\n",
      "2020-11-15 01:23:27,157 INFO usp.helpers [12150/MainThread]: Fetching URL https://www.scmp.com/sitemap_archive_1998_Oct.xml...\n",
      "2020-11-15 01:23:28,401 INFO usp.fetch_parse [12150/MainThread]: Parsing sitemap from URL https://www.scmp.com/sitemap_archive_1998_Oct.xml...\n",
      "2020-11-15 01:23:29,433 INFO usp.fetch_parse [12150/MainThread]: Fetching level 1 sitemap from https://www.scmp.com/sitemap_archive_1998_Sep.xml...\n",
      "2020-11-15 01:23:29,434 INFO usp.helpers [12150/MainThread]: Fetching URL https://www.scmp.com/sitemap_archive_1998_Sep.xml...\n"
     ]
    },
    {
     "name": "stderr",
     "output_type": "stream",
     "text": [
      "2020-11-15 01:23:29,931 INFO usp.fetch_parse [12150/MainThread]: Parsing sitemap from URL https://www.scmp.com/sitemap_archive_1998_Sep.xml...\n",
      "2020-11-15 01:23:30,522 INFO usp.fetch_parse [12150/MainThread]: Fetching level 1 sitemap from https://www.scmp.com/sitemap_archive_1999_Apr.xml...\n",
      "2020-11-15 01:23:30,523 INFO usp.helpers [12150/MainThread]: Fetching URL https://www.scmp.com/sitemap_archive_1999_Apr.xml...\n",
      "2020-11-15 01:23:31,046 INFO usp.fetch_parse [12150/MainThread]: Parsing sitemap from URL https://www.scmp.com/sitemap_archive_1999_Apr.xml...\n",
      "2020-11-15 01:23:31,540 INFO usp.fetch_parse [12150/MainThread]: Fetching level 1 sitemap from https://www.scmp.com/sitemap_archive_1999_Aug.xml...\n",
      "2020-11-15 01:23:31,541 INFO usp.helpers [12150/MainThread]: Fetching URL https://www.scmp.com/sitemap_archive_1999_Aug.xml...\n",
      "2020-11-15 01:23:32,052 INFO usp.fetch_parse [12150/MainThread]: Parsing sitemap from URL https://www.scmp.com/sitemap_archive_1999_Aug.xml...\n",
      "2020-11-15 01:23:32,499 INFO usp.fetch_parse [12150/MainThread]: Fetching level 1 sitemap from https://www.scmp.com/sitemap_archive_1999_Dec.xml...\n",
      "2020-11-15 01:23:32,500 INFO usp.helpers [12150/MainThread]: Fetching URL https://www.scmp.com/sitemap_archive_1999_Dec.xml...\n",
      "2020-11-15 01:23:33,010 INFO usp.fetch_parse [12150/MainThread]: Parsing sitemap from URL https://www.scmp.com/sitemap_archive_1999_Dec.xml...\n",
      "2020-11-15 01:23:33,454 INFO usp.fetch_parse [12150/MainThread]: Fetching level 1 sitemap from https://www.scmp.com/sitemap_archive_1999_Feb.xml...\n",
      "2020-11-15 01:23:33,455 INFO usp.helpers [12150/MainThread]: Fetching URL https://www.scmp.com/sitemap_archive_1999_Feb.xml...\n",
      "2020-11-15 01:23:34,956 INFO usp.fetch_parse [12150/MainThread]: Parsing sitemap from URL https://www.scmp.com/sitemap_archive_1999_Feb.xml...\n",
      "2020-11-15 01:23:35,384 INFO usp.fetch_parse [12150/MainThread]: Fetching level 1 sitemap from https://www.scmp.com/sitemap_archive_1999_Jan.xml...\n",
      "2020-11-15 01:23:35,385 INFO usp.helpers [12150/MainThread]: Fetching URL https://www.scmp.com/sitemap_archive_1999_Jan.xml...\n",
      "2020-11-15 01:23:35,911 INFO usp.fetch_parse [12150/MainThread]: Parsing sitemap from URL https://www.scmp.com/sitemap_archive_1999_Jan.xml...\n",
      "2020-11-15 01:23:36,459 INFO usp.fetch_parse [12150/MainThread]: Fetching level 1 sitemap from https://www.scmp.com/sitemap_archive_1999_Jul.xml...\n",
      "2020-11-15 01:23:36,460 INFO usp.helpers [12150/MainThread]: Fetching URL https://www.scmp.com/sitemap_archive_1999_Jul.xml...\n",
      "2020-11-15 01:23:39,968 INFO usp.fetch_parse [12150/MainThread]: Parsing sitemap from URL https://www.scmp.com/sitemap_archive_1999_Jul.xml...\n",
      "2020-11-15 01:23:40,394 INFO usp.fetch_parse [12150/MainThread]: Fetching level 1 sitemap from https://www.scmp.com/sitemap_archive_1999_Jun.xml...\n",
      "2020-11-15 01:23:40,395 INFO usp.helpers [12150/MainThread]: Fetching URL https://www.scmp.com/sitemap_archive_1999_Jun.xml...\n",
      "2020-11-15 01:23:40,965 INFO usp.fetch_parse [12150/MainThread]: Parsing sitemap from URL https://www.scmp.com/sitemap_archive_1999_Jun.xml...\n",
      "2020-11-15 01:23:41,399 INFO usp.fetch_parse [12150/MainThread]: Fetching level 1 sitemap from https://www.scmp.com/sitemap_archive_1999_Mar.xml...\n",
      "2020-11-15 01:23:41,399 INFO usp.helpers [12150/MainThread]: Fetching URL https://www.scmp.com/sitemap_archive_1999_Mar.xml...\n",
      "2020-11-15 01:23:42,006 INFO usp.fetch_parse [12150/MainThread]: Parsing sitemap from URL https://www.scmp.com/sitemap_archive_1999_Mar.xml...\n",
      "2020-11-15 01:23:42,626 INFO usp.fetch_parse [12150/MainThread]: Fetching level 1 sitemap from https://www.scmp.com/sitemap_archive_1999_May.xml...\n",
      "2020-11-15 01:23:42,626 INFO usp.helpers [12150/MainThread]: Fetching URL https://www.scmp.com/sitemap_archive_1999_May.xml...\n",
      "2020-11-15 01:23:43,136 INFO usp.fetch_parse [12150/MainThread]: Parsing sitemap from URL https://www.scmp.com/sitemap_archive_1999_May.xml...\n",
      "2020-11-15 01:23:43,651 INFO usp.fetch_parse [12150/MainThread]: Fetching level 1 sitemap from https://www.scmp.com/sitemap_archive_1999_Nov.xml...\n",
      "2020-11-15 01:23:43,651 INFO usp.helpers [12150/MainThread]: Fetching URL https://www.scmp.com/sitemap_archive_1999_Nov.xml...\n",
      "2020-11-15 01:23:44,187 INFO usp.fetch_parse [12150/MainThread]: Parsing sitemap from URL https://www.scmp.com/sitemap_archive_1999_Nov.xml...\n",
      "2020-11-15 01:23:44,639 INFO usp.fetch_parse [12150/MainThread]: Fetching level 1 sitemap from https://www.scmp.com/sitemap_archive_1999_Oct.xml...\n",
      "2020-11-15 01:23:44,640 INFO usp.helpers [12150/MainThread]: Fetching URL https://www.scmp.com/sitemap_archive_1999_Oct.xml...\n",
      "2020-11-15 01:23:45,132 INFO usp.fetch_parse [12150/MainThread]: Parsing sitemap from URL https://www.scmp.com/sitemap_archive_1999_Oct.xml...\n",
      "2020-11-15 01:23:45,582 INFO usp.fetch_parse [12150/MainThread]: Fetching level 1 sitemap from https://www.scmp.com/sitemap_archive_1999_Sep.xml...\n",
      "2020-11-15 01:23:45,584 INFO usp.helpers [12150/MainThread]: Fetching URL https://www.scmp.com/sitemap_archive_1999_Sep.xml...\n",
      "2020-11-15 01:23:46,150 INFO usp.fetch_parse [12150/MainThread]: Parsing sitemap from URL https://www.scmp.com/sitemap_archive_1999_Sep.xml...\n",
      "2020-11-15 01:23:46,612 INFO usp.fetch_parse [12150/MainThread]: Fetching level 1 sitemap from https://www.scmp.com/sitemap_archive_2000_Apr.xml...\n",
      "2020-11-15 01:23:46,613 INFO usp.helpers [12150/MainThread]: Fetching URL https://www.scmp.com/sitemap_archive_2000_Apr.xml...\n",
      "2020-11-15 01:23:47,446 INFO usp.fetch_parse [12150/MainThread]: Parsing sitemap from URL https://www.scmp.com/sitemap_archive_2000_Apr.xml...\n",
      "2020-11-15 01:23:48,105 INFO usp.fetch_parse [12150/MainThread]: Fetching level 1 sitemap from https://www.scmp.com/sitemap_archive_2000_Aug.xml...\n",
      "2020-11-15 01:23:48,106 INFO usp.helpers [12150/MainThread]: Fetching URL https://www.scmp.com/sitemap_archive_2000_Aug.xml...\n",
      "2020-11-15 01:23:48,579 INFO usp.fetch_parse [12150/MainThread]: Parsing sitemap from URL https://www.scmp.com/sitemap_archive_2000_Aug.xml...\n",
      "2020-11-15 01:23:49,003 INFO usp.fetch_parse [12150/MainThread]: Fetching level 1 sitemap from https://www.scmp.com/sitemap_archive_2000_Dec.xml...\n",
      "2020-11-15 01:23:49,003 INFO usp.helpers [12150/MainThread]: Fetching URL https://www.scmp.com/sitemap_archive_2000_Dec.xml...\n",
      "2020-11-15 01:23:49,478 INFO usp.fetch_parse [12150/MainThread]: Parsing sitemap from URL https://www.scmp.com/sitemap_archive_2000_Dec.xml...\n",
      "2020-11-15 01:23:49,983 INFO usp.fetch_parse [12150/MainThread]: Fetching level 1 sitemap from https://www.scmp.com/sitemap_archive_2000_Feb.xml...\n",
      "2020-11-15 01:23:49,984 INFO usp.helpers [12150/MainThread]: Fetching URL https://www.scmp.com/sitemap_archive_2000_Feb.xml...\n",
      "2020-11-15 01:23:50,603 INFO usp.fetch_parse [12150/MainThread]: Parsing sitemap from URL https://www.scmp.com/sitemap_archive_2000_Feb.xml...\n",
      "2020-11-15 01:23:50,994 INFO usp.fetch_parse [12150/MainThread]: Fetching level 1 sitemap from https://www.scmp.com/sitemap_archive_2000_Jan.xml...\n",
      "2020-11-15 01:23:50,995 INFO usp.helpers [12150/MainThread]: Fetching URL https://www.scmp.com/sitemap_archive_2000_Jan.xml...\n",
      "2020-11-15 01:23:51,581 INFO usp.fetch_parse [12150/MainThread]: Parsing sitemap from URL https://www.scmp.com/sitemap_archive_2000_Jan.xml...\n",
      "2020-11-15 01:23:52,158 INFO usp.fetch_parse [12150/MainThread]: Fetching level 1 sitemap from https://www.scmp.com/sitemap_archive_2000_Jul.xml...\n",
      "2020-11-15 01:23:52,159 INFO usp.helpers [12150/MainThread]: Fetching URL https://www.scmp.com/sitemap_archive_2000_Jul.xml...\n",
      "2020-11-15 01:23:52,886 INFO usp.fetch_parse [12150/MainThread]: Parsing sitemap from URL https://www.scmp.com/sitemap_archive_2000_Jul.xml...\n",
      "2020-11-15 01:23:53,277 INFO usp.fetch_parse [12150/MainThread]: Fetching level 1 sitemap from https://www.scmp.com/sitemap_archive_2000_Jun.xml...\n",
      "2020-11-15 01:23:53,278 INFO usp.helpers [12150/MainThread]: Fetching URL https://www.scmp.com/sitemap_archive_2000_Jun.xml...\n",
      "2020-11-15 01:23:53,708 INFO usp.fetch_parse [12150/MainThread]: Parsing sitemap from URL https://www.scmp.com/sitemap_archive_2000_Jun.xml...\n",
      "2020-11-15 01:23:54,141 INFO usp.fetch_parse [12150/MainThread]: Fetching level 1 sitemap from https://www.scmp.com/sitemap_archive_2000_Mar.xml...\n"
     ]
    },
    {
     "name": "stderr",
     "output_type": "stream",
     "text": [
      "2020-11-15 01:23:54,142 INFO usp.helpers [12150/MainThread]: Fetching URL https://www.scmp.com/sitemap_archive_2000_Mar.xml...\n",
      "2020-11-15 01:23:54,729 INFO usp.fetch_parse [12150/MainThread]: Parsing sitemap from URL https://www.scmp.com/sitemap_archive_2000_Mar.xml...\n",
      "2020-11-15 01:23:55,246 INFO usp.fetch_parse [12150/MainThread]: Fetching level 1 sitemap from https://www.scmp.com/sitemap_archive_2000_May.xml...\n",
      "2020-11-15 01:23:55,247 INFO usp.helpers [12150/MainThread]: Fetching URL https://www.scmp.com/sitemap_archive_2000_May.xml...\n",
      "2020-11-15 01:23:55,796 INFO usp.fetch_parse [12150/MainThread]: Parsing sitemap from URL https://www.scmp.com/sitemap_archive_2000_May.xml...\n",
      "2020-11-15 01:23:56,157 INFO usp.fetch_parse [12150/MainThread]: Fetching level 1 sitemap from https://www.scmp.com/sitemap_archive_2000_Nov.xml...\n",
      "2020-11-15 01:23:56,158 INFO usp.helpers [12150/MainThread]: Fetching URL https://www.scmp.com/sitemap_archive_2000_Nov.xml...\n",
      "2020-11-15 01:23:56,702 INFO usp.fetch_parse [12150/MainThread]: Parsing sitemap from URL https://www.scmp.com/sitemap_archive_2000_Nov.xml...\n",
      "2020-11-15 01:23:57,149 INFO usp.fetch_parse [12150/MainThread]: Fetching level 1 sitemap from https://www.scmp.com/sitemap_archive_2000_Oct.xml...\n",
      "2020-11-15 01:23:57,149 INFO usp.helpers [12150/MainThread]: Fetching URL https://www.scmp.com/sitemap_archive_2000_Oct.xml...\n",
      "2020-11-15 01:23:57,828 INFO usp.fetch_parse [12150/MainThread]: Parsing sitemap from URL https://www.scmp.com/sitemap_archive_2000_Oct.xml...\n",
      "2020-11-15 01:23:58,230 INFO usp.fetch_parse [12150/MainThread]: Fetching level 1 sitemap from https://www.scmp.com/sitemap_archive_2000_Sep.xml...\n",
      "2020-11-15 01:23:58,231 INFO usp.helpers [12150/MainThread]: Fetching URL https://www.scmp.com/sitemap_archive_2000_Sep.xml...\n",
      "2020-11-15 01:23:58,781 INFO usp.fetch_parse [12150/MainThread]: Parsing sitemap from URL https://www.scmp.com/sitemap_archive_2000_Sep.xml...\n",
      "2020-11-15 01:23:59,164 INFO usp.fetch_parse [12150/MainThread]: Fetching level 1 sitemap from https://www.scmp.com/sitemap_archive_2001_Apr.xml...\n",
      "2020-11-15 01:23:59,165 INFO usp.helpers [12150/MainThread]: Fetching URL https://www.scmp.com/sitemap_archive_2001_Apr.xml...\n",
      "2020-11-15 01:23:59,627 INFO usp.fetch_parse [12150/MainThread]: Parsing sitemap from URL https://www.scmp.com/sitemap_archive_2001_Apr.xml...\n",
      "2020-11-15 01:24:00,025 INFO usp.fetch_parse [12150/MainThread]: Fetching level 1 sitemap from https://www.scmp.com/sitemap_archive_2001_Aug.xml...\n",
      "2020-11-15 01:24:00,026 INFO usp.helpers [12150/MainThread]: Fetching URL https://www.scmp.com/sitemap_archive_2001_Aug.xml...\n",
      "2020-11-15 01:24:00,586 INFO usp.fetch_parse [12150/MainThread]: Parsing sitemap from URL https://www.scmp.com/sitemap_archive_2001_Aug.xml...\n",
      "2020-11-15 01:24:01,011 INFO usp.fetch_parse [12150/MainThread]: Fetching level 1 sitemap from https://www.scmp.com/sitemap_archive_2001_Dec.xml...\n",
      "2020-11-15 01:24:01,011 INFO usp.helpers [12150/MainThread]: Fetching URL https://www.scmp.com/sitemap_archive_2001_Dec.xml...\n",
      "2020-11-15 01:24:01,840 INFO usp.fetch_parse [12150/MainThread]: Parsing sitemap from URL https://www.scmp.com/sitemap_archive_2001_Dec.xml...\n",
      "2020-11-15 01:24:02,266 INFO usp.fetch_parse [12150/MainThread]: Fetching level 1 sitemap from https://www.scmp.com/sitemap_archive_2001_Feb.xml...\n",
      "2020-11-15 01:24:02,266 INFO usp.helpers [12150/MainThread]: Fetching URL https://www.scmp.com/sitemap_archive_2001_Feb.xml...\n",
      "2020-11-15 01:24:02,815 INFO usp.fetch_parse [12150/MainThread]: Parsing sitemap from URL https://www.scmp.com/sitemap_archive_2001_Feb.xml...\n",
      "2020-11-15 01:24:03,187 INFO usp.fetch_parse [12150/MainThread]: Fetching level 1 sitemap from https://www.scmp.com/sitemap_archive_2001_Jan.xml...\n",
      "2020-11-15 01:24:03,188 INFO usp.helpers [12150/MainThread]: Fetching URL https://www.scmp.com/sitemap_archive_2001_Jan.xml...\n",
      "2020-11-15 01:24:03,721 INFO usp.fetch_parse [12150/MainThread]: Parsing sitemap from URL https://www.scmp.com/sitemap_archive_2001_Jan.xml...\n",
      "2020-11-15 01:24:04,104 INFO usp.fetch_parse [12150/MainThread]: Fetching level 1 sitemap from https://www.scmp.com/sitemap_archive_2001_Jul.xml...\n",
      "2020-11-15 01:24:04,105 INFO usp.helpers [12150/MainThread]: Fetching URL https://www.scmp.com/sitemap_archive_2001_Jul.xml...\n",
      "2020-11-15 01:24:04,606 INFO usp.fetch_parse [12150/MainThread]: Parsing sitemap from URL https://www.scmp.com/sitemap_archive_2001_Jul.xml...\n",
      "2020-11-15 01:24:04,972 INFO usp.fetch_parse [12150/MainThread]: Fetching level 1 sitemap from https://www.scmp.com/sitemap_archive_2001_Jun.xml...\n",
      "2020-11-15 01:24:04,972 INFO usp.helpers [12150/MainThread]: Fetching URL https://www.scmp.com/sitemap_archive_2001_Jun.xml...\n",
      "2020-11-15 01:24:05,428 INFO usp.fetch_parse [12150/MainThread]: Parsing sitemap from URL https://www.scmp.com/sitemap_archive_2001_Jun.xml...\n",
      "2020-11-15 01:24:05,797 INFO usp.fetch_parse [12150/MainThread]: Fetching level 1 sitemap from https://www.scmp.com/sitemap_archive_2001_Mar.xml...\n",
      "2020-11-15 01:24:05,798 INFO usp.helpers [12150/MainThread]: Fetching URL https://www.scmp.com/sitemap_archive_2001_Mar.xml...\n",
      "2020-11-15 01:24:06,383 INFO usp.fetch_parse [12150/MainThread]: Parsing sitemap from URL https://www.scmp.com/sitemap_archive_2001_Mar.xml...\n",
      "2020-11-15 01:24:06,790 INFO usp.fetch_parse [12150/MainThread]: Fetching level 1 sitemap from https://www.scmp.com/sitemap_archive_2001_May.xml...\n",
      "2020-11-15 01:24:06,790 INFO usp.helpers [12150/MainThread]: Fetching URL https://www.scmp.com/sitemap_archive_2001_May.xml...\n",
      "2020-11-15 01:24:10,254 INFO usp.fetch_parse [12150/MainThread]: Parsing sitemap from URL https://www.scmp.com/sitemap_archive_2001_May.xml...\n",
      "2020-11-15 01:24:10,701 INFO usp.fetch_parse [12150/MainThread]: Fetching level 1 sitemap from https://www.scmp.com/sitemap_archive_2001_Nov.xml...\n",
      "2020-11-15 01:24:10,701 INFO usp.helpers [12150/MainThread]: Fetching URL https://www.scmp.com/sitemap_archive_2001_Nov.xml...\n",
      "2020-11-15 01:24:11,188 INFO usp.fetch_parse [12150/MainThread]: Parsing sitemap from URL https://www.scmp.com/sitemap_archive_2001_Nov.xml...\n",
      "2020-11-15 01:24:11,605 INFO usp.fetch_parse [12150/MainThread]: Fetching level 1 sitemap from https://www.scmp.com/sitemap_archive_2001_Oct.xml...\n",
      "2020-11-15 01:24:11,606 INFO usp.helpers [12150/MainThread]: Fetching URL https://www.scmp.com/sitemap_archive_2001_Oct.xml...\n",
      "2020-11-15 01:24:12,142 INFO usp.fetch_parse [12150/MainThread]: Parsing sitemap from URL https://www.scmp.com/sitemap_archive_2001_Oct.xml...\n",
      "2020-11-15 01:24:12,527 INFO usp.fetch_parse [12150/MainThread]: Fetching level 1 sitemap from https://www.scmp.com/sitemap_archive_2001_Sep.xml...\n",
      "2020-11-15 01:24:12,527 INFO usp.helpers [12150/MainThread]: Fetching URL https://www.scmp.com/sitemap_archive_2001_Sep.xml...\n",
      "2020-11-15 01:24:13,100 INFO usp.fetch_parse [12150/MainThread]: Parsing sitemap from URL https://www.scmp.com/sitemap_archive_2001_Sep.xml...\n",
      "2020-11-15 01:24:13,460 INFO usp.fetch_parse [12150/MainThread]: Fetching level 1 sitemap from https://www.scmp.com/sitemap_archive_2002_Apr.xml...\n",
      "2020-11-15 01:24:13,460 INFO usp.helpers [12150/MainThread]: Fetching URL https://www.scmp.com/sitemap_archive_2002_Apr.xml...\n",
      "2020-11-15 01:24:14,032 INFO usp.fetch_parse [12150/MainThread]: Parsing sitemap from URL https://www.scmp.com/sitemap_archive_2002_Apr.xml...\n",
      "2020-11-15 01:24:14,487 INFO usp.fetch_parse [12150/MainThread]: Fetching level 1 sitemap from https://www.scmp.com/sitemap_archive_2002_Aug.xml...\n",
      "2020-11-15 01:24:14,488 INFO usp.helpers [12150/MainThread]: Fetching URL https://www.scmp.com/sitemap_archive_2002_Aug.xml...\n",
      "2020-11-15 01:24:17,379 INFO usp.fetch_parse [12150/MainThread]: Parsing sitemap from URL https://www.scmp.com/sitemap_archive_2002_Aug.xml...\n",
      "2020-11-15 01:24:17,827 INFO usp.fetch_parse [12150/MainThread]: Fetching level 1 sitemap from https://www.scmp.com/sitemap_archive_2002_Dec.xml...\n",
      "2020-11-15 01:24:17,828 INFO usp.helpers [12150/MainThread]: Fetching URL https://www.scmp.com/sitemap_archive_2002_Dec.xml...\n",
      "2020-11-15 01:24:18,197 INFO usp.fetch_parse [12150/MainThread]: Parsing sitemap from URL https://www.scmp.com/sitemap_archive_2002_Dec.xml...\n"
     ]
    },
    {
     "name": "stderr",
     "output_type": "stream",
     "text": [
      "2020-11-15 01:24:18,632 INFO usp.fetch_parse [12150/MainThread]: Fetching level 1 sitemap from https://www.scmp.com/sitemap_archive_2002_Feb.xml...\n",
      "2020-11-15 01:24:18,633 INFO usp.helpers [12150/MainThread]: Fetching URL https://www.scmp.com/sitemap_archive_2002_Feb.xml...\n",
      "2020-11-15 01:24:19,076 INFO usp.fetch_parse [12150/MainThread]: Parsing sitemap from URL https://www.scmp.com/sitemap_archive_2002_Feb.xml...\n",
      "2020-11-15 01:24:19,421 INFO usp.fetch_parse [12150/MainThread]: Fetching level 1 sitemap from https://www.scmp.com/sitemap_archive_2002_Jan.xml...\n",
      "2020-11-15 01:24:19,421 INFO usp.helpers [12150/MainThread]: Fetching URL https://www.scmp.com/sitemap_archive_2002_Jan.xml...\n",
      "2020-11-15 01:24:19,926 INFO usp.fetch_parse [12150/MainThread]: Parsing sitemap from URL https://www.scmp.com/sitemap_archive_2002_Jan.xml...\n",
      "2020-11-15 01:24:20,377 INFO usp.fetch_parse [12150/MainThread]: Fetching level 1 sitemap from https://www.scmp.com/sitemap_archive_2002_Jul.xml...\n",
      "2020-11-15 01:24:20,378 INFO usp.helpers [12150/MainThread]: Fetching URL https://www.scmp.com/sitemap_archive_2002_Jul.xml...\n",
      "2020-11-15 01:24:20,936 INFO usp.fetch_parse [12150/MainThread]: Parsing sitemap from URL https://www.scmp.com/sitemap_archive_2002_Jul.xml...\n",
      "2020-11-15 01:24:21,428 INFO usp.fetch_parse [12150/MainThread]: Fetching level 1 sitemap from https://www.scmp.com/sitemap_archive_2002_Jun.xml...\n",
      "2020-11-15 01:24:21,428 INFO usp.helpers [12150/MainThread]: Fetching URL https://www.scmp.com/sitemap_archive_2002_Jun.xml...\n",
      "2020-11-15 01:24:22,049 INFO usp.fetch_parse [12150/MainThread]: Parsing sitemap from URL https://www.scmp.com/sitemap_archive_2002_Jun.xml...\n",
      "2020-11-15 01:24:22,410 INFO usp.fetch_parse [12150/MainThread]: Fetching level 1 sitemap from https://www.scmp.com/sitemap_archive_2002_Mar.xml...\n",
      "2020-11-15 01:24:22,411 INFO usp.helpers [12150/MainThread]: Fetching URL https://www.scmp.com/sitemap_archive_2002_Mar.xml...\n",
      "2020-11-15 01:24:22,894 INFO usp.fetch_parse [12150/MainThread]: Parsing sitemap from URL https://www.scmp.com/sitemap_archive_2002_Mar.xml...\n",
      "2020-11-15 01:24:23,365 INFO usp.fetch_parse [12150/MainThread]: Fetching level 1 sitemap from https://www.scmp.com/sitemap_archive_2002_May.xml...\n",
      "2020-11-15 01:24:23,366 INFO usp.helpers [12150/MainThread]: Fetching URL https://www.scmp.com/sitemap_archive_2002_May.xml...\n",
      "2020-11-15 01:24:23,907 INFO usp.fetch_parse [12150/MainThread]: Parsing sitemap from URL https://www.scmp.com/sitemap_archive_2002_May.xml...\n",
      "2020-11-15 01:24:24,339 INFO usp.fetch_parse [12150/MainThread]: Fetching level 1 sitemap from https://www.scmp.com/sitemap_archive_2002_Nov.xml...\n",
      "2020-11-15 01:24:24,340 INFO usp.helpers [12150/MainThread]: Fetching URL https://www.scmp.com/sitemap_archive_2002_Nov.xml...\n",
      "2020-11-15 01:24:24,900 INFO usp.fetch_parse [12150/MainThread]: Parsing sitemap from URL https://www.scmp.com/sitemap_archive_2002_Nov.xml...\n",
      "2020-11-15 01:24:25,420 INFO usp.fetch_parse [12150/MainThread]: Fetching level 1 sitemap from https://www.scmp.com/sitemap_archive_2002_Oct.xml...\n",
      "2020-11-15 01:24:25,421 INFO usp.helpers [12150/MainThread]: Fetching URL https://www.scmp.com/sitemap_archive_2002_Oct.xml...\n",
      "2020-11-15 01:24:25,917 INFO usp.fetch_parse [12150/MainThread]: Parsing sitemap from URL https://www.scmp.com/sitemap_archive_2002_Oct.xml...\n",
      "2020-11-15 01:24:26,403 INFO usp.fetch_parse [12150/MainThread]: Fetching level 1 sitemap from https://www.scmp.com/sitemap_archive_2002_Sep.xml...\n",
      "2020-11-15 01:24:26,403 INFO usp.helpers [12150/MainThread]: Fetching URL https://www.scmp.com/sitemap_archive_2002_Sep.xml...\n",
      "2020-11-15 01:24:26,983 INFO usp.fetch_parse [12150/MainThread]: Parsing sitemap from URL https://www.scmp.com/sitemap_archive_2002_Sep.xml...\n",
      "2020-11-15 01:24:27,469 INFO usp.fetch_parse [12150/MainThread]: Fetching level 1 sitemap from https://www.scmp.com/sitemap_archive_2003_Apr.xml...\n",
      "2020-11-15 01:24:27,470 INFO usp.helpers [12150/MainThread]: Fetching URL https://www.scmp.com/sitemap_archive_2003_Apr.xml...\n",
      "2020-11-15 01:24:28,122 INFO usp.fetch_parse [12150/MainThread]: Parsing sitemap from URL https://www.scmp.com/sitemap_archive_2003_Apr.xml...\n"
     ]
    }
   ],
   "source": [
    "#SOUTH CHINA MORNING POST\n",
    "# scmp articles as of date 4/11/2020. \n",
    "tree = sitemap_tree_for_homepage('https://www.scmp.com/hk');"
   ]
  },
  {
   "cell_type": "code",
   "execution_count": null,
   "metadata": {},
   "outputs": [],
   "source": [
    "urls = []\n",
    "dates = []\n",
    "for page in tree.all_pages():\n",
    "    urls.append(page.url)\n",
    "    dates.append(page.last_modified)"
   ]
  },
  {
   "cell_type": "code",
   "execution_count": null,
   "metadata": {
    "scrolled": false
   },
   "outputs": [],
   "source": [
    "!ls ../Pickles"
   ]
  },
  {
   "cell_type": "code",
   "execution_count": null,
   "metadata": {},
   "outputs": [],
   "source": [
    "#transpose\n",
    "zippedList =list(zip(urls,dates))\n",
    "\n",
    "#format into dataframe\n",
    "df = pd.DataFrame(zippedList, columns = ['urls' ,'date'])\n",
    "\n",
    "#drop nan for date published and drop duplicates\n",
    "df = df.dropna()\n",
    "df = df.drop_duplicates()\n",
    "\n",
    "df.to_pickle(\"../Pickles/SCMP_All_URLs.pkl\")\n",
    "df"
   ]
  },
  {
   "cell_type": "markdown",
   "metadata": {},
   "source": [
    "# Data Scrape"
   ]
  },
  {
   "cell_type": "code",
   "execution_count": 2,
   "metadata": {},
   "outputs": [
    {
     "ename": "FileNotFoundError",
     "evalue": "[Errno 2] No such file or directory: '../Pickles/SCMP_All.pkl'",
     "output_type": "error",
     "traceback": [
      "\u001b[0;31m---------------------------------------------------------------------------\u001b[0m",
      "\u001b[0;31mFileNotFoundError\u001b[0m                         Traceback (most recent call last)",
      "\u001b[0;32m<ipython-input-2-b9be63ff19f9>\u001b[0m in \u001b[0;36m<module>\u001b[0;34m\u001b[0m\n\u001b[1;32m      1\u001b[0m \u001b[0;31m#LOAD DATASET OF ALL SCRAPED URLS FROM SCMP\u001b[0m\u001b[0;34m\u001b[0m\u001b[0;34m\u001b[0m\u001b[0;34m\u001b[0m\u001b[0m\n\u001b[0;32m----> 2\u001b[0;31m \u001b[0;32mwith\u001b[0m \u001b[0mopen\u001b[0m\u001b[0;34m(\u001b[0m\u001b[0;34m'../Pickles/SCMP_All.pkl'\u001b[0m\u001b[0;34m,\u001b[0m \u001b[0;34m'rb'\u001b[0m\u001b[0;34m)\u001b[0m \u001b[0;32mas\u001b[0m \u001b[0mf\u001b[0m\u001b[0;34m:\u001b[0m\u001b[0;34m\u001b[0m\u001b[0;34m\u001b[0m\u001b[0m\n\u001b[0m\u001b[1;32m      3\u001b[0m     \u001b[0mdf\u001b[0m \u001b[0;34m=\u001b[0m \u001b[0mpickle\u001b[0m\u001b[0;34m.\u001b[0m\u001b[0mload\u001b[0m\u001b[0;34m(\u001b[0m\u001b[0mf\u001b[0m\u001b[0;34m)\u001b[0m\u001b[0;34m\u001b[0m\u001b[0;34m\u001b[0m\u001b[0m\n\u001b[1;32m      4\u001b[0m \u001b[0;34m\u001b[0m\u001b[0m\n\u001b[1;32m      5\u001b[0m \u001b[0;31m#reset df index\u001b[0m\u001b[0;34m\u001b[0m\u001b[0;34m\u001b[0m\u001b[0;34m\u001b[0m\u001b[0m\n",
      "\u001b[0;31mFileNotFoundError\u001b[0m: [Errno 2] No such file or directory: '../Pickles/SCMP_All.pkl'"
     ]
    }
   ],
   "source": [
    "#LOAD DATASET OF ALL SCRAPED URLS FROM SCMP\n",
    "with open('../Pickles/SCMP_All.pkl', 'rb') as f:\n",
    "    df = pickle.load(f)\n",
    "    \n",
    "#reset df index\n",
    "df = df.reset_index(drop = True)\n",
    "\n",
    "#find articles with \"Articles\" to exclude photos/video pages\n",
    "articles_only_urls = []\n",
    "for i in trange(len(df)-1):\n",
    "    if 'article' in df.urls[i] and 'hong-kong' in df.urls[i] and df.date[i].year == 2019:\n",
    "        articles_only_urls.append(df.urls[i])\n"
   ]
  },
  {
   "cell_type": "code",
   "execution_count": 10,
   "metadata": {},
   "outputs": [],
   "source": [
    "author = []\n",
    "title = []\n",
    "date = []\n",
    "summary = []\n",
    "link = []\n",
    "topic = []\n",
    "broken = []"
   ]
  },
  {
   "cell_type": "code",
   "execution_count": 11,
   "metadata": {},
   "outputs": [
    {
     "name": "stderr",
     "output_type": "stream",
     "text": [
      "  9%|▉         | 2015/22172 [1:11:19<7:59:19,  1.43s/it] "
     ]
    },
    {
     "name": "stdout",
     "output_type": "stream",
     "text": [
      "Dataset contains 1000 entries.\n"
     ]
    },
    {
     "name": "stderr",
     "output_type": "stream",
     "text": [
      " 10%|█         | 2327/22172 [1:23:44<8:23:35,  1.52s/it] "
     ]
    },
    {
     "name": "stdout",
     "output_type": "stream",
     "text": [
      "URL number 2326 is broken: https://www.scmp.com/comment/letters/article/3034473/want-better-future-hong-kong-start-ending-chaos-legislative-council\n"
     ]
    },
    {
     "name": "stderr",
     "output_type": "stream",
     "text": [
      " 14%|█▎        | 3017/22172 [1:46:50<11:56:44,  2.25s/it]"
     ]
    },
    {
     "name": "stdout",
     "output_type": "stream",
     "text": [
      "Dataset contains 2000 entries.\n"
     ]
    },
    {
     "name": "stderr",
     "output_type": "stream",
     "text": [
      " 18%|█▊        | 3935/22172 [2:15:42<78:34:24, 15.51s/it]"
     ]
    },
    {
     "name": "stdout",
     "output_type": "stream",
     "text": [
      "URL number 3934 is broken: https://www.scmp.com/lifestyle/health-wellness/article/3022101/womens-festival-hong-kong-edgier-more-daring-and-also-out\n"
     ]
    },
    {
     "name": "stderr",
     "output_type": "stream",
     "text": [
      " 18%|█▊        | 4018/22172 [2:18:09<8:27:13,  1.68s/it] "
     ]
    },
    {
     "name": "stdout",
     "output_type": "stream",
     "text": [
      "Dataset contains 3000 entries.\n"
     ]
    },
    {
     "name": "stderr",
     "output_type": "stream",
     "text": [
      " 24%|██▍       | 5289/22172 [2:56:58<15:36:46,  3.33s/it]"
     ]
    },
    {
     "name": "stdout",
     "output_type": "stream",
     "text": [
      "Dataset contains 4000 entries.\n"
     ]
    },
    {
     "name": "stderr",
     "output_type": "stream",
     "text": [
      " 26%|██▌       | 5798/22172 [3:11:04<9:57:21,  2.19s/it] "
     ]
    },
    {
     "name": "stdout",
     "output_type": "stream",
     "text": [
      "URL number 5797 is broken: https://www.scmp.com/photos/today-photos/article/1947455/pictures-10-top-moments-zhang-dejiangs-hong-kong-visit\n"
     ]
    },
    {
     "name": "stderr",
     "output_type": "stream",
     "text": [
      " 28%|██▊       | 6307/22172 [3:23:01<5:47:40,  1.31s/it] "
     ]
    },
    {
     "name": "stdout",
     "output_type": "stream",
     "text": [
      "Dataset contains 5000 entries.\n"
     ]
    },
    {
     "name": "stderr",
     "output_type": "stream",
     "text": [
      " 33%|███▎      | 7222/22172 [3:43:17<8:39:27,  2.08s/it]"
     ]
    },
    {
     "name": "stdout",
     "output_type": "stream",
     "text": [
      "URL number 2326 is broken: https://www.scmp.com/comment/letters/article/3034473/want-better-future-hong-kong-start-ending-chaos-legislative-council\n"
     ]
    },
    {
     "name": "stderr",
     "output_type": "stream",
     "text": [
      " 33%|███▎      | 7308/22172 [3:45:10<5:58:36,  1.45s/it]"
     ]
    },
    {
     "name": "stdout",
     "output_type": "stream",
     "text": [
      "Dataset contains 6000 entries.\n"
     ]
    },
    {
     "name": "stderr",
     "output_type": "stream",
     "text": [
      " 37%|███▋      | 8309/22172 [4:07:22<4:32:09,  1.18s/it]"
     ]
    },
    {
     "name": "stdout",
     "output_type": "stream",
     "text": [
      "Dataset contains 7000 entries.\n"
     ]
    },
    {
     "name": "stderr",
     "output_type": "stream",
     "text": [
      " 42%|████▏     | 9406/22172 [4:32:05<4:14:53,  1.20s/it]"
     ]
    },
    {
     "name": "stdout",
     "output_type": "stream",
     "text": [
      "Dataset contains 8000 entries.\n"
     ]
    },
    {
     "name": "stderr",
     "output_type": "stream",
     "text": [
      " 47%|████▋     | 10311/22172 [4:53:03<6:58:56,  2.12s/it]"
     ]
    },
    {
     "name": "stdout",
     "output_type": "stream",
     "text": [
      "URL number 5797 is broken: https://www.scmp.com/photos/today-photos/article/1947455/pictures-10-top-moments-zhang-dejiangs-hong-kong-visit\n"
     ]
    },
    {
     "name": "stderr",
     "output_type": "stream",
     "text": [
      " 48%|████▊     | 10582/22172 [4:59:19<5:13:37,  1.62s/it]"
     ]
    },
    {
     "name": "stdout",
     "output_type": "stream",
     "text": [
      "Dataset contains 9000 entries.\n"
     ]
    },
    {
     "name": "stderr",
     "output_type": "stream",
     "text": [
      " 50%|█████     | 11166/22172 [5:18:07<6:02:35,  1.98s/it] "
     ]
    },
    {
     "name": "stdout",
     "output_type": "stream",
     "text": [
      "URL number 5797 is broken: https://www.scmp.com/photos/today-photos/article/1947455/pictures-10-top-moments-zhang-dejiangs-hong-kong-visit\n"
     ]
    },
    {
     "name": "stderr",
     "output_type": "stream",
     "text": [
      " 52%|█████▏    | 11597/22172 [5:31:10<3:57:19,  1.35s/it] "
     ]
    },
    {
     "name": "stdout",
     "output_type": "stream",
     "text": [
      "Dataset contains 10000 entries.\n"
     ]
    },
    {
     "name": "stderr",
     "output_type": "stream",
     "text": [
      " 57%|█████▋    | 12622/22172 [5:59:53<4:12:33,  1.59s/it] "
     ]
    },
    {
     "name": "stdout",
     "output_type": "stream",
     "text": [
      "Dataset contains 11000 entries.\n"
     ]
    },
    {
     "name": "stderr",
     "output_type": "stream",
     "text": [
      " 62%|██████▏   | 13638/22172 [6:25:40<3:27:30,  1.46s/it] "
     ]
    },
    {
     "name": "stdout",
     "output_type": "stream",
     "text": [
      "Dataset contains 12000 entries.\n"
     ]
    },
    {
     "name": "stderr",
     "output_type": "stream",
     "text": [
      " 66%|██████▌   | 14682/22172 [6:52:24<2:40:03,  1.28s/it] "
     ]
    },
    {
     "name": "stdout",
     "output_type": "stream",
     "text": [
      "Dataset contains 13000 entries.\n"
     ]
    },
    {
     "name": "stderr",
     "output_type": "stream",
     "text": [
      " 71%|███████   | 15712/22172 [7:19:56<3:04:53,  1.72s/it] "
     ]
    },
    {
     "name": "stdout",
     "output_type": "stream",
     "text": [
      "Dataset contains 14000 entries.\n"
     ]
    },
    {
     "name": "stderr",
     "output_type": "stream",
     "text": [
      " 75%|███████▌  | 16732/22172 [7:48:10<2:54:33,  1.93s/it]"
     ]
    },
    {
     "name": "stdout",
     "output_type": "stream",
     "text": [
      "Dataset contains 15000 entries.\n"
     ]
    },
    {
     "name": "stderr",
     "output_type": "stream",
     "text": [
      " 80%|████████  | 17757/22172 [8:21:08<2:11:00,  1.78s/it] "
     ]
    },
    {
     "name": "stdout",
     "output_type": "stream",
     "text": [
      "Dataset contains 16000 entries.\n"
     ]
    },
    {
     "name": "stderr",
     "output_type": "stream",
     "text": [
      " 85%|████████▍ | 18793/22172 [8:54:14<1:44:08,  1.85s/it] "
     ]
    },
    {
     "name": "stdout",
     "output_type": "stream",
     "text": [
      "Dataset contains 17000 entries.\n"
     ]
    },
    {
     "name": "stderr",
     "output_type": "stream",
     "text": [
      " 89%|████████▉ | 19824/22172 [9:25:13<57:20,  1.47s/it]   "
     ]
    },
    {
     "name": "stdout",
     "output_type": "stream",
     "text": [
      "Dataset contains 18000 entries.\n"
     ]
    },
    {
     "name": "stderr",
     "output_type": "stream",
     "text": [
      " 92%|█████████▏| 20381/22172 [9:39:15<37:45,  1.26s/it]  "
     ]
    },
    {
     "name": "stdout",
     "output_type": "stream",
     "text": [
      "URL number 2326 is broken: https://www.scmp.com/comment/letters/article/3034473/want-better-future-hong-kong-start-ending-chaos-legislative-council\n"
     ]
    },
    {
     "name": "stderr",
     "output_type": "stream",
     "text": [
      " 94%|█████████▍| 20846/22172 [9:50:22<32:59,  1.49s/it]  "
     ]
    },
    {
     "name": "stdout",
     "output_type": "stream",
     "text": [
      "Dataset contains 19000 entries.\n"
     ]
    },
    {
     "name": "stderr",
     "output_type": "stream",
     "text": [
      " 99%|█████████▊| 21876/22172 [10:17:18<08:13,  1.67s/it] "
     ]
    },
    {
     "name": "stdout",
     "output_type": "stream",
     "text": [
      "Dataset contains 20000 entries.\n"
     ]
    },
    {
     "name": "stderr",
     "output_type": "stream",
     "text": [
      "100%|██████████| 22172/22172 [10:25:09<00:00,  1.69s/it]\n"
     ]
    }
   ],
   "source": [
    "#using BS4 to request each html data\n",
    "for i in tqdm(articles_only_urls):\n",
    "    try:\n",
    "        time.sleep(1) \n",
    "        req = Request(str(i), headers={'User-Agent': 'Mozilla/5.0'})\n",
    "        webpage = urlopen(req).read()\n",
    "        soup = BeautifulSoup(webpage, 'lxml')\n",
    "\n",
    "        by = soup.find(\"meta\", {\"name\": \"cse_author\"})\n",
    "        ti = soup.find(\"meta\", {\"name\": \"cse_headline\"})\n",
    "        to = soup.find(\"meta\", {\"name\": \"cse_topic\"})\n",
    "        d = soup.find(\"meta\", {\"property\": \"article:published_time\"})\n",
    "        summ = soup.find(\"meta\", {\"name\": \"cse_summary\"})\n",
    "\n",
    "\n",
    "        if by and ti and d:\n",
    "            author.append(by[\"content\"])\n",
    "            title.append(ti[\"content\"])\n",
    "            topic.append(to[\"content\"])\n",
    "            date.append(d[\"content\"])\n",
    "            summary.append(summ[\"content\"])\n",
    "            link.append(i)\n",
    "\n",
    "            if len(link)% 1000 == 0:\n",
    "                print(\"Dataset contains \" + str(len(link)) + \" entries.\")\n",
    "    except:\n",
    "        print(\"URL number \" + str(articles_only_urls.index(i)) + \" is broken: \" + i )\n",
    "        broken.append(i)\n",
    "        pass\n"
   ]
  },
  {
   "cell_type": "code",
   "execution_count": 12,
   "metadata": {},
   "outputs": [
    {
     "data": {
      "text/html": [
       "<div>\n",
       "<style scoped>\n",
       "    .dataframe tbody tr th:only-of-type {\n",
       "        vertical-align: middle;\n",
       "    }\n",
       "\n",
       "    .dataframe tbody tr th {\n",
       "        vertical-align: top;\n",
       "    }\n",
       "\n",
       "    .dataframe thead th {\n",
       "        text-align: right;\n",
       "    }\n",
       "</style>\n",
       "<table border=\"1\" class=\"dataframe\">\n",
       "  <thead>\n",
       "    <tr style=\"text-align: right;\">\n",
       "      <th></th>\n",
       "      <th>Title</th>\n",
       "      <th>Author</th>\n",
       "      <th>Date</th>\n",
       "      <th>Summary</th>\n",
       "      <th>Topic</th>\n",
       "      <th>Link</th>\n",
       "    </tr>\n",
       "  </thead>\n",
       "  <tbody>\n",
       "    <tr>\n",
       "      <th>0</th>\n",
       "      <td>Hong Kong protesters and mainland gamers clash in Grand Theft Auto V Online</td>\n",
       "      <td>Josh Ye</td>\n",
       "      <td>2019-12-23T12:45:34+08:00</td>\n",
       "      <td></td>\n",
       "      <td>Hong Kong protests,Gaming,Steam,Propaganda,Abacus - China Tech News</td>\n",
       "      <td>https://www.scmp.com/abacus/games/article/3043211/hong-kong-protesters-and-mainland-gamers-clash-grand-theft-auto-v</td>\n",
       "    </tr>\n",
       "    <tr>\n",
       "      <th>1</th>\n",
       "      <td>China has its own Hong Kong protest game that lets you beat up activists</td>\n",
       "      <td>Josh Ye</td>\n",
       "      <td>2019-12-06T10:00:24+08:00</td>\n",
       "      <td>After protesters turned to video game activism, a new web game lets players beat figures like Joshua Wong and Martin Lee with a flip-flop or baseball bat</td>\n",
       "      <td>Gaming,Hong Kong protests,Steam,Abacus - China Tech News</td>\n",
       "      <td>https://www.scmp.com/abacus/games/article/3040864/china-has-its-own-hong-kong-protest-game-lets-you-beat-activists</td>\n",
       "    </tr>\n",
       "    <tr>\n",
       "      <th>2</th>\n",
       "      <td>Tim Cook says Apple made decision to remove Hong Kong protest app “unilaterally”</td>\n",
       "      <td>Karen Chiu</td>\n",
       "      <td>2019-11-21T16:27:58+08:00</td>\n",
       "      <td>Apple CEO talks about business in China during a visit from Donald Trump to new Texas facility</td>\n",
       "      <td>Apple,iPhone,Hong Kong protests,Apps,Cybersecurity,Abacus - China Tech News</td>\n",
       "      <td>https://www.scmp.com/abacus/culture/article/3038759/tim-cook-says-apple-made-decision-remove-hong-kong-protest-app</td>\n",
       "    </tr>\n",
       "    <tr>\n",
       "      <th>3</th>\n",
       "      <td>Hong Kong bike sharing firm unlocks its bikes amid protests</td>\n",
       "      <td>Karen Chiu</td>\n",
       "      <td>2019-11-12T19:47:20+08:00</td>\n",
       "      <td>LocoBike says its shared bikes are free for students to take due to “system breakdown”</td>\n",
       "      <td>Sharing economy,Apps,Hong Kong protests,Abacus - China Tech News</td>\n",
       "      <td>https://www.scmp.com/abacus/news-bites/article/3037426/hong-kong-bike-sharing-firm-unlocks-its-bikes-amid-protests</td>\n",
       "    </tr>\n",
       "    <tr>\n",
       "      <th>4</th>\n",
       "      <td>A new Steam game lets you fight as a Hong Kong protester</td>\n",
       "      <td>Josh Ye</td>\n",
       "      <td>2019-11-09T10:00:13+08:00</td>\n",
       "      <td>Liberate Hong Kong was inspired by Blizzard’s Blitzchung controversy, and now it’s making Steam the next battleground for protesters</td>\n",
       "      <td>Steam,Hong Kong protests,Gaming,Abacus - China Tech News</td>\n",
       "      <td>https://www.scmp.com/abacus/games/article/3037019/new-steam-game-lets-you-fight-hong-kong-protester</td>\n",
       "    </tr>\n",
       "    <tr>\n",
       "      <th>...</th>\n",
       "      <td>...</td>\n",
       "      <td>...</td>\n",
       "      <td>...</td>\n",
       "      <td>...</td>\n",
       "      <td>...</td>\n",
       "      <td>...</td>\n",
       "    </tr>\n",
       "    <tr>\n",
       "      <th>20284</th>\n",
       "      <td>Hong Kong’s nano drone racers find space to fly in concrete jungle</td>\n",
       "      <td>Karen Chiu</td>\n",
       "      <td>2018-05-15T19:15:45+08:00</td>\n",
       "      <td>Finding space to fly a drone among Hong Kong's densely packed skyscrapers isn't easy. But that hasn't stopped the city's tight-knit community of racing enthusiasts. Watch our video to see what it's like to race through an indoor playground -- through the eyes of a drone.</td>\n",
       "      <td>Drones,Abacus - China Tech News</td>\n",
       "      <td>https://www.scmp.com/abacus/tech/article/3028503/hong-kongs-nano-drone-racers-find-space-fly-concrete-jungle</td>\n",
       "    </tr>\n",
       "    <tr>\n",
       "      <th>20285</th>\n",
       "      <td>We tested a messaging app used by Hong Kong protesters that works without an internet connection</td>\n",
       "      <td>Masha Borak</td>\n",
       "      <td>2019-09-10T19:00:06+08:00</td>\n",
       "      <td>Bridgefy is a Bluetooth mesh network app trending in Hong Kong</td>\n",
       "      <td>Trending,Apps,Hong Kong protests,Abacus - China Tech News</td>\n",
       "      <td>https://www.scmp.com/abacus/culture/article/3026527/we-tested-messaging-app-used-hong-kong-protesters-works-without</td>\n",
       "    </tr>\n",
       "    <tr>\n",
       "      <th>20286</th>\n",
       "      <td>Why are Hong Kong protesters targeting lamp posts?</td>\n",
       "      <td>Masha Borak</td>\n",
       "      <td>2019-08-30T09:33:06+08:00</td>\n",
       "      <td>Protesters tore down a smart lamp post and posted online what they found inside</td>\n",
       "      <td>Surveillance,Trending,Facial recognition,Privacy,Hong Kong extradition bill,Hong Kong protests,Abacus - China Tech News</td>\n",
       "      <td>https://www.scmp.com/abacus/culture/article/3024997/why-are-hong-kong-protesters-targeting-lamp-posts</td>\n",
       "    </tr>\n",
       "    <tr>\n",
       "      <th>20287</th>\n",
       "      <td>Securing smartphones is now a priority for Hong Kong protesters</td>\n",
       "      <td>Masha Borak</td>\n",
       "      <td>2019-08-08T13:16:52+08:00</td>\n",
       "      <td></td>\n",
       "      <td>Cybersecurity,Trending,Abacus - China Tech News</td>\n",
       "      <td>https://www.scmp.com/abacus/culture/article/3021937/securing-smartphones-now-priority-hong-kong-protesters</td>\n",
       "    </tr>\n",
       "    <tr>\n",
       "      <th>20288</th>\n",
       "      <td>How Hong Kong protesters are using Tinder and Pokémon Go</td>\n",
       "      <td>Masha Borak</td>\n",
       "      <td>2019-08-06T09:20:28+08:00</td>\n",
       "      <td></td>\n",
       "      <td>Trending,Hong Kong extradition bill,Hong Kong protests,Pokemon Go,Apple,Apps,Abacus - China Tech News</td>\n",
       "      <td>https://www.scmp.com/abacus/culture/article/3021560/how-hong-kong-protesters-are-using-tinder-and-pokemon-go</td>\n",
       "    </tr>\n",
       "  </tbody>\n",
       "</table>\n",
       "<p>20289 rows × 6 columns</p>\n",
       "</div>"
      ],
      "text/plain": [
       "                                                                                                  Title  \\\n",
       "0      Hong Kong protesters and mainland gamers clash in Grand Theft Auto V Online                        \n",
       "1      China has its own Hong Kong protest game that lets you beat up activists                           \n",
       "2      Tim Cook says Apple made decision to remove Hong Kong protest app “unilaterally”                   \n",
       "3      Hong Kong bike sharing firm unlocks its bikes amid protests                                        \n",
       "4      A new Steam game lets you fight as a Hong Kong protester                                           \n",
       "...                                                         ...                                           \n",
       "20284  Hong Kong’s nano drone racers find space to fly in concrete jungle                                 \n",
       "20285  We tested a messaging app used by Hong Kong protesters that works without an internet connection   \n",
       "20286  Why are Hong Kong protesters targeting lamp posts?                                                 \n",
       "20287  Securing smartphones is now a priority for Hong Kong protesters                                    \n",
       "20288  How Hong Kong protesters are using Tinder and Pokémon Go                                           \n",
       "\n",
       "            Author                       Date  \\\n",
       "0      Josh Ye      2019-12-23T12:45:34+08:00   \n",
       "1      Josh Ye      2019-12-06T10:00:24+08:00   \n",
       "2      Karen Chiu   2019-11-21T16:27:58+08:00   \n",
       "3      Karen Chiu   2019-11-12T19:47:20+08:00   \n",
       "4      Josh Ye      2019-11-09T10:00:13+08:00   \n",
       "...        ...                            ...   \n",
       "20284  Karen Chiu   2018-05-15T19:15:45+08:00   \n",
       "20285  Masha Borak  2019-09-10T19:00:06+08:00   \n",
       "20286  Masha Borak  2019-08-30T09:33:06+08:00   \n",
       "20287  Masha Borak  2019-08-08T13:16:52+08:00   \n",
       "20288  Masha Borak  2019-08-06T09:20:28+08:00   \n",
       "\n",
       "                                                                                                                                                                                                                                                                                Summary  \\\n",
       "0                                                                                                                                                                                                                                                                                         \n",
       "1      After protesters turned to video game activism, a new web game lets players beat figures like Joshua Wong and Martin Lee with a flip-flop or baseball bat                                                                                                                          \n",
       "2      Apple CEO talks about business in China during a visit from Donald Trump to new Texas facility                                                                                                                                                                                     \n",
       "3      LocoBike says its shared bikes are free for students to take due to “system breakdown”                                                                                                                                                                                             \n",
       "4      Liberate Hong Kong was inspired by Blizzard’s Blitzchung controversy, and now it’s making Steam the next battleground for protesters                                                                                                                                               \n",
       "...                                                                                                                                     ...                                                                                                                                               \n",
       "20284  Finding space to fly a drone among Hong Kong's densely packed skyscrapers isn't easy. But that hasn't stopped the city's tight-knit community of racing enthusiasts. Watch our video to see what it's like to race through an indoor playground -- through the eyes of a drone.    \n",
       "20285  Bridgefy is a Bluetooth mesh network app trending in Hong Kong                                                                                                                                                                                                                     \n",
       "20286  Protesters tore down a smart lamp post and posted online what they found inside                                                                                                                                                                                                    \n",
       "20287                                                                                                                                                                                                                                                                                     \n",
       "20288                                                                                                                                                                                                                                                                                     \n",
       "\n",
       "                                                                                                                         Topic  \\\n",
       "0      Hong Kong protests,Gaming,Steam,Propaganda,Abacus - China Tech News                                                       \n",
       "1      Gaming,Hong Kong protests,Steam,Abacus - China Tech News                                                                  \n",
       "2      Apple,iPhone,Hong Kong protests,Apps,Cybersecurity,Abacus - China Tech News                                               \n",
       "3      Sharing economy,Apps,Hong Kong protests,Abacus - China Tech News                                                          \n",
       "4      Steam,Hong Kong protests,Gaming,Abacus - China Tech News                                                                  \n",
       "...                                                         ...                                                                  \n",
       "20284  Drones,Abacus - China Tech News                                                                                           \n",
       "20285  Trending,Apps,Hong Kong protests,Abacus - China Tech News                                                                 \n",
       "20286  Surveillance,Trending,Facial recognition,Privacy,Hong Kong extradition bill,Hong Kong protests,Abacus - China Tech News   \n",
       "20287  Cybersecurity,Trending,Abacus - China Tech News                                                                           \n",
       "20288  Trending,Hong Kong extradition bill,Hong Kong protests,Pokemon Go,Apple,Apps,Abacus - China Tech News                     \n",
       "\n",
       "                                                                                                                      Link  \n",
       "0      https://www.scmp.com/abacus/games/article/3043211/hong-kong-protesters-and-mainland-gamers-clash-grand-theft-auto-v  \n",
       "1      https://www.scmp.com/abacus/games/article/3040864/china-has-its-own-hong-kong-protest-game-lets-you-beat-activists   \n",
       "2      https://www.scmp.com/abacus/culture/article/3038759/tim-cook-says-apple-made-decision-remove-hong-kong-protest-app   \n",
       "3      https://www.scmp.com/abacus/news-bites/article/3037426/hong-kong-bike-sharing-firm-unlocks-its-bikes-amid-protests   \n",
       "4      https://www.scmp.com/abacus/games/article/3037019/new-steam-game-lets-you-fight-hong-kong-protester                  \n",
       "...                                                                                                    ...                  \n",
       "20284  https://www.scmp.com/abacus/tech/article/3028503/hong-kongs-nano-drone-racers-find-space-fly-concrete-jungle         \n",
       "20285  https://www.scmp.com/abacus/culture/article/3026527/we-tested-messaging-app-used-hong-kong-protesters-works-without  \n",
       "20286  https://www.scmp.com/abacus/culture/article/3024997/why-are-hong-kong-protesters-targeting-lamp-posts                \n",
       "20287  https://www.scmp.com/abacus/culture/article/3021937/securing-smartphones-now-priority-hong-kong-protesters           \n",
       "20288  https://www.scmp.com/abacus/culture/article/3021560/how-hong-kong-protesters-are-using-tinder-and-pokemon-go         \n",
       "\n",
       "[20289 rows x 6 columns]"
      ]
     },
     "execution_count": 12,
     "metadata": {},
     "output_type": "execute_result"
    }
   ],
   "source": [
    "df = pd.DataFrame(list(zip(title, author, date, summary, topic,link)), \n",
    "               columns =['Title', 'Author', 'Date', 'Summary','Topic','Link']) \n",
    "\n",
    "#df.to_pickle(\"./SCMP_Opinions.pkl\")\n",
    "df"
   ]
  },
  {
   "cell_type": "code",
   "execution_count": 13,
   "metadata": {},
   "outputs": [],
   "source": [
    "with open('../Pickles/ScmpDF.pkl', 'wb') as f:\n",
    "    pickle.dump(df, f)"
   ]
  },
  {
   "cell_type": "markdown",
   "metadata": {},
   "source": [
    "# Data"
   ]
  },
  {
   "cell_type": "code",
   "execution_count": 14,
   "metadata": {},
   "outputs": [],
   "source": [
    "with open('../Pickles/ScmpDF.pkl', 'rb') as f:\n",
    "    df = pickle.load(f)\n"
   ]
  },
  {
   "cell_type": "markdown",
   "metadata": {},
   "source": [
    "# Test Set"
   ]
  },
  {
   "cell_type": "code",
   "execution_count": 15,
   "metadata": {},
   "outputs": [
    {
     "data": {
      "text/html": [
       "<div>\n",
       "<style scoped>\n",
       "    .dataframe tbody tr th:only-of-type {\n",
       "        vertical-align: middle;\n",
       "    }\n",
       "\n",
       "    .dataframe tbody tr th {\n",
       "        vertical-align: top;\n",
       "    }\n",
       "\n",
       "    .dataframe thead th {\n",
       "        text-align: right;\n",
       "    }\n",
       "</style>\n",
       "<table border=\"1\" class=\"dataframe\">\n",
       "  <thead>\n",
       "    <tr style=\"text-align: right;\">\n",
       "      <th></th>\n",
       "      <th>Title</th>\n",
       "      <th>Author</th>\n",
       "      <th>Date</th>\n",
       "      <th>Summary</th>\n",
       "      <th>Topic</th>\n",
       "      <th>Link</th>\n",
       "    </tr>\n",
       "  </thead>\n",
       "  <tbody>\n",
       "    <tr>\n",
       "      <th>0</th>\n",
       "      <td>Hong Kong protesters and mainland gamers clash in Grand Theft Auto V Online</td>\n",
       "      <td>Josh Ye</td>\n",
       "      <td>2019-12-23T12:45:34+08:00</td>\n",
       "      <td></td>\n",
       "      <td>Hong Kong protests,Gaming,Steam,Propaganda,Abacus - China Tech News</td>\n",
       "      <td>https://www.scmp.com/abacus/games/article/3043211/hong-kong-protesters-and-mainland-gamers-clash-grand-theft-auto-v</td>\n",
       "    </tr>\n",
       "    <tr>\n",
       "      <th>1</th>\n",
       "      <td>China has its own Hong Kong protest game that lets you beat up activists</td>\n",
       "      <td>Josh Ye</td>\n",
       "      <td>2019-12-06T10:00:24+08:00</td>\n",
       "      <td>After protesters turned to video game activism, a new web game lets players beat figures like Joshua Wong and Martin Lee with a flip-flop or baseball bat</td>\n",
       "      <td>Gaming,Hong Kong protests,Steam,Abacus - China Tech News</td>\n",
       "      <td>https://www.scmp.com/abacus/games/article/3040864/china-has-its-own-hong-kong-protest-game-lets-you-beat-activists</td>\n",
       "    </tr>\n",
       "    <tr>\n",
       "      <th>2</th>\n",
       "      <td>Tim Cook says Apple made decision to remove Hong Kong protest app “unilaterally”</td>\n",
       "      <td>Karen Chiu</td>\n",
       "      <td>2019-11-21T16:27:58+08:00</td>\n",
       "      <td>Apple CEO talks about business in China during a visit from Donald Trump to new Texas facility</td>\n",
       "      <td>Apple,iPhone,Hong Kong protests,Apps,Cybersecurity,Abacus - China Tech News</td>\n",
       "      <td>https://www.scmp.com/abacus/culture/article/3038759/tim-cook-says-apple-made-decision-remove-hong-kong-protest-app</td>\n",
       "    </tr>\n",
       "    <tr>\n",
       "      <th>3</th>\n",
       "      <td>Hong Kong bike sharing firm unlocks its bikes amid protests</td>\n",
       "      <td>Karen Chiu</td>\n",
       "      <td>2019-11-12T19:47:20+08:00</td>\n",
       "      <td>LocoBike says its shared bikes are free for students to take due to “system breakdown”</td>\n",
       "      <td>Sharing economy,Apps,Hong Kong protests,Abacus - China Tech News</td>\n",
       "      <td>https://www.scmp.com/abacus/news-bites/article/3037426/hong-kong-bike-sharing-firm-unlocks-its-bikes-amid-protests</td>\n",
       "    </tr>\n",
       "    <tr>\n",
       "      <th>4</th>\n",
       "      <td>A new Steam game lets you fight as a Hong Kong protester</td>\n",
       "      <td>Josh Ye</td>\n",
       "      <td>2019-11-09T10:00:13+08:00</td>\n",
       "      <td>Liberate Hong Kong was inspired by Blizzard’s Blitzchung controversy, and now it’s making Steam the next battleground for protesters</td>\n",
       "      <td>Steam,Hong Kong protests,Gaming,Abacus - China Tech News</td>\n",
       "      <td>https://www.scmp.com/abacus/games/article/3037019/new-steam-game-lets-you-fight-hong-kong-protester</td>\n",
       "    </tr>\n",
       "    <tr>\n",
       "      <th>...</th>\n",
       "      <td>...</td>\n",
       "      <td>...</td>\n",
       "      <td>...</td>\n",
       "      <td>...</td>\n",
       "      <td>...</td>\n",
       "      <td>...</td>\n",
       "    </tr>\n",
       "    <tr>\n",
       "      <th>20284</th>\n",
       "      <td>Hong Kong’s nano drone racers find space to fly in concrete jungle</td>\n",
       "      <td>Karen Chiu</td>\n",
       "      <td>2018-05-15T19:15:45+08:00</td>\n",
       "      <td>Finding space to fly a drone among Hong Kong's densely packed skyscrapers isn't easy. But that hasn't stopped the city's tight-knit community of racing enthusiasts. Watch our video to see what it's like to race through an indoor playground -- through the eyes of a drone.</td>\n",
       "      <td>Drones,Abacus - China Tech News</td>\n",
       "      <td>https://www.scmp.com/abacus/tech/article/3028503/hong-kongs-nano-drone-racers-find-space-fly-concrete-jungle</td>\n",
       "    </tr>\n",
       "    <tr>\n",
       "      <th>20285</th>\n",
       "      <td>We tested a messaging app used by Hong Kong protesters that works without an internet connection</td>\n",
       "      <td>Masha Borak</td>\n",
       "      <td>2019-09-10T19:00:06+08:00</td>\n",
       "      <td>Bridgefy is a Bluetooth mesh network app trending in Hong Kong</td>\n",
       "      <td>Trending,Apps,Hong Kong protests,Abacus - China Tech News</td>\n",
       "      <td>https://www.scmp.com/abacus/culture/article/3026527/we-tested-messaging-app-used-hong-kong-protesters-works-without</td>\n",
       "    </tr>\n",
       "    <tr>\n",
       "      <th>20286</th>\n",
       "      <td>Why are Hong Kong protesters targeting lamp posts?</td>\n",
       "      <td>Masha Borak</td>\n",
       "      <td>2019-08-30T09:33:06+08:00</td>\n",
       "      <td>Protesters tore down a smart lamp post and posted online what they found inside</td>\n",
       "      <td>Surveillance,Trending,Facial recognition,Privacy,Hong Kong extradition bill,Hong Kong protests,Abacus - China Tech News</td>\n",
       "      <td>https://www.scmp.com/abacus/culture/article/3024997/why-are-hong-kong-protesters-targeting-lamp-posts</td>\n",
       "    </tr>\n",
       "    <tr>\n",
       "      <th>20287</th>\n",
       "      <td>Securing smartphones is now a priority for Hong Kong protesters</td>\n",
       "      <td>Masha Borak</td>\n",
       "      <td>2019-08-08T13:16:52+08:00</td>\n",
       "      <td></td>\n",
       "      <td>Cybersecurity,Trending,Abacus - China Tech News</td>\n",
       "      <td>https://www.scmp.com/abacus/culture/article/3021937/securing-smartphones-now-priority-hong-kong-protesters</td>\n",
       "    </tr>\n",
       "    <tr>\n",
       "      <th>20288</th>\n",
       "      <td>How Hong Kong protesters are using Tinder and Pokémon Go</td>\n",
       "      <td>Masha Borak</td>\n",
       "      <td>2019-08-06T09:20:28+08:00</td>\n",
       "      <td></td>\n",
       "      <td>Trending,Hong Kong extradition bill,Hong Kong protests,Pokemon Go,Apple,Apps,Abacus - China Tech News</td>\n",
       "      <td>https://www.scmp.com/abacus/culture/article/3021560/how-hong-kong-protesters-are-using-tinder-and-pokemon-go</td>\n",
       "    </tr>\n",
       "  </tbody>\n",
       "</table>\n",
       "<p>20289 rows × 6 columns</p>\n",
       "</div>"
      ],
      "text/plain": [
       "                                                                                                  Title  \\\n",
       "0      Hong Kong protesters and mainland gamers clash in Grand Theft Auto V Online                        \n",
       "1      China has its own Hong Kong protest game that lets you beat up activists                           \n",
       "2      Tim Cook says Apple made decision to remove Hong Kong protest app “unilaterally”                   \n",
       "3      Hong Kong bike sharing firm unlocks its bikes amid protests                                        \n",
       "4      A new Steam game lets you fight as a Hong Kong protester                                           \n",
       "...                                                         ...                                           \n",
       "20284  Hong Kong’s nano drone racers find space to fly in concrete jungle                                 \n",
       "20285  We tested a messaging app used by Hong Kong protesters that works without an internet connection   \n",
       "20286  Why are Hong Kong protesters targeting lamp posts?                                                 \n",
       "20287  Securing smartphones is now a priority for Hong Kong protesters                                    \n",
       "20288  How Hong Kong protesters are using Tinder and Pokémon Go                                           \n",
       "\n",
       "            Author                       Date  \\\n",
       "0      Josh Ye      2019-12-23T12:45:34+08:00   \n",
       "1      Josh Ye      2019-12-06T10:00:24+08:00   \n",
       "2      Karen Chiu   2019-11-21T16:27:58+08:00   \n",
       "3      Karen Chiu   2019-11-12T19:47:20+08:00   \n",
       "4      Josh Ye      2019-11-09T10:00:13+08:00   \n",
       "...        ...                            ...   \n",
       "20284  Karen Chiu   2018-05-15T19:15:45+08:00   \n",
       "20285  Masha Borak  2019-09-10T19:00:06+08:00   \n",
       "20286  Masha Borak  2019-08-30T09:33:06+08:00   \n",
       "20287  Masha Borak  2019-08-08T13:16:52+08:00   \n",
       "20288  Masha Borak  2019-08-06T09:20:28+08:00   \n",
       "\n",
       "                                                                                                                                                                                                                                                                                Summary  \\\n",
       "0                                                                                                                                                                                                                                                                                         \n",
       "1      After protesters turned to video game activism, a new web game lets players beat figures like Joshua Wong and Martin Lee with a flip-flop or baseball bat                                                                                                                          \n",
       "2      Apple CEO talks about business in China during a visit from Donald Trump to new Texas facility                                                                                                                                                                                     \n",
       "3      LocoBike says its shared bikes are free for students to take due to “system breakdown”                                                                                                                                                                                             \n",
       "4      Liberate Hong Kong was inspired by Blizzard’s Blitzchung controversy, and now it’s making Steam the next battleground for protesters                                                                                                                                               \n",
       "...                                                                                                                                     ...                                                                                                                                               \n",
       "20284  Finding space to fly a drone among Hong Kong's densely packed skyscrapers isn't easy. But that hasn't stopped the city's tight-knit community of racing enthusiasts. Watch our video to see what it's like to race through an indoor playground -- through the eyes of a drone.    \n",
       "20285  Bridgefy is a Bluetooth mesh network app trending in Hong Kong                                                                                                                                                                                                                     \n",
       "20286  Protesters tore down a smart lamp post and posted online what they found inside                                                                                                                                                                                                    \n",
       "20287                                                                                                                                                                                                                                                                                     \n",
       "20288                                                                                                                                                                                                                                                                                     \n",
       "\n",
       "                                                                                                                         Topic  \\\n",
       "0      Hong Kong protests,Gaming,Steam,Propaganda,Abacus - China Tech News                                                       \n",
       "1      Gaming,Hong Kong protests,Steam,Abacus - China Tech News                                                                  \n",
       "2      Apple,iPhone,Hong Kong protests,Apps,Cybersecurity,Abacus - China Tech News                                               \n",
       "3      Sharing economy,Apps,Hong Kong protests,Abacus - China Tech News                                                          \n",
       "4      Steam,Hong Kong protests,Gaming,Abacus - China Tech News                                                                  \n",
       "...                                                         ...                                                                  \n",
       "20284  Drones,Abacus - China Tech News                                                                                           \n",
       "20285  Trending,Apps,Hong Kong protests,Abacus - China Tech News                                                                 \n",
       "20286  Surveillance,Trending,Facial recognition,Privacy,Hong Kong extradition bill,Hong Kong protests,Abacus - China Tech News   \n",
       "20287  Cybersecurity,Trending,Abacus - China Tech News                                                                           \n",
       "20288  Trending,Hong Kong extradition bill,Hong Kong protests,Pokemon Go,Apple,Apps,Abacus - China Tech News                     \n",
       "\n",
       "                                                                                                                      Link  \n",
       "0      https://www.scmp.com/abacus/games/article/3043211/hong-kong-protesters-and-mainland-gamers-clash-grand-theft-auto-v  \n",
       "1      https://www.scmp.com/abacus/games/article/3040864/china-has-its-own-hong-kong-protest-game-lets-you-beat-activists   \n",
       "2      https://www.scmp.com/abacus/culture/article/3038759/tim-cook-says-apple-made-decision-remove-hong-kong-protest-app   \n",
       "3      https://www.scmp.com/abacus/news-bites/article/3037426/hong-kong-bike-sharing-firm-unlocks-its-bikes-amid-protests   \n",
       "4      https://www.scmp.com/abacus/games/article/3037019/new-steam-game-lets-you-fight-hong-kong-protester                  \n",
       "...                                                                                                    ...                  \n",
       "20284  https://www.scmp.com/abacus/tech/article/3028503/hong-kongs-nano-drone-racers-find-space-fly-concrete-jungle         \n",
       "20285  https://www.scmp.com/abacus/culture/article/3026527/we-tested-messaging-app-used-hong-kong-protesters-works-without  \n",
       "20286  https://www.scmp.com/abacus/culture/article/3024997/why-are-hong-kong-protesters-targeting-lamp-posts                \n",
       "20287  https://www.scmp.com/abacus/culture/article/3021937/securing-smartphones-now-priority-hong-kong-protesters           \n",
       "20288  https://www.scmp.com/abacus/culture/article/3021560/how-hong-kong-protesters-are-using-tinder-and-pokemon-go         \n",
       "\n",
       "[20289 rows x 6 columns]"
      ]
     },
     "execution_count": 15,
     "metadata": {},
     "output_type": "execute_result"
    }
   ],
   "source": [
    "df"
   ]
  }
 ],
 "metadata": {
  "kernelspec": {
   "display_name": "Python 3",
   "language": "python",
   "name": "python3"
  },
  "language_info": {
   "codemirror_mode": {
    "name": "ipython",
    "version": 3
   },
   "file_extension": ".py",
   "mimetype": "text/x-python",
   "name": "python",
   "nbconvert_exporter": "python",
   "pygments_lexer": "ipython3",
   "version": "3.7.6"
  }
 },
 "nbformat": 4,
 "nbformat_minor": 2
}
