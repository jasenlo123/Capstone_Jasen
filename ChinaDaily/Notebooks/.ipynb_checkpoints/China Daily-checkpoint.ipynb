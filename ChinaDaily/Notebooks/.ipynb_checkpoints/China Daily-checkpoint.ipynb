{
 "cells": [
  {
   "cell_type": "code",
   "execution_count": 8,
   "metadata": {},
   "outputs": [],
   "source": [
    "'''\n",
    "\n",
    "'''\n",
    "\n",
    "# The following packages will also be used in this tutorial\n",
    "import pandas as pd # All database operationss\n",
    "import numpy as np  # Numerical operations\n",
    "import time         # Tracking time\n",
    "import requests     # HTTP requests\n",
    "import urllib.request\n",
    "import re           # String manipulation\n",
    "import pickle\n",
    "from tqdm import trange, tqdm\n",
    "import matplotlib.pyplot as plt\n",
    "\n",
    "#web scraping with selenium\n",
    "from selenium import webdriver\n",
    "import chromedriver_binary  # Adds chromedriver binary to path\n",
    "from webdriver_manager.chrome import ChromeDriverManager\n",
    "from selenium.webdriver.common.by import By\n",
    "from selenium.webdriver.support.ui import WebDriverWait\n",
    "from selenium.webdriver.support import expected_conditions as EC\n",
    "from selenium.common.exceptions import TimeoutException\n",
    "\n",
    "#data cleaning\n",
    "from bs4 import BeautifulSoup\n",
    "from tqdm import tqdm"
   ]
  },
  {
   "cell_type": "code",
   "execution_count": 12,
   "metadata": {},
   "outputs": [
    {
     "name": "stderr",
     "output_type": "stream",
     "text": [
      "[WDM] - Current google-chrome version is 86.0.4240\n",
      "[WDM] - Get LATEST driver version for 86.0.4240\n",
      "[WDM] - Get LATEST driver version for 86.0.4240\n",
      "[WDM] - Trying to download new driver from http://chromedriver.storage.googleapis.com/86.0.4240.22/chromedriver_mac64.zip\n"
     ]
    },
    {
     "name": "stdout",
     "output_type": "stream",
     "text": [
      " \n"
     ]
    },
    {
     "name": "stderr",
     "output_type": "stream",
     "text": [
      "[WDM] - Driver has been saved in cache [/Users/jasenlo/.wdm/drivers/chromedriver/mac64/86.0.4240.22]\n"
     ]
    }
   ],
   "source": [
    "url = \"https://www.chinadailyhk.com/article/hong_kong/index.html\"\n",
    "\n",
    "driver = webdriver.Chrome(ChromeDriverManager().install())\n",
    "\n",
    "driver.get(url)\n",
    "\n"
   ]
  },
  {
   "cell_type": "code",
   "execution_count": 15,
   "metadata": {},
   "outputs": [
    {
     "name": "stdout",
     "output_type": "stream",
     "text": [
      "HTTPConnectionPool(host='127.0.0.1', port=52730): Max retries exceeded with url: /session/303f7aaceac36f9529d6b427e4fdd499/element (Caused by NewConnectionError('<urllib3.connection.HTTPConnection object at 0x11c1132d0>: Failed to establish a new connection: [Errno 61] Connection refused'))\n",
      "done lor.\n"
     ]
    }
   ],
   "source": [
    "while True:\n",
    "    try:\n",
    "        loadMoreButton = driver.find_element_by_class_name(\"loadingbox .btn-loading-my\")\n",
    "        time.sleep(2)\n",
    "        loadMoreButton.click()\n",
    "        time.sleep(5)\n",
    "    except Exception as e:\n",
    "        print(e)\n",
    "        break\n",
    "print(\"done lor.\")\n"
   ]
  },
  {
   "cell_type": "code",
   "execution_count": 14,
   "metadata": {},
   "outputs": [],
   "source": [
    "#time.sleep(10)\n",
    "driver.quit()"
   ]
  },
  {
   "cell_type": "markdown",
   "metadata": {},
   "source": [
    "# Data Cleaning"
   ]
  },
  {
   "cell_type": "code",
   "execution_count": 1,
   "metadata": {},
   "outputs": [
    {
     "name": "stdout",
     "output_type": "stream",
     "text": [
      "Hong Kong _ China Daily.htm   \u001b[1m\u001b[31mHong Kong _ China Daily_files\u001b[m\u001b[m\r\n"
     ]
    }
   ],
   "source": [
    "!LS ../Data/'China Daily'"
   ]
  },
  {
   "cell_type": "code",
   "execution_count": 2,
   "metadata": {},
   "outputs": [],
   "source": [
    "with open(\"../Data/China Daily/Hong Kong _ China Daily.htm\") as fp:\n",
    "    soup = BeautifulSoup(fp, \"html5lib\")\n"
   ]
  },
  {
   "cell_type": "code",
   "execution_count": 22,
   "metadata": {},
   "outputs": [
    {
     "name": "stderr",
     "output_type": "stream",
     "text": [
      "100%|██████████| 10740/10740 [00:01<00:00, 10196.34it/s]\n"
     ]
    }
   ],
   "source": [
    "mydivs = soup.findAll(\"div\", {\"class\": \"news-list-main\"})\n",
    "\n",
    "title = []\n",
    "link = []\n",
    "summary = []\n",
    "date = []\n",
    "\n",
    "for div in tqdm(mydivs):\n",
    "    \n",
    "    date.append(div.find(\"span\").text)\n",
    "    \n",
    "    title.append(div.find(\"a\").text)\n",
    "    \n",
    "    summary.append(div.find(\"p\").text)\n",
    "    \n",
    "    link.append(mydivs[0].find(\"a\")['href'])\n",
    "    \n",
    "    "
   ]
  },
  {
   "cell_type": "code",
   "execution_count": 23,
   "metadata": {},
   "outputs": [],
   "source": [
    "df = pd.DataFrame(list(zip(title, date, summary, link)), \n",
    "               columns =['Title', 'Date', 'Summary','Link']) "
   ]
  },
  {
   "cell_type": "code",
   "execution_count": 24,
   "metadata": {},
   "outputs": [
    {
     "data": {
      "text/html": [
       "<div>\n",
       "<style scoped>\n",
       "    .dataframe tbody tr th:only-of-type {\n",
       "        vertical-align: middle;\n",
       "    }\n",
       "\n",
       "    .dataframe tbody tr th {\n",
       "        vertical-align: top;\n",
       "    }\n",
       "\n",
       "    .dataframe thead th {\n",
       "        text-align: right;\n",
       "    }\n",
       "</style>\n",
       "<table border=\"1\" class=\"dataframe\">\n",
       "  <thead>\n",
       "    <tr style=\"text-align: right;\">\n",
       "      <th></th>\n",
       "      <th>Title</th>\n",
       "      <th>Date</th>\n",
       "      <th>Summary</th>\n",
       "      <th>Link</th>\n",
       "    </tr>\n",
       "  </thead>\n",
       "  <tbody>\n",
       "    <tr>\n",
       "      <th>0</th>\n",
       "      <td>ByteDance's  chief  rival  files  for  US$5  b...</td>\n",
       "      <td>November 06, 2020</td>\n",
       "      <td>Kuaishou  reported  revenue  climbed  48%  to ...</td>\n",
       "      <td>https://www.chinadailyhk.com/article/148580#By...</td>\n",
       "    </tr>\n",
       "    <tr>\n",
       "      <th>1</th>\n",
       "      <td>Hong  Kong  shares  down  0.18%  by  midday</td>\n",
       "      <td>November 06, 2020</td>\n",
       "      <td>Hong  Kong  stocks  lost  46.41  points,  or  ...</td>\n",
       "      <td>https://www.chinadailyhk.com/article/148580#By...</td>\n",
       "    </tr>\n",
       "    <tr>\n",
       "      <th>2</th>\n",
       "      <td>Infrastructure  paves  the  way  to  glory</td>\n",
       "      <td>November 06, 2020</td>\n",
       "      <td>​Legendary  builder  Gordon  Wu  Ying-sheung  ...</td>\n",
       "      <td>https://www.chinadailyhk.com/article/148580#By...</td>\n",
       "    </tr>\n",
       "    <tr>\n",
       "      <th>3</th>\n",
       "      <td>Blended  learning  the  way  ahead</td>\n",
       "      <td>November 06, 2020</td>\n",
       "      <td>Education  experts  are  adamant  that  educat...</td>\n",
       "      <td>https://www.chinadailyhk.com/article/148580#By...</td>\n",
       "    </tr>\n",
       "    <tr>\n",
       "      <th>4</th>\n",
       "      <td>Hong  Kong  at  the  front  in  driving  digit...</td>\n",
       "      <td>November 06, 2020</td>\n",
       "      <td>​The  visionary  digital  yuan  project  offer...</td>\n",
       "      <td>https://www.chinadailyhk.com/article/148580#By...</td>\n",
       "    </tr>\n",
       "    <tr>\n",
       "      <th>...</th>\n",
       "      <td>...</td>\n",
       "      <td>...</td>\n",
       "      <td>...</td>\n",
       "      <td>...</td>\n",
       "    </tr>\n",
       "    <tr>\n",
       "      <th>10735</th>\n",
       "      <td>Hong  Kong  stocks  top  28,000  points  on  m...</td>\n",
       "      <td>August 30, 2017</td>\n",
       "      <td>The  Hang  Seng  index  rose  1.2  percent,  t...</td>\n",
       "      <td>https://www.chinadailyhk.com/article/148580#By...</td>\n",
       "    </tr>\n",
       "    <tr>\n",
       "      <th>10736</th>\n",
       "      <td>Task  force  to  tackle  land  supply  shortage</td>\n",
       "      <td>August 30, 2017</td>\n",
       "      <td>The  30-strong  team  will  launch  broad  con...</td>\n",
       "      <td>https://www.chinadailyhk.com/article/148580#By...</td>\n",
       "    </tr>\n",
       "    <tr>\n",
       "      <th>10737</th>\n",
       "      <td>CE:  Protecting  dignity  of  national  anthem...</td>\n",
       "      <td>August 30, 2017</td>\n",
       "      <td>Chief  Executive  Carrie  Lam  Cheng  Yuet-ngo...</td>\n",
       "      <td>https://www.chinadailyhk.com/article/148580#By...</td>\n",
       "    </tr>\n",
       "    <tr>\n",
       "      <th>10738</th>\n",
       "      <td>Survey  finds  half  HK  secondary  students  ...</td>\n",
       "      <td>August 29, 2017</td>\n",
       "      <td>Researchers  say  loneliness  and  anxiety  ar...</td>\n",
       "      <td>https://www.chinadailyhk.com/article/148580#By...</td>\n",
       "    </tr>\n",
       "    <tr>\n",
       "      <th>10739</th>\n",
       "      <td>GoGoVan-58  Suyun  tie-up  creates  HK's  firs...</td>\n",
       "      <td>August 29, 2017</td>\n",
       "      <td>The  merger  takes  GoGoVan's  valuation  past...</td>\n",
       "      <td>https://www.chinadailyhk.com/article/148580#By...</td>\n",
       "    </tr>\n",
       "  </tbody>\n",
       "</table>\n",
       "<p>10740 rows × 4 columns</p>\n",
       "</div>"
      ],
      "text/plain": [
       "                                                   Title               Date  \\\n",
       "0      ByteDance's  chief  rival  files  for  US$5  b...  November 06, 2020   \n",
       "1            Hong  Kong  shares  down  0.18%  by  midday  November 06, 2020   \n",
       "2             Infrastructure  paves  the  way  to  glory  November 06, 2020   \n",
       "3                     Blended  learning  the  way  ahead  November 06, 2020   \n",
       "4      Hong  Kong  at  the  front  in  driving  digit...  November 06, 2020   \n",
       "...                                                  ...                ...   \n",
       "10735  Hong  Kong  stocks  top  28,000  points  on  m...    August 30, 2017   \n",
       "10736    Task  force  to  tackle  land  supply  shortage    August 30, 2017   \n",
       "10737  CE:  Protecting  dignity  of  national  anthem...    August 30, 2017   \n",
       "10738  Survey  finds  half  HK  secondary  students  ...    August 29, 2017   \n",
       "10739  GoGoVan-58  Suyun  tie-up  creates  HK's  firs...    August 29, 2017   \n",
       "\n",
       "                                                 Summary  \\\n",
       "0      Kuaishou  reported  revenue  climbed  48%  to ...   \n",
       "1      Hong  Kong  stocks  lost  46.41  points,  or  ...   \n",
       "2      ​Legendary  builder  Gordon  Wu  Ying-sheung  ...   \n",
       "3      Education  experts  are  adamant  that  educat...   \n",
       "4      ​The  visionary  digital  yuan  project  offer...   \n",
       "...                                                  ...   \n",
       "10735  The  Hang  Seng  index  rose  1.2  percent,  t...   \n",
       "10736  The  30-strong  team  will  launch  broad  con...   \n",
       "10737  Chief  Executive  Carrie  Lam  Cheng  Yuet-ngo...   \n",
       "10738  Researchers  say  loneliness  and  anxiety  ar...   \n",
       "10739  The  merger  takes  GoGoVan's  valuation  past...   \n",
       "\n",
       "                                                    Link  \n",
       "0      https://www.chinadailyhk.com/article/148580#By...  \n",
       "1      https://www.chinadailyhk.com/article/148580#By...  \n",
       "2      https://www.chinadailyhk.com/article/148580#By...  \n",
       "3      https://www.chinadailyhk.com/article/148580#By...  \n",
       "4      https://www.chinadailyhk.com/article/148580#By...  \n",
       "...                                                  ...  \n",
       "10735  https://www.chinadailyhk.com/article/148580#By...  \n",
       "10736  https://www.chinadailyhk.com/article/148580#By...  \n",
       "10737  https://www.chinadailyhk.com/article/148580#By...  \n",
       "10738  https://www.chinadailyhk.com/article/148580#By...  \n",
       "10739  https://www.chinadailyhk.com/article/148580#By...  \n",
       "\n",
       "[10740 rows x 4 columns]"
      ]
     },
     "execution_count": 24,
     "metadata": {},
     "output_type": "execute_result"
    }
   ],
   "source": [
    "with open('/Users/jasenlo/Capstone!/headlines.pkl', 'rb') as f:\n",
    "    p = pickle.load(f)"
   ]
  },
  {
   "cell_type": "code",
   "execution_count": 4,
   "metadata": {},
   "outputs": [
    {
     "name": "stdout",
     "output_type": "stream",
     "text": [
      "ChinaDailyDF.pkl\r\n"
     ]
    }
   ],
   "source": [
    "ls ../Pickles/"
   ]
  },
  {
   "cell_type": "code",
   "execution_count": null,
   "metadata": {},
   "outputs": [],
   "source": []
  }
 ],
 "metadata": {
  "kernelspec": {
   "display_name": "Python 3",
   "language": "python",
   "name": "python3"
  },
  "language_info": {
   "codemirror_mode": {
    "name": "ipython",
    "version": 3
   },
   "file_extension": ".py",
   "mimetype": "text/x-python",
   "name": "python",
   "nbconvert_exporter": "python",
   "pygments_lexer": "ipython3",
   "version": "3.7.6"
  }
 },
 "nbformat": 4,
 "nbformat_minor": 4
}
