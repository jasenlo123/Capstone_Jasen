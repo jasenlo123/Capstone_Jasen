{
 "cells": [
  {
   "cell_type": "code",
   "execution_count": 1,
   "metadata": {},
   "outputs": [
    {
     "name": "stderr",
     "output_type": "stream",
     "text": [
      "/opt/anaconda3/lib/python3.7/site-packages/ipykernel_launcher.py:5: FutureWarning: Passing a negative integer is deprecated in version 1.0 and will not be supported in future version. Instead, use None to not limit the column width.\n",
      "  \"\"\"\n"
     ]
    }
   ],
   "source": [
    "import pandas as pd\n",
    "\n",
    "#for saving and loading objects\n",
    "import pickle\n",
    "pd.set_option('display.max_colwidth', -1)\n"
   ]
  },
  {
   "cell_type": "markdown",
   "metadata": {},
   "source": [
    "# Create Train/Test Data (Hkfp + ChinaDaily)"
   ]
  },
  {
   "cell_type": "code",
   "execution_count": 3,
   "metadata": {},
   "outputs": [],
   "source": [
    "with open('../../ChinaDaily/Pickles/ChinaDailyDF.pkl', 'rb') as f:\n",
    "    ChinaDailyDf = pickle.load(f)\n",
    "\n",
    "ChinaDailyDf = ChinaDailyDf.dropna()  \n",
    "ChinaDailyDf = ChinaDailyDf.drop_duplicates()\n",
    "ChinaDailyDf['Title']  = ChinaDailyDf['Title'] + \". \" + ChinaDailyDf['Summary']\n",
    "ChinaDailyDf = ChinaDailyDf.drop(['Date','Summary','Link'], 1)\n",
    "\n",
    "ChinaDailyDf['Class'] = 0\n",
    "    \n",
    "with open('../../HKFP/Pickles/HKFP_News_Full_Clean.pkl', 'rb') as f:\n",
    "    HkfpDF = pickle.load(f)\n",
    "    \n",
    "HkfpDF = HkfpDF.dropna()   \n",
    "HkfpDF = HkfpDF.drop_duplicates()\n",
    "HkfpDF = HkfpDF.drop(['Date','Link','Author'], 1)\n",
    "HkfpDF['Class'] = 1"
   ]
  },
  {
   "cell_type": "code",
   "execution_count": 4,
   "metadata": {},
   "outputs": [],
   "source": [
    "FullDf = pd.concat([HkfpDF, ChinaDailyDf ])\n",
    "FullDf = FullDf.reset_index(drop=True)\n"
   ]
  },
  {
   "cell_type": "code",
   "execution_count": 9,
   "metadata": {},
   "outputs": [],
   "source": [
    "#clean standardise\n",
    "FullDf['Title'] = FullDf['Title'].replace({'gov’t': 'government'}, regex=True)\n",
    "FullDf['Title'] = FullDf['Title'].replace({'govt': 'government'}, regex=True)\n",
    "FullDf['Title'] = FullDf['Title'].replace({'HK': 'Hong Kong'}, regex=True)\n",
    "\n"
   ]
  },
  {
   "cell_type": "code",
   "execution_count": 17,
   "metadata": {},
   "outputs": [],
   "source": [
    "FullDf[13000:]\n",
    "\n",
    "FullDf.to_csv('../Data/train_test_val_data.csv',index=False)"
   ]
  },
  {
   "cell_type": "markdown",
   "metadata": {},
   "source": [
    "# Create SCMP Data"
   ]
  },
  {
   "cell_type": "code",
   "execution_count": 20,
   "metadata": {},
   "outputs": [
    {
     "data": {
      "text/html": [
       "<div>\n",
       "<style scoped>\n",
       "    .dataframe tbody tr th:only-of-type {\n",
       "        vertical-align: middle;\n",
       "    }\n",
       "\n",
       "    .dataframe tbody tr th {\n",
       "        vertical-align: top;\n",
       "    }\n",
       "\n",
       "    .dataframe thead th {\n",
       "        text-align: right;\n",
       "    }\n",
       "</style>\n",
       "<table border=\"1\" class=\"dataframe\">\n",
       "  <thead>\n",
       "    <tr style=\"text-align: right;\">\n",
       "      <th></th>\n",
       "      <th>Title</th>\n",
       "    </tr>\n",
       "  </thead>\n",
       "  <tbody>\n",
       "    <tr>\n",
       "      <th>0</th>\n",
       "      <td>Play to our strength</td>\n",
       "    </tr>\n",
       "    <tr>\n",
       "      <th>1</th>\n",
       "      <td>Hong Kong leader Leung must focus on building team as controversies mount</td>\n",
       "    </tr>\n",
       "    <tr>\n",
       "      <th>2</th>\n",
       "      <td>Loh a curious choice for government role but could make an impact in office</td>\n",
       "    </tr>\n",
       "    <tr>\n",
       "      <th>3</th>\n",
       "      <td>Hong Kong policeman Andy Naylor dies in water at Ironman triathlon in New York</td>\n",
       "    </tr>\n",
       "    <tr>\n",
       "      <th>4</th>\n",
       "      <td>Why so glum? Hongkongers need to savour city's success</td>\n",
       "    </tr>\n",
       "    <tr>\n",
       "      <th>...</th>\n",
       "      <td>...</td>\n",
       "    </tr>\n",
       "    <tr>\n",
       "      <th>92246</th>\n",
       "      <td>Hong Kong police inspector arrested on suspicion of stealing colleagues’ tactical helmets, abalone</td>\n",
       "    </tr>\n",
       "    <tr>\n",
       "      <th>92247</th>\n",
       "      <td>Mandatory Covid-19 testing for ‘high-risk’ groups in Hong Kong gets nod, those who ignore orders face jail, fines</td>\n",
       "    </tr>\n",
       "    <tr>\n",
       "      <th>92248</th>\n",
       "      <td>Pope Francis said to be in final stage of selecting new Hong Kong bishop</td>\n",
       "    </tr>\n",
       "    <tr>\n",
       "      <th>92249</th>\n",
       "      <td>Hong Kong’s controversial national security law tip line gets 10,000 messages in first week of operation</td>\n",
       "    </tr>\n",
       "    <tr>\n",
       "      <th>92250</th>\n",
       "      <td>Mandatory Covid-19 testing for ‘high-risk’ groups in Hong Kong gets nod, those who ignore orders face jail, fines</td>\n",
       "    </tr>\n",
       "  </tbody>\n",
       "</table>\n",
       "<p>92251 rows × 1 columns</p>\n",
       "</div>"
      ],
      "text/plain": [
       "                                                                                                                   Title\n",
       "0      Play to our strength                                                                                             \n",
       "1      Hong Kong leader Leung must focus on building team as controversies mount                                        \n",
       "2      Loh a curious choice for government role but could make an impact in office                                      \n",
       "3      Hong Kong policeman Andy Naylor dies in water at Ironman triathlon in New York                                   \n",
       "4      Why so glum? Hongkongers need to savour city's success                                                           \n",
       "...                                                       ...                                                           \n",
       "92246  Hong Kong police inspector arrested on suspicion of stealing colleagues’ tactical helmets, abalone               \n",
       "92247  Mandatory Covid-19 testing for ‘high-risk’ groups in Hong Kong gets nod, those who ignore orders face jail, fines\n",
       "92248  Pope Francis said to be in final stage of selecting new Hong Kong bishop                                         \n",
       "92249  Hong Kong’s controversial national security law tip line gets 10,000 messages in first week of operation         \n",
       "92250  Mandatory Covid-19 testing for ‘high-risk’ groups in Hong Kong gets nod, those who ignore orders face jail, fines\n",
       "\n",
       "[92251 rows x 1 columns]"
      ]
     },
     "execution_count": 20,
     "metadata": {},
     "output_type": "execute_result"
    }
   ],
   "source": [
    "with open('../../SCMP/Pickles/SCMP_News_Full.pkl', 'rb') as f:\n",
    "    ScmpDf = pickle.load(f)\n",
    "    \n",
    "    \n",
    "    \n",
    "ScmpDf = ScmpDf.dropna()   \n",
    "ScmpDf = ScmpDf.drop_duplicates()\n",
    "ScmpDf['Title'] = ScmpDf['Title'].replace({'gov’t': 'government'}, regex=True)\n",
    "ScmpDf['Title'] = ScmpDf['Title'].replace({'govt': 'government'}, regex=True)\n",
    "ScmpDf['Title'] = ScmpDf['Title'].replace({'HK': 'Hong Kong'}, regex=True)\n",
    "\n",
    "ScmpDf = ScmpDf.drop(['Date','Link','Author','Topic','Summary'], 1)\n",
    "ScmpDf"
   ]
  },
  {
   "cell_type": "code",
   "execution_count": 8,
   "metadata": {},
   "outputs": [],
   "source": [
    "ScmpDf.to_csv('../Data/scmp_data.csv',index=False)"
   ]
  },
  {
   "cell_type": "markdown",
   "metadata": {},
   "source": [
    "# Compile Opinion Data"
   ]
  },
  {
   "cell_type": "code",
   "execution_count": 14,
   "metadata": {},
   "outputs": [
    {
     "data": {
      "text/html": [
       "<div>\n",
       "<style scoped>\n",
       "    .dataframe tbody tr th:only-of-type {\n",
       "        vertical-align: middle;\n",
       "    }\n",
       "\n",
       "    .dataframe tbody tr th {\n",
       "        vertical-align: top;\n",
       "    }\n",
       "\n",
       "    .dataframe thead th {\n",
       "        text-align: right;\n",
       "    }\n",
       "</style>\n",
       "<table border=\"1\" class=\"dataframe\">\n",
       "  <thead>\n",
       "    <tr style=\"text-align: right;\">\n",
       "      <th></th>\n",
       "      <th>Title</th>\n",
       "      <th>Author</th>\n",
       "    </tr>\n",
       "  </thead>\n",
       "  <tbody>\n",
       "    <tr>\n",
       "      <th>0</th>\n",
       "      <td>A victory for Malaysia’s judicial independence...</td>\n",
       "      <td>SCMP Editorial</td>\n",
       "    </tr>\n",
       "    <tr>\n",
       "      <th>1</th>\n",
       "      <td>Sensible policies are needed to win the war on...</td>\n",
       "      <td>SCMP Editorial</td>\n",
       "    </tr>\n",
       "    <tr>\n",
       "      <th>2</th>\n",
       "      <td>Mainland and overseas Chinese may be worlds ap...</td>\n",
       "      <td>Alex Lo</td>\n",
       "    </tr>\n",
       "    <tr>\n",
       "      <th>3</th>\n",
       "      <td>Food for thought as rules to curb pandemic hur...</td>\n",
       "      <td>SCMP Editorial</td>\n",
       "    </tr>\n",
       "    <tr>\n",
       "      <th>4</th>\n",
       "      <td>University challenge: HKU must work to restore...</td>\n",
       "      <td>SCMP Editorial</td>\n",
       "    </tr>\n",
       "    <tr>\n",
       "      <th>...</th>\n",
       "      <td>...</td>\n",
       "      <td>...</td>\n",
       "    </tr>\n",
       "    <tr>\n",
       "      <th>6461</th>\n",
       "      <td>South Korea’s Moon Jae-in may be the biggest l...</td>\n",
       "      <td>Donald Kirk</td>\n",
       "    </tr>\n",
       "    <tr>\n",
       "      <th>6462</th>\n",
       "      <td>Realignment of tunnel tolls is long overdue. L...</td>\n",
       "      <td>SCMP Editorial</td>\n",
       "    </tr>\n",
       "    <tr>\n",
       "      <th>6463</th>\n",
       "      <td>End of an era: Hong Kong steps down as the fac...</td>\n",
       "      <td>Peter Guy</td>\n",
       "    </tr>\n",
       "    <tr>\n",
       "      <th>6464</th>\n",
       "      <td>Forget air quality and public health, the Hong...</td>\n",
       "      <td>Loong Tsz-wai</td>\n",
       "    </tr>\n",
       "    <tr>\n",
       "      <th>6465</th>\n",
       "      <td>MTR may be on the right lines with public flat...</td>\n",
       "      <td>Alex Lo</td>\n",
       "    </tr>\n",
       "  </tbody>\n",
       "</table>\n",
       "<p>6466 rows × 2 columns</p>\n",
       "</div>"
      ],
      "text/plain": [
       "                                                  Title          Author\n",
       "0     A victory for Malaysia’s judicial independence...  SCMP Editorial\n",
       "1     Sensible policies are needed to win the war on...  SCMP Editorial\n",
       "2     Mainland and overseas Chinese may be worlds ap...         Alex Lo\n",
       "3     Food for thought as rules to curb pandemic hur...  SCMP Editorial\n",
       "4     University challenge: HKU must work to restore...  SCMP Editorial\n",
       "...                                                 ...             ...\n",
       "6461  South Korea’s Moon Jae-in may be the biggest l...     Donald Kirk\n",
       "6462  Realignment of tunnel tolls is long overdue. L...  SCMP Editorial\n",
       "6463  End of an era: Hong Kong steps down as the fac...       Peter Guy\n",
       "6464  Forget air quality and public health, the Hong...   Loong Tsz-wai\n",
       "6465  MTR may be on the right lines with public flat...         Alex Lo\n",
       "\n",
       "[6466 rows x 2 columns]"
      ]
     },
     "execution_count": 14,
     "metadata": {},
     "output_type": "execute_result"
    }
   ],
   "source": [
    "with open('../../SCMP/Pickles/SCMP_Opinions.pkl', 'rb') as f:\n",
    "    Scmp_Opinion_Df = pickle.load(f)\n",
    "    \n",
    "Scmp_Opinion_Df = Scmp_Opinion_Df.dropna()   \n",
    "Scmp_Opinion_Df = Scmp_Opinion_Df.drop_duplicates()\n",
    "#ScmpDf = ScmpDf[~ScmpDf.Topic.str.contains('|'.join(['Hong Kong']))]\n",
    "Scmp_Opinion_Df['Title']  = Scmp_Opinion_Df['Title'] + \". \" + Scmp_Opinion_Df['Summary']\n",
    "Scmp_Opinion_Df = Scmp_Opinion_Df.drop(['Date','Link','Summary'], 1)\n",
    "Scmp_Opinion_Df  = Scmp_Opinion_Df.reset_index(drop=True)\n",
    "Scmp_Opinion_Df"
   ]
  },
  {
   "cell_type": "code",
   "execution_count": 17,
   "metadata": {},
   "outputs": [],
   "source": [
    "Scmp_Opinion_Df.to_csv('../Data/scmp_opinion_data.csv',index=False)"
   ]
  },
  {
   "cell_type": "code",
   "execution_count": 16,
   "metadata": {},
   "outputs": [
    {
     "data": {
      "text/plain": [
       "'A victory for Malaysia’s judicial independence. Whatever the political fallout from the conviction and jailing of former prime minister Najib Razak, the country’s courts deserve a pat on the back.'"
      ]
     },
     "execution_count": 16,
     "metadata": {},
     "output_type": "execute_result"
    }
   ],
   "source": [
    "Scmp_Opinion_Df.Title[0]"
   ]
  },
  {
   "cell_type": "code",
   "execution_count": 6,
   "metadata": {},
   "outputs": [
    {
     "name": "stdout",
     "output_type": "stream",
     "text": [
      "SCMP_News20000.pkl       SCMP_News_Sample_DF.pkl  ScmpDF.pkl\r\n",
      "SCMP_News26000.pkl       SCMP_Opinion_URLS.p\r\n",
      "SCMP_News30000.pkl       SCMP_Opinions.pkl\r\n"
     ]
    }
   ],
   "source": [
    "ls '../../SCMP/Pickles'"
   ]
  },
  {
   "cell_type": "code",
   "execution_count": null,
   "metadata": {},
   "outputs": [],
   "source": []
  }
 ],
 "metadata": {
  "kernelspec": {
   "display_name": "Python 3",
   "language": "python",
   "name": "python3"
  },
  "language_info": {
   "codemirror_mode": {
    "name": "ipython",
    "version": 3
   },
   "file_extension": ".py",
   "mimetype": "text/x-python",
   "name": "python",
   "nbconvert_exporter": "python",
   "pygments_lexer": "ipython3",
   "version": "3.7.6"
  }
 },
 "nbformat": 4,
 "nbformat_minor": 4
}
