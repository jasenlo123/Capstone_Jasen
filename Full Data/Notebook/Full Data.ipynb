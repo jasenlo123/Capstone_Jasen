{
 "cells": [
  {
   "cell_type": "code",
   "execution_count": 2,
   "metadata": {},
   "outputs": [],
   "source": [
    "import pandas as pd\n",
    "\n",
    "#for saving and loading objects\n",
    "import pickle"
   ]
  },
  {
   "cell_type": "markdown",
   "metadata": {},
   "source": [
    "# Create Train/Test Data (Hkfp + ChinaDaily)"
   ]
  },
  {
   "cell_type": "code",
   "execution_count": 12,
   "metadata": {},
   "outputs": [],
   "source": [
    "with open('../../ChinaDaily/Pickles/ChinaDailyDF.pkl', 'rb') as f:\n",
    "    ChinaDailyDf = pickle.load(f)\n",
    "\n",
    "ChinaDailyDf = ChinaDailyDf.dropna()   \n",
    "ChinaDailyDf['Title']  = ChinaDailyDf['Title'] + \". \" + ChinaDailyDf['Summary']\n",
    "ChinaDailyDf = ChinaDailyDf.drop(['Date','Summary','Link'], 1)\n",
    "\n",
    "ChinaDailyDf = ChinaDailyDf.sample(2000,replace = False) \n",
    "ChinaDailyDf['Class'] = 0\n",
    "    \n",
    "with open('../../HKFP/Pickles/HkfpDF.pkl', 'rb') as f:\n",
    "    HkfpDF = pickle.load(f)\n",
    "    \n",
    "HkfpDF = HkfpDF.dropna()   \n",
    "HkfpDF = HkfpDF.drop(['Date','Summary','Link','Author'], 1)\n",
    "HkfpDF['Class'] = 1"
   ]
  },
  {
   "cell_type": "code",
   "execution_count": 13,
   "metadata": {},
   "outputs": [],
   "source": [
    "FullDf = pd.concat([HkfpDF, ChinaDailyDf ])\n",
    "FullDf = FullDf.reset_index(drop=True)\n",
    "FullDf.to_csv('../Data/train_test_val_data.csv',index=False)"
   ]
  },
  {
   "cell_type": "markdown",
   "metadata": {},
   "source": [
    "# Create SCMP Data"
   ]
  },
  {
   "cell_type": "code",
   "execution_count": 15,
   "metadata": {},
   "outputs": [
    {
     "data": {
      "text/html": [
       "<div>\n",
       "<style scoped>\n",
       "    .dataframe tbody tr th:only-of-type {\n",
       "        vertical-align: middle;\n",
       "    }\n",
       "\n",
       "    .dataframe tbody tr th {\n",
       "        vertical-align: top;\n",
       "    }\n",
       "\n",
       "    .dataframe thead th {\n",
       "        text-align: right;\n",
       "    }\n",
       "</style>\n",
       "<table border=\"1\" class=\"dataframe\">\n",
       "  <thead>\n",
       "    <tr style=\"text-align: right;\">\n",
       "      <th></th>\n",
       "      <th>Title</th>\n",
       "      <th>Summary</th>\n",
       "    </tr>\n",
       "  </thead>\n",
       "  <tbody>\n",
       "    <tr>\n",
       "      <th>8</th>\n",
       "      <td>HBO’s Watchmen reminds Chinese viewers of Hong...</td>\n",
       "      <td>Like Joker, Watchmen is drawing comparisons to...</td>\n",
       "    </tr>\n",
       "    <tr>\n",
       "      <th>10</th>\n",
       "      <td>No regrets, says esports player banned for Hon...</td>\n",
       "      <td>Hong Kong player Blitzchung banned for a year ...</td>\n",
       "    </tr>\n",
       "    <tr>\n",
       "      <th>12</th>\n",
       "      <td>Nationalists hopping the Great Firewall to att...</td>\n",
       "      <td>CCTV praises patriotic netizens on Facebook an...</td>\n",
       "    </tr>\n",
       "    <tr>\n",
       "      <th>13</th>\n",
       "      <td>Apple’s AirDrop, a key tool for Hong Kong prot...</td>\n",
       "      <td>Chinese smartphone rivals Xiaomi, Oppo and Viv...</td>\n",
       "    </tr>\n",
       "    <tr>\n",
       "      <th>14</th>\n",
       "      <td>Twitter users call for Mulan boycott over actr...</td>\n",
       "      <td>Mulan lead actress Liu Yifei reposted a meme e...</td>\n",
       "    </tr>\n",
       "    <tr>\n",
       "      <th>...</th>\n",
       "      <td>...</td>\n",
       "      <td>...</td>\n",
       "    </tr>\n",
       "    <tr>\n",
       "      <th>20281</th>\n",
       "      <td>CS: GO in China will soon sound like a Hong Ko...</td>\n",
       "      <td>Donnie Yen, Daniel Wu, Andy Lau and Stephen Ch...</td>\n",
       "    </tr>\n",
       "    <tr>\n",
       "      <th>20282</th>\n",
       "      <td>Hong Kong’s PUBG teams on their way to competi...</td>\n",
       "      <td>GDE and HK9 share what it takes to get into th...</td>\n",
       "    </tr>\n",
       "    <tr>\n",
       "      <th>20283</th>\n",
       "      <td>Hong Kong embraces battle royale fever with PU...</td>\n",
       "      <td>It’s a rare chance for aspiring local players ...</td>\n",
       "    </tr>\n",
       "    <tr>\n",
       "      <th>20284</th>\n",
       "      <td>Hong Kong’s nano drone racers find space to fl...</td>\n",
       "      <td>Finding space to fly a drone among Hong Kong's...</td>\n",
       "    </tr>\n",
       "    <tr>\n",
       "      <th>20287</th>\n",
       "      <td>Securing smartphones is now a priority for Hon...</td>\n",
       "      <td></td>\n",
       "    </tr>\n",
       "  </tbody>\n",
       "</table>\n",
       "<p>4843 rows × 2 columns</p>\n",
       "</div>"
      ],
      "text/plain": [
       "                                                   Title  \\\n",
       "8      HBO’s Watchmen reminds Chinese viewers of Hong...   \n",
       "10     No regrets, says esports player banned for Hon...   \n",
       "12     Nationalists hopping the Great Firewall to att...   \n",
       "13     Apple’s AirDrop, a key tool for Hong Kong prot...   \n",
       "14     Twitter users call for Mulan boycott over actr...   \n",
       "...                                                  ...   \n",
       "20281  CS: GO in China will soon sound like a Hong Ko...   \n",
       "20282  Hong Kong’s PUBG teams on their way to competi...   \n",
       "20283  Hong Kong embraces battle royale fever with PU...   \n",
       "20284  Hong Kong’s nano drone racers find space to fl...   \n",
       "20287  Securing smartphones is now a priority for Hon...   \n",
       "\n",
       "                                                 Summary  \n",
       "8      Like Joker, Watchmen is drawing comparisons to...  \n",
       "10     Hong Kong player Blitzchung banned for a year ...  \n",
       "12     CCTV praises patriotic netizens on Facebook an...  \n",
       "13     Chinese smartphone rivals Xiaomi, Oppo and Viv...  \n",
       "14     Mulan lead actress Liu Yifei reposted a meme e...  \n",
       "...                                                  ...  \n",
       "20281  Donnie Yen, Daniel Wu, Andy Lau and Stephen Ch...  \n",
       "20282  GDE and HK9 share what it takes to get into th...  \n",
       "20283  It’s a rare chance for aspiring local players ...  \n",
       "20284  Finding space to fly a drone among Hong Kong's...  \n",
       "20287                                                     \n",
       "\n",
       "[4843 rows x 2 columns]"
      ]
     },
     "execution_count": 15,
     "metadata": {},
     "output_type": "execute_result"
    }
   ],
   "source": [
    "with open('../../SCMP/Pickles/ScmpDF.pkl', 'rb') as f:\n",
    "    ScmpDf = pickle.load(f)\n",
    "    \n",
    "ScmpDf = ScmpDf[~ScmpDf.Topic.str.contains('|'.join(['Hong Kong']))]\n",
    "ScmpDf = ScmpDf.drop(['Date','Link','Author','Topic'], 1)\n",
    "ScmpDf"
   ]
  },
  {
   "cell_type": "code",
   "execution_count": 16,
   "metadata": {},
   "outputs": [],
   "source": [
    "ScmpDf.to_csv('../Data/scmp_data.csv',index=False)"
   ]
  },
  {
   "cell_type": "code",
   "execution_count": null,
   "metadata": {},
   "outputs": [],
   "source": []
  }
 ],
 "metadata": {
  "kernelspec": {
   "display_name": "Python 3",
   "language": "python",
   "name": "python3"
  },
  "language_info": {
   "codemirror_mode": {
    "name": "ipython",
    "version": 3
   },
   "file_extension": ".py",
   "mimetype": "text/x-python",
   "name": "python",
   "nbconvert_exporter": "python",
   "pygments_lexer": "ipython3",
   "version": "3.7.6"
  }
 },
 "nbformat": 4,
 "nbformat_minor": 4
}
