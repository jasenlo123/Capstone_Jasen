{
 "cells": [
  {
   "cell_type": "code",
   "execution_count": 1,
   "metadata": {},
   "outputs": [],
   "source": [
    "import pandas as pd\n",
    "\n",
    "#for saving and loading objects\n",
    "import pickle"
   ]
  },
  {
   "cell_type": "code",
   "execution_count": 5,
   "metadata": {},
   "outputs": [
    {
     "name": "stdout",
     "output_type": "stream",
     "text": [
      "ChinaDailyDF.pkl\r\n"
     ]
    }
   ],
   "source": [
    "ls ../../ChinaDaily/Pickles"
   ]
  },
  {
   "cell_type": "markdown",
   "metadata": {},
   "source": [
    "# Create Train/Test Data (Hkfp + ChinaDaily)"
   ]
  },
  {
   "cell_type": "code",
   "execution_count": 7,
   "metadata": {},
   "outputs": [],
   "source": [
    "with open('../../ChinaDaily/Pickles/ChinaDailyDF.pkl', 'rb') as f:\n",
    "    ChinaDailyDf = pickle.load(f)\n",
    "    \n",
    "with open('../../HKFP/Pickles/HkfpDF.pkl', 'rb') as f:\n",
    "    HkfpDF = pickle.load(f)"
   ]
  },
  {
   "cell_type": "code",
   "execution_count": 8,
   "metadata": {},
   "outputs": [
    {
     "data": {
      "text/html": [
       "<div>\n",
       "<style scoped>\n",
       "    .dataframe tbody tr th:only-of-type {\n",
       "        vertical-align: middle;\n",
       "    }\n",
       "\n",
       "    .dataframe tbody tr th {\n",
       "        vertical-align: top;\n",
       "    }\n",
       "\n",
       "    .dataframe thead th {\n",
       "        text-align: right;\n",
       "    }\n",
       "</style>\n",
       "<table border=\"1\" class=\"dataframe\">\n",
       "  <thead>\n",
       "    <tr style=\"text-align: right;\">\n",
       "      <th></th>\n",
       "      <th>Title</th>\n",
       "      <th>Date</th>\n",
       "      <th>Summary</th>\n",
       "      <th>Link</th>\n",
       "    </tr>\n",
       "  </thead>\n",
       "  <tbody>\n",
       "    <tr>\n",
       "      <th>0</th>\n",
       "      <td>ByteDance's  chief  rival  files  for  US$5  b...</td>\n",
       "      <td>November 06, 2020</td>\n",
       "      <td>Kuaishou  reported  revenue  climbed  48%  to ...</td>\n",
       "      <td>https://www.chinadailyhk.com/article/148580#By...</td>\n",
       "    </tr>\n",
       "    <tr>\n",
       "      <th>1</th>\n",
       "      <td>Hong  Kong  shares  down  0.18%  by  midday</td>\n",
       "      <td>November 06, 2020</td>\n",
       "      <td>Hong  Kong  stocks  lost  46.41  points,  or  ...</td>\n",
       "      <td>https://www.chinadailyhk.com/article/148580#By...</td>\n",
       "    </tr>\n",
       "    <tr>\n",
       "      <th>2</th>\n",
       "      <td>Infrastructure  paves  the  way  to  glory</td>\n",
       "      <td>November 06, 2020</td>\n",
       "      <td>​Legendary  builder  Gordon  Wu  Ying-sheung  ...</td>\n",
       "      <td>https://www.chinadailyhk.com/article/148580#By...</td>\n",
       "    </tr>\n",
       "    <tr>\n",
       "      <th>3</th>\n",
       "      <td>Blended  learning  the  way  ahead</td>\n",
       "      <td>November 06, 2020</td>\n",
       "      <td>Education  experts  are  adamant  that  educat...</td>\n",
       "      <td>https://www.chinadailyhk.com/article/148580#By...</td>\n",
       "    </tr>\n",
       "    <tr>\n",
       "      <th>4</th>\n",
       "      <td>Hong  Kong  at  the  front  in  driving  digit...</td>\n",
       "      <td>November 06, 2020</td>\n",
       "      <td>​The  visionary  digital  yuan  project  offer...</td>\n",
       "      <td>https://www.chinadailyhk.com/article/148580#By...</td>\n",
       "    </tr>\n",
       "    <tr>\n",
       "      <th>...</th>\n",
       "      <td>...</td>\n",
       "      <td>...</td>\n",
       "      <td>...</td>\n",
       "      <td>...</td>\n",
       "    </tr>\n",
       "    <tr>\n",
       "      <th>9970</th>\n",
       "      <td>Strong  start  for  year  takes  Hong  Kong  s...</td>\n",
       "      <td>January 02, 2018</td>\n",
       "      <td>​The  benchmark  Hang  Seng  Index  punches  c...</td>\n",
       "      <td>https://www.chinadailyhk.com/article/148580#By...</td>\n",
       "    </tr>\n",
       "    <tr>\n",
       "      <th>9971</th>\n",
       "      <td>HK  'set  to  reclaim  IPO  crown'</td>\n",
       "      <td>January 02, 2018</td>\n",
       "      <td>PwC  believes  boost  from  dual-class  share ...</td>\n",
       "      <td>https://www.chinadailyhk.com/article/148580#By...</td>\n",
       "    </tr>\n",
       "    <tr>\n",
       "      <th>9972</th>\n",
       "      <td>Government:  Public  assemblies  in  HK  must ...</td>\n",
       "      <td>January 02, 2018</td>\n",
       "      <td>A  spokesman  said  the  govt  fully  respecte...</td>\n",
       "      <td>https://www.chinadailyhk.com/article/148580#By...</td>\n",
       "    </tr>\n",
       "    <tr>\n",
       "      <th>9973</th>\n",
       "      <td>Work  on  main  section  of  bridge  to  end  ...</td>\n",
       "      <td>January 02, 2018</td>\n",
       "      <td>The  principal  section,  a  29.6-kilometer  b...</td>\n",
       "      <td>https://www.chinadailyhk.com/article/148580#By...</td>\n",
       "    </tr>\n",
       "    <tr>\n",
       "      <th>9974</th>\n",
       "      <td>SARs  express  their  optimism  for  2018</td>\n",
       "      <td>January 02, 2018</td>\n",
       "      <td>Hong  Kong  and  Macao  leaders  thank  the  n...</td>\n",
       "      <td>https://www.chinadailyhk.com/article/148580#By...</td>\n",
       "    </tr>\n",
       "  </tbody>\n",
       "</table>\n",
       "<p>9975 rows × 4 columns</p>\n",
       "</div>"
      ],
      "text/plain": [
       "                                                  Title               Date  \\\n",
       "0     ByteDance's  chief  rival  files  for  US$5  b...  November 06, 2020   \n",
       "1           Hong  Kong  shares  down  0.18%  by  midday  November 06, 2020   \n",
       "2            Infrastructure  paves  the  way  to  glory  November 06, 2020   \n",
       "3                    Blended  learning  the  way  ahead  November 06, 2020   \n",
       "4     Hong  Kong  at  the  front  in  driving  digit...  November 06, 2020   \n",
       "...                                                 ...                ...   \n",
       "9970  Strong  start  for  year  takes  Hong  Kong  s...   January 02, 2018   \n",
       "9971                 HK  'set  to  reclaim  IPO  crown'   January 02, 2018   \n",
       "9972  Government:  Public  assemblies  in  HK  must ...   January 02, 2018   \n",
       "9973  Work  on  main  section  of  bridge  to  end  ...   January 02, 2018   \n",
       "9974          SARs  express  their  optimism  for  2018   January 02, 2018   \n",
       "\n",
       "                                                Summary  \\\n",
       "0     Kuaishou  reported  revenue  climbed  48%  to ...   \n",
       "1     Hong  Kong  stocks  lost  46.41  points,  or  ...   \n",
       "2     ​Legendary  builder  Gordon  Wu  Ying-sheung  ...   \n",
       "3     Education  experts  are  adamant  that  educat...   \n",
       "4     ​The  visionary  digital  yuan  project  offer...   \n",
       "...                                                 ...   \n",
       "9970  ​The  benchmark  Hang  Seng  Index  punches  c...   \n",
       "9971  PwC  believes  boost  from  dual-class  share ...   \n",
       "9972  A  spokesman  said  the  govt  fully  respecte...   \n",
       "9973  The  principal  section,  a  29.6-kilometer  b...   \n",
       "9974  Hong  Kong  and  Macao  leaders  thank  the  n...   \n",
       "\n",
       "                                                   Link  \n",
       "0     https://www.chinadailyhk.com/article/148580#By...  \n",
       "1     https://www.chinadailyhk.com/article/148580#By...  \n",
       "2     https://www.chinadailyhk.com/article/148580#By...  \n",
       "3     https://www.chinadailyhk.com/article/148580#By...  \n",
       "4     https://www.chinadailyhk.com/article/148580#By...  \n",
       "...                                                 ...  \n",
       "9970  https://www.chinadailyhk.com/article/148580#By...  \n",
       "9971  https://www.chinadailyhk.com/article/148580#By...  \n",
       "9972  https://www.chinadailyhk.com/article/148580#By...  \n",
       "9973  https://www.chinadailyhk.com/article/148580#By...  \n",
       "9974  https://www.chinadailyhk.com/article/148580#By...  \n",
       "\n",
       "[9975 rows x 4 columns]"
      ]
     },
     "execution_count": 8,
     "metadata": {},
     "output_type": "execute_result"
    }
   ],
   "source": [
    "ChinaDailyDf"
   ]
  },
  {
   "cell_type": "code",
   "execution_count": null,
   "metadata": {},
   "outputs": [],
   "source": []
  }
 ],
 "metadata": {
  "kernelspec": {
   "display_name": "Python 3",
   "language": "python",
   "name": "python3"
  },
  "language_info": {
   "codemirror_mode": {
    "name": "ipython",
    "version": 3
   },
   "file_extension": ".py",
   "mimetype": "text/x-python",
   "name": "python",
   "nbconvert_exporter": "python",
   "pygments_lexer": "ipython3",
   "version": "3.7.6"
  }
 },
 "nbformat": 4,
 "nbformat_minor": 4
}
