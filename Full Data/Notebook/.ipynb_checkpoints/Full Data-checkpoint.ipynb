{
 "cells": [
  {
   "cell_type": "code",
   "execution_count": 1,
   "metadata": {},
   "outputs": [],
   "source": [
    "import pandas as pd\n",
    "\n",
    "#for saving and loading objects\n",
    "import pickle"
   ]
  },
  {
   "cell_type": "code",
   "execution_count": 5,
   "metadata": {},
   "outputs": [
    {
     "name": "stdout",
     "output_type": "stream",
     "text": [
      "ChinaDailyDF.pkl\r\n"
     ]
    }
   ],
   "source": [
    "ls ../../ChinaDaily/Pickles"
   ]
  },
  {
   "cell_type": "markdown",
   "metadata": {},
   "source": [
    "# Create Train/Test Data (Hkfp + ChinaDaily)"
   ]
  },
  {
   "cell_type": "code",
   "execution_count": 36,
   "metadata": {},
   "outputs": [],
   "source": [
    "with open('../../ChinaDaily/Pickles/ChinaDailyDF.pkl', 'rb') as f:\n",
    "    ChinaDailyDf = pickle.load(f)\n",
    "    \n",
    "ChinaDailyDf = ChinaDailyDf.drop(['Date','Summary','Link'], 1)\n",
    "ChinaDailyDf = ChinaDailyDf.sample(2000) \n",
    "ChinaDailyDf['Class'] = 0\n",
    "    \n",
    "with open('../../HKFP/Pickles/HkfpDF.pkl', 'rb') as f:\n",
    "    HkfpDF = pickle.load(f)\n",
    "    \n",
    "HkfpDF = HkfpDF.drop(['Date','Summary','Link','Author'], 1)\n",
    "HkfpDF['Class'] = 1"
   ]
  },
  {
   "cell_type": "code",
   "execution_count": 51,
   "metadata": {},
   "outputs": [],
   "source": [
    "FullDf = pd.concat([HkfpDF, ChinaDailyDf ])\n",
    "FullDf = FullDf.reset_index(drop=True)\n",
    "FullDf.to_csv('../Data/train_test_val_data.csv',index=False)"
   ]
  },
  {
   "cell_type": "markdown",
   "metadata": {},
   "source": [
    "# Create SCMP Data"
   ]
  },
  {
   "cell_type": "code",
   "execution_count": 53,
   "metadata": {},
   "outputs": [],
   "source": [
    "with open('../../SCMP/Pickles/ScmpDF.pkl', 'rb') as f:\n",
    "    ScmpDf = pickle.load(f)\n",
    "    \n",
    "ScmpDf = ScmpDf[~ScmpDf.Topic.str.contains('|'.join(['Hong Kong']))]\n",
    "ScmpDf = ScmpDf.drop(['Date','Link','Author','Topic'], 1)\n",
    "ScmpDf"
   ]
  },
  {
   "cell_type": "code",
   "execution_count": 54,
   "metadata": {},
   "outputs": [],
   "source": [
    "ScmpDf.to_csv('../Data/scmp_data.csv',index=False)"
   ]
  },
  {
   "cell_type": "code",
   "execution_count": null,
   "metadata": {},
   "outputs": [],
   "source": []
  }
 ],
 "metadata": {
  "kernelspec": {
   "display_name": "Python 3",
   "language": "python",
   "name": "python3"
  },
  "language_info": {
   "codemirror_mode": {
    "name": "ipython",
    "version": 3
   },
   "file_extension": ".py",
   "mimetype": "text/x-python",
   "name": "python",
   "nbconvert_exporter": "python",
   "pygments_lexer": "ipython3",
   "version": "3.7.6"
  }
 },
 "nbformat": 4,
 "nbformat_minor": 4
}
