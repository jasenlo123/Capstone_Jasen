{
 "cells": [
  {
   "cell_type": "code",
   "execution_count": 1,
   "metadata": {},
   "outputs": [],
   "source": [
    "#finds site map of entire domain\n",
    "from usp.tree import sitemap_tree_for_homepage\n",
    "\n",
    "#for saving and loading objects\n",
    "import pickle\n",
    "\n",
    "#for accessing url html\n",
    "import requests\n",
    "import urllib.request, urllib.parse, urllib.error\n",
    "from urllib.request import Request, urlopen\n",
    "\n",
    "#for html parsing\n",
    "from bs4 import BeautifulSoup\n",
    "\n",
    "#anxillary functions/methods\n",
    "import numpy as np\n",
    "import pandas as pd\n",
    "import time\n",
    "import random\n",
    "import datetime\n",
    "from dateutil.tz import tzutc, tzoffset\n",
    "from tqdm.notebook import tqdm\n",
    "\n"
   ]
  },
  {
   "cell_type": "markdown",
   "metadata": {},
   "source": [
    "# Sitemap"
   ]
  },
  {
   "cell_type": "code",
   "execution_count": null,
   "metadata": {},
   "outputs": [],
   "source": [
    "tree = sitemap_tree_for_homepage('https://hongkongfp.com/');"
   ]
  },
  {
   "cell_type": "code",
   "execution_count": null,
   "metadata": {},
   "outputs": [],
   "source": [
    "urls = []\n",
    "dates = []\n",
    "for page in tree.all_pages():\n",
    "    urls.append(page.url)\n",
    "    dates.append(page.last_modified)\n",
    "    \n",
    "#transpose\n",
    "zippedList =list(zip(urls,dates))\n",
    "\n",
    "#format into dataframe\n",
    "df = pd.DataFrame(zippedList, columns = ['urls' ,'date'])\n",
    "\n",
    "#drop nan for date published\n",
    "df = df.dropna()\n",
    "        \n",
    "pickle.dump(df, open(\"../Pickles/HKFP_All.p\", \"wb\" ) )\n"
   ]
  },
  {
   "cell_type": "markdown",
   "metadata": {},
   "source": [
    "# Data Scrape"
   ]
  },
  {
   "cell_type": "code",
   "execution_count": 6,
   "metadata": {},
   "outputs": [],
   "source": [
    "#LOAD DATASET OF ALL SCRAPED URLS FROM SCMP\n",
    "with open(\"../Pickles/HKFP_All.p\", 'rb') as f:\n",
    "    df = pickle.load(f)\n",
    "          \n",
    "#reset df index\n",
    "df.reset_index(drop = True)\n",
    "\n",
    "#find articles with \"Articles\" to exclude photos/video pages\n",
    "articles_only_urls = []\n",
    "for i in df.urls:\n",
    "    if '2018' in i or '2019' in i or '2020' in i:\n",
    "        articles_only_urls.append(i)\n",
    "        \n",
    "author = []\n",
    "title = []\n",
    "date = []\n",
    "summary = []\n",
    "link = []\n",
    "broken = []\n",
    "\n",
    "articles_only_urls = list(dict.fromkeys(articles_only_urls))"
   ]
  },
  {
   "cell_type": "code",
   "execution_count": 9,
   "metadata": {},
   "outputs": [
    {
     "data": {
      "application/vnd.jupyter.widget-view+json": {
       "model_id": "b63f788615aa46b3b50f111faaa6a0ed",
       "version_major": 2,
       "version_minor": 0
      },
      "text/plain": [
       "HBox(children=(FloatProgress(value=0.0, max=20.0), HTML(value='')))"
      ]
     },
     "metadata": {},
     "output_type": "display_data"
    },
    {
     "name": "stdout",
     "output_type": "stream",
     "text": [
      "\n"
     ]
    }
   ],
   "source": [
    "#using BS4 to request each video html data\n",
    "for i in tqdm(articles_only_urls[7674:]):\n",
    "    try:\n",
    "        \n",
    "        time.sleep(2) \n",
    "        req = Request(str(i), headers={'User-Agent': 'Mozilla/5.0'})\n",
    "        webpage = urlopen(req).read()\n",
    "        soup = BeautifulSoup(webpage, 'lxml')\n",
    "\n",
    "        by = soup.find(\"a\", {\"class\": \"url fn n\"})\n",
    "        t = soup.find(\"h1\", {\"class\": \"entry-title\"})\n",
    "        d = soup.find(\"time\", {\"class\": \"entry-date published\"})\n",
    "        summ = soup.find(\"div\",{\"class\":\"entry-content\"}).select_one(\"p\")\n",
    "\n",
    "\n",
    "        if by and t and d:\n",
    "            author.append(by.text)\n",
    "            title.append(t.text.strip())\n",
    "            date.append(d.text)\n",
    "            summary.append(summ.text.strip().replace(u'\\xa0', u' '))\n",
    "            link.append(i)\n",
    "\n",
    "            if len(link)% 1000 == 0:\n",
    "                print(\"Dataset contains \" + str(len(link)) + \" entries.\")\n",
    "    except:\n",
    "        print(\"URL number \" + str(articles_only_urls.index(i)) + \" is broken: \" + i )\n",
    "        broken.append(i)\n",
    "        pass"
   ]
  },
  {
   "cell_type": "code",
   "execution_count": 12,
   "metadata": {},
   "outputs": [],
   "source": [
    "df = pd.DataFrame(list(zip(title, author, date, summary, link)), \n",
    "               columns =['Title', 'Author', 'Date', 'Summary','Link']) \n",
    "    \n",
    "\n",
    "with open('../Pickles/HkfpDF.pkl', 'wb') as f:\n",
    "    pickle.dump(df, f)"
   ]
  },
  {
   "cell_type": "markdown",
   "metadata": {},
   "source": [
    "# Data Analysis"
   ]
  },
  {
   "cell_type": "code",
   "execution_count": 11,
   "metadata": {},
   "outputs": [
    {
     "data": {
      "text/html": [
       "<div>\n",
       "<style scoped>\n",
       "    .dataframe tbody tr th:only-of-type {\n",
       "        vertical-align: middle;\n",
       "    }\n",
       "\n",
       "    .dataframe tbody tr th {\n",
       "        vertical-align: top;\n",
       "    }\n",
       "\n",
       "    .dataframe thead th {\n",
       "        text-align: right;\n",
       "    }\n",
       "</style>\n",
       "<table border=\"1\" class=\"dataframe\">\n",
       "  <thead>\n",
       "    <tr style=\"text-align: right;\">\n",
       "      <th></th>\n",
       "      <th>Title</th>\n",
       "      <th>Author</th>\n",
       "      <th>Date</th>\n",
       "      <th>Summary</th>\n",
       "      <th>Link</th>\n",
       "    </tr>\n",
       "  </thead>\n",
       "  <tbody>\n",
       "    <tr>\n",
       "      <th>0</th>\n",
       "      <td>In Pictures: Hundreds protest against Tuen Mun...</td>\n",
       "      <td>Rachel Wong</td>\n",
       "      <td>15:09, 24 February 2020</td>\n",
       "      <td>Hundreds joined a “reclaim Tuen Mun Park” prot...</td>\n",
       "      <td>https://hongkongfp.com/2020/02/24/pictures-hun...</td>\n",
       "    </tr>\n",
       "    <tr>\n",
       "      <th>1</th>\n",
       "      <td>Traces of coronavirus detected in Hong Kong pa...</td>\n",
       "      <td>Kelly Ho</td>\n",
       "      <td>13:00, 28 February 2020</td>\n",
       "      <td>A Hong Kong coronavirus patient’s dog has test...</td>\n",
       "      <td>https://hongkongfp.com/2020/02/28/traces-coron...</td>\n",
       "    </tr>\n",
       "    <tr>\n",
       "      <th>2</th>\n",
       "      <td>China censors report about how authorities hid...</td>\n",
       "      <td>Global Voices</td>\n",
       "      <td>09:00, 7 March 2020</td>\n",
       "      <td>By Oiwan Lam</td>\n",
       "      <td>https://hongkongfp.com/2020/03/07/china-censor...</td>\n",
       "    </tr>\n",
       "    <tr>\n",
       "      <th>3</th>\n",
       "      <td>Community film screenings across Hong Kong mar...</td>\n",
       "      <td>Rachel Wong</td>\n",
       "      <td>20:22, 13 March 2020</td>\n",
       "      <td>Film screenings have been held around Hong Kon...</td>\n",
       "      <td>https://hongkongfp.com/2020/03/13/community-fi...</td>\n",
       "    </tr>\n",
       "    <tr>\n",
       "      <th>4</th>\n",
       "      <td>Hundreds commemorate 15-year-old Hong Kong stu...</td>\n",
       "      <td>Rachel Wong</td>\n",
       "      <td>22:00, 23 March 2020</td>\n",
       "      <td>Hundreds attended an event in Tseung Kwan O an...</td>\n",
       "      <td>https://hongkongfp.com/2020/03/23/hundreds-com...</td>\n",
       "    </tr>\n",
       "    <tr>\n",
       "      <th>...</th>\n",
       "      <td>...</td>\n",
       "      <td>...</td>\n",
       "      <td>...</td>\n",
       "      <td>...</td>\n",
       "      <td>...</td>\n",
       "    </tr>\n",
       "    <tr>\n",
       "      <th>7658</th>\n",
       "      <td>In Pictures: The art of herping in Hong Kong</td>\n",
       "      <td>Chermaine Lee</td>\n",
       "      <td>14:00, 7 November 2020</td>\n",
       "      <td>By Chermaine Lee and Lawrence Hylton</td>\n",
       "      <td>https://hongkongfp.com/2020/11/07/in-pictures-...</td>\n",
       "    </tr>\n",
       "    <tr>\n",
       "      <th>7659</th>\n",
       "      <td>Hong Kong’s arrest of 8 democrats is straight ...</td>\n",
       "      <td>Stephen Vines</td>\n",
       "      <td>14:21, 7 November 2020</td>\n",
       "      <td>The latest police action against Hong Kong’s p...</td>\n",
       "      <td>https://hongkongfp.com/2020/11/07/why-hong-kon...</td>\n",
       "    </tr>\n",
       "    <tr>\n",
       "      <th>7660</th>\n",
       "      <td>Chief Exec. Lam disputes claim journalist’s ar...</td>\n",
       "      <td>Rhoda Kwan</td>\n",
       "      <td>13:55, 7 November 2020</td>\n",
       "      <td>Hong Kong’s Chief Executive Carrie Lam said Fr...</td>\n",
       "      <td>https://hongkongfp.com/2020/11/07/chief-exec-l...</td>\n",
       "    </tr>\n",
       "    <tr>\n",
       "      <th>7661</th>\n",
       "      <td>Democrat Joe Biden wins US election, ending Do...</td>\n",
       "      <td>AFP</td>\n",
       "      <td>00:30, 8 November 2020</td>\n",
       "      <td>by Sebastian Smith</td>\n",
       "      <td>https://hongkongfp.com/2020/11/08/breaking-dem...</td>\n",
       "    </tr>\n",
       "    <tr>\n",
       "      <th>7662</th>\n",
       "      <td>2021 Legislative Elections</td>\n",
       "      <td>Rachel Wong</td>\n",
       "      <td>23:39, 12 November 2020</td>\n",
       "      <td>Beijing has condemned the mass resignation of ...</td>\n",
       "      <td>https://hongkongfp.com/2020-legislative-electi...</td>\n",
       "    </tr>\n",
       "  </tbody>\n",
       "</table>\n",
       "<p>7663 rows × 5 columns</p>\n",
       "</div>"
      ],
      "text/plain": [
       "                                                  Title         Author  \\\n",
       "0     In Pictures: Hundreds protest against Tuen Mun...    Rachel Wong   \n",
       "1     Traces of coronavirus detected in Hong Kong pa...       Kelly Ho   \n",
       "2     China censors report about how authorities hid...  Global Voices   \n",
       "3     Community film screenings across Hong Kong mar...    Rachel Wong   \n",
       "4     Hundreds commemorate 15-year-old Hong Kong stu...    Rachel Wong   \n",
       "...                                                 ...            ...   \n",
       "7658       In Pictures: The art of herping in Hong Kong  Chermaine Lee   \n",
       "7659  Hong Kong’s arrest of 8 democrats is straight ...  Stephen Vines   \n",
       "7660  Chief Exec. Lam disputes claim journalist’s ar...     Rhoda Kwan   \n",
       "7661  Democrat Joe Biden wins US election, ending Do...            AFP   \n",
       "7662                         2021 Legislative Elections    Rachel Wong   \n",
       "\n",
       "                         Date  \\\n",
       "0     15:09, 24 February 2020   \n",
       "1     13:00, 28 February 2020   \n",
       "2         09:00, 7 March 2020   \n",
       "3        20:22, 13 March 2020   \n",
       "4        22:00, 23 March 2020   \n",
       "...                       ...   \n",
       "7658   14:00, 7 November 2020   \n",
       "7659   14:21, 7 November 2020   \n",
       "7660   13:55, 7 November 2020   \n",
       "7661   00:30, 8 November 2020   \n",
       "7662  23:39, 12 November 2020   \n",
       "\n",
       "                                                Summary  \\\n",
       "0     Hundreds joined a “reclaim Tuen Mun Park” prot...   \n",
       "1     A Hong Kong coronavirus patient’s dog has test...   \n",
       "2                                          By Oiwan Lam   \n",
       "3     Film screenings have been held around Hong Kon...   \n",
       "4     Hundreds attended an event in Tseung Kwan O an...   \n",
       "...                                                 ...   \n",
       "7658               By Chermaine Lee and Lawrence Hylton   \n",
       "7659  The latest police action against Hong Kong’s p...   \n",
       "7660  Hong Kong’s Chief Executive Carrie Lam said Fr...   \n",
       "7661                                 by Sebastian Smith   \n",
       "7662  Beijing has condemned the mass resignation of ...   \n",
       "\n",
       "                                                   Link  \n",
       "0     https://hongkongfp.com/2020/02/24/pictures-hun...  \n",
       "1     https://hongkongfp.com/2020/02/28/traces-coron...  \n",
       "2     https://hongkongfp.com/2020/03/07/china-censor...  \n",
       "3     https://hongkongfp.com/2020/03/13/community-fi...  \n",
       "4     https://hongkongfp.com/2020/03/23/hundreds-com...  \n",
       "...                                                 ...  \n",
       "7658  https://hongkongfp.com/2020/11/07/in-pictures-...  \n",
       "7659  https://hongkongfp.com/2020/11/07/why-hong-kon...  \n",
       "7660  https://hongkongfp.com/2020/11/07/chief-exec-l...  \n",
       "7661  https://hongkongfp.com/2020/11/08/breaking-dem...  \n",
       "7662  https://hongkongfp.com/2020-legislative-electi...  \n",
       "\n",
       "[7663 rows x 5 columns]"
      ]
     },
     "execution_count": 11,
     "metadata": {},
     "output_type": "execute_result"
    }
   ],
   "source": [
    "df"
   ]
  },
  {
   "cell_type": "code",
   "execution_count": 8,
   "metadata": {},
   "outputs": [
    {
     "data": {
      "text/plain": [
       "['https://hongkongfp.com/newsletter/hkfp-dim-sum-6-11-union-chief-says-govhk-trying-to-silence-teachers-and-the-2020-hong-kong-diversity-list/',\n",
       " 'https://hongkongfp.com/tag/2018-by-election/',\n",
       " 'https://hongkongfp.com/tag/2018-policy-address/',\n",
       " 'https://hongkongfp.com/tag/2019-district-council-election/',\n",
       " 'https://hongkongfp.com/tag/2019-policy-address/',\n",
       " 'https://hongkongfp.com/tag/2020-coronavirus/',\n",
       " 'https://hongkongfp.com/tag/2020-legislative-council-election/',\n",
       " 'https://hongkongfp.com/tag/2020-policy-address/',\n",
       " 'https://hongkongfp.com/tag/2020-sony-world-photography-awards/',\n",
       " 'https://hongkongfp.com/tag/2020-taiwan-elections/',\n",
       " 'https://hongkongfp.com/tag/2020-us-presidential-elections/',\n",
       " 'https://hongkongfp.com/tag/2020-legco-elections/',\n",
       " 'https://hongkongfp.com/tag/budget-2018/',\n",
       " 'https://hongkongfp.com/tag/budget-2019/',\n",
       " 'https://hongkongfp.com/tag/budget-2020/',\n",
       " 'https://hongkongfp.com/tag/diversity-list-2020/',\n",
       " 'https://hongkongfp.com/tag/gay-games-paris-2018/',\n",
       " 'https://hongkongfp.com/tag/hong-kong-2020/',\n",
       " 'https://hongkongfp.com/tag/hong-kong-pride-parade-2019/',\n",
       " 'https://hongkongfp.com/tag/tankmen2018/',\n",
       " 'https://hongkongfp.com/tag/world-happiness-report-2018/']"
      ]
     },
     "execution_count": 8,
     "metadata": {},
     "output_type": "execute_result"
    }
   ],
   "source": [
    "articles_only_urls[7673:]"
   ]
  },
  {
   "cell_type": "code",
   "execution_count": null,
   "metadata": {},
   "outputs": [],
   "source": []
  }
 ],
 "metadata": {
  "kernelspec": {
   "display_name": "Python 3",
   "language": "python",
   "name": "python3"
  },
  "language_info": {
   "codemirror_mode": {
    "name": "ipython",
    "version": 3
   },
   "file_extension": ".py",
   "mimetype": "text/x-python",
   "name": "python",
   "nbconvert_exporter": "python",
   "pygments_lexer": "ipython3",
   "version": "3.7.6"
  }
 },
 "nbformat": 4,
 "nbformat_minor": 4
}
